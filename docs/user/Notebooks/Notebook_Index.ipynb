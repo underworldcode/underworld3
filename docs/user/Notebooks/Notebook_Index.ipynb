{
 "cells": [
  {
   "cell_type": "markdown",
   "id": "3e09bb55-c60c-402f-b24b-251925da5367",
   "metadata": {},
   "source": [
    "\n",
    "\n",
    "<div style=\"float: right; width: 30%; padding-left:20px;\">\n",
    "<img src=\"media/NotebookScreenshot.png\" width=100%>\n",
    "</div>\n",
    "\n",
    "# Tutorials\n",
    "\n",
    "Underworld is designed to be run in the jupyter notebook environment where you can take advantage of jupyter's rich display capabilities to explore the mathematics of your problem, visualise results and query classes or live objects.\n",
    "\n",
    "You will find it helpful for developing scripts and analysing results. If you use `jupytext` to write notebooks directly as python scripts, then the same notebook codes will run on a parallel machine with no performance penalty.\n",
    "\n",
    "The notebooks are rendered as html pages in this guide. They are distributed with the source code on GitHub and can be run on binder.\n",
    "\n",
    "---\n"
   ]
  },
  {
   "cell_type": "markdown",
   "id": "31afe788-d996-48f7-888c-540b88b3bd79",
   "metadata": {},
   "source": [
    "#### Notebook 1 - Meshes\n",
    "\n",
    "**[Meshes](1-Meshes.ipynb)**: Introduces the mesh discretisation that we use in `Underworld3` and how you can build one of the pre-defined meshes. This notebook also show you how to use the `pyvista` visualisation tools for `Underworld3` objects. The mesh holds information on the mesh geometry, boundaries and coordinate systems."
   ]
  },
  {
   "cell_type": "markdown",
   "id": "5f8ef25c-5246-4e24-93b7-4e0c59880015",
   "metadata": {},
   "source": [
    "#### Notebook 2 - Mesh Variables\n",
    "\n",
    "**[Variables](2-Variables.ipynb)**: Introduces the concept of `MeshVariables` in `Underworld3`. These are both data containers and `sympy` symbolic objects. We show you how to inspect a `meshVariable`, set the data values in the `MeshVariable` and visualise them."
   ]
  },
  {
   "cell_type": "markdown",
   "id": "26b5da69-1292-4988-93e4-591bcf607b32",
   "metadata": {},
   "source": [
    "#### Notebook 3 - Symbols and sympy\n",
    "\n",
    "[Symbols](3-Symbolic_Forms.ipynb): `meshVariables` are `sympy` objects\n",
    "that can be composed with other symbolic objects and evaluated numerically when required. They can also be differentiated. Most importantly, `sympy` can manipulate expressions, simplify them and cancel terms."
   ]
  },
  {
   "cell_type": "markdown",
   "id": "6d091b23-709b-435c-ade1-9822ad09d567",
   "metadata": {},
   "source": [
    "#### Notebook 4 - Example: Diffusion Equation\n",
    "\n",
    "[Diffusion Solver](4-Solvers-i-Poisson.ipynb): Introduces the various solver templates that are available in Underworld, starting with a steady-state diffusion problem. The template requires you to set some constitutive properties and define the unknowns. These are handled through subsitution into symbolic forms and the template equation can be inspected before you need to supply concrete expressions."
   ]
  },
  {
   "cell_type": "markdown",
   "id": "eff58d66-8892-4af6-92b0-c18ee9cd2ad2",
   "metadata": {},
   "source": [
    "#### Notebook 5 - Example: Stokes Equation\n",
    "\n",
    "[Stokes Solver](5-Solvers-ii-Stokes.ipynb): Stokes equation is a more complicated system of equations to solve. This complexity is mostly hidden when you set the problem up. There are some interesting ways to constrain boundary values which are demonstrated using an annulus mesh (curved, free-slip boundaries) and a $\\delta$ function buoyancy source."
   ]
  },
  {
   "cell_type": "markdown",
   "id": "0a400f96-5908-4b60-ba0d-ef188c5a66cd",
   "metadata": {},
   "source": [
    "#### Notebook 6 - Example: Time Dependence\n",
    "\n",
    "[Timestepping](6-Timestepping.ipynb): *Coupled* Stokes flow plus thermal advection-diffusion gives a simple convection solver. The timestepping loop is written by hand because usually you will want to do some analysis or output some checkpoints."
   ]
  },
  {
   "cell_type": "markdown",
   "id": "3b784a04-823e-4a88-9b18-a57f763dbf56",
   "metadata": {},
   "source": [
    "#### Notebook 7 - Example: Navier-Stokes Equation\n",
    "\n",
    "[Unsteady flow](7-Unsteady_Flow.ipynb)   Using a passive swarm to track the pattern of flow developing in a pipe after an impulsive application of a boundary condition at the inflow. Particles need to be added to the passive swarm close to the inflow at each timestep."
   ]
  },
  {
   "cell_type": "markdown",
   "id": "42f43817-0e0b-458b-9c5b-34799fb60487",
   "metadata": {},
   "source": [
    "#### Notebook 8 - Lagrangian Swarm Variables\n",
    "\n",
    "[Swarm Variables](8-Particle_Swarms.ipynb) - exploring how they work for specifying material properties with a swarm used to determine element viscosity. We learn how to use swarm variables in expressions generally and for boundary conditions."
   ]
  },
  {
   "cell_type": "markdown",
   "id": "a7e39f57-b809-4ba6-821d-7bf57883ef32",
   "metadata": {},
   "source": [
    "<!--\n",
    "Notebook 9 - Shear banding\n",
    "\n",
    "-->"
   ]
  },
  {
   "cell_type": "code",
   "execution_count": null,
   "id": "f485a206-2280-4789-8645-93148511562f",
   "metadata": {},
   "outputs": [],
   "source": []
  }
 ],
 "metadata": {
  "kernelspec": {
   "display_name": "Python 3 (ipykernel)",
   "language": "python",
   "name": "python3"
  },
  "language_info": {
   "codemirror_mode": {
    "name": "ipython",
    "version": 3
   },
   "file_extension": ".py",
   "mimetype": "text/x-python",
   "name": "python",
   "nbconvert_exporter": "python",
   "pygments_lexer": "ipython3",
   "version": "3.12.8"
  }
 },
 "nbformat": 4,
 "nbformat_minor": 5
}
