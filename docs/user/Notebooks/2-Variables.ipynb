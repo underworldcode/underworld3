{
 "cells": [
  {
   "cell_type": "markdown",
   "id": "cb4af50b-8394-4cc3-be06-eb580f220bcb",
   "metadata": {
    "execution": {
     "iopub.execute_input": "2024-09-12T00:04:30.730596Z",
     "iopub.status.busy": "2024-09-12T00:04:30.730017Z",
     "iopub.status.idle": "2024-09-12T00:04:30.735681Z",
     "shell.execute_reply": "2024-09-12T00:04:30.734651Z",
     "shell.execute_reply.started": "2024-09-12T00:04:30.730543Z"
    }
   },
   "source": [
    "# Notebook 2: Variables\n",
    "\n",
    "We can add discrete \"variables\" (unknowns associated with the mesh points) to a mesh, assign values to them and build expressions that `sympy` can understand, manipulate and simplify.\n",
    "\n",
    "This notebook introduces the concept of `MeshVariables` in `Underworld3`. These are both data containers and `sympy` symbolic objects. We show you how to inspect a `meshVariable`, set the data values in the `MeshVariable` and visualise them, and build expressions that `sympy` can understand, manipulate and simplify.\n",
    "\n"
   ]
  },
  {
   "cell_type": "code",
   "execution_count": 1,
   "id": "48239b9a-b66c-4339-8c07-4eec79c216d6",
   "metadata": {
    "editable": true,
    "slideshow": {
     "slide_type": ""
    },
    "tags": []
   },
   "outputs": [],
   "source": [
    "#|  echo: false \n",
    "# This is required to fix pyvista \n",
    "# (visualisation) crashes in interactive notebooks (including on binder)\n",
    "\n",
    "import nest_asyncio\n",
    "nest_asyncio.apply()"
   ]
  },
  {
   "cell_type": "code",
   "execution_count": 2,
   "id": "5a4437ff-63ae-4ffa-9f2b-8ec1b8b4baeb",
   "metadata": {
    "editable": true,
    "slideshow": {
     "slide_type": ""
    },
    "tags": []
   },
   "outputs": [],
   "source": [
    "#| output: false # Suppress warnings in html version\n",
    "\n",
    "import underworld3 as uw\n",
    "import numpy as np\n",
    "import sympy"
   ]
  },
  {
   "cell_type": "code",
   "execution_count": 3,
   "id": "51deb47c-0d19-4962-92a9-cda8ce60ee66",
   "metadata": {
    "editable": true,
    "slideshow": {
     "slide_type": ""
    },
    "tags": []
   },
   "outputs": [],
   "source": [
    "mesh = uw.meshing.uw.meshing.CubedSphere(\n",
    "    radiusOuter=1.0,\n",
    "    radiusInner=0.547,\n",
    "    numElements=8,\n",
    "    simplex=True,\n",
    "    verbose=False,\n",
    ")\n",
    "\n",
    "x,y,z = mesh.CoordinateSystem.X\n",
    "r,th,phi = mesh.CoordinateSystem.R\n",
    "r_vec = mesh.CoordinateSystem.unit_e_0\n",
    "th_vec =  mesh.CoordinateSystem.unit_e_1\n",
    "phi_vec =  mesh.CoordinateSystem.unit_e_2\n"
   ]
  },
  {
   "cell_type": "markdown",
   "id": "90261b77-87fb-4a26-a23a-91b19d7827a7",
   "metadata": {},
   "source": [
    "This example shows how we can add a scalar field with a single value associated with each mesh node, and a vector field which has quadratic interpolation (points at the nodes plus interpolating points along mesh edges). "
   ]
  },
  {
   "cell_type": "code",
   "execution_count": 4,
   "id": "82e5784c-7aa9-458f-bcb7-3a28cd73383b",
   "metadata": {},
   "outputs": [],
   "source": [
    "# mesh variable example / test\n",
    "\n",
    "scalar_var = uw.discretisation.MeshVariable(\n",
    "    varname=\"Radius\",\n",
    "    mesh=mesh, \n",
    "    vtype = uw.VarType.SCALAR,\n",
    "    varsymbol=r\"r\"\n",
    ")\n",
    "\n",
    "vector_var = uw.discretisation.MeshVariable(\n",
    "    varname=\"Vertical_Vec\",\n",
    "    mesh=mesh, \n",
    "    degree=2, #quadratic interpolation\n",
    "    vtype = uw.VarType.VECTOR,\n",
    "    varsymbol=r\"\\mathbf{v}\",\n",
    ")\n",
    "\n"
   ]
  },
  {
   "cell_type": "markdown",
   "id": "2e979559-c949-4788-86ca-f0bd44e037c7",
   "metadata": {},
   "source": [
    "To set values of the variable, we first have to unlock it using the `access` context manager, and then we can `evaluate` a function at the coordinates appropriate to fill up each variable. The locking is a `PETSc` requirement which is used to make sure data remains synchronised when we run code in parallel. "
   ]
  },
  {
   "cell_type": "code",
   "execution_count": 5,
   "id": "333ea2f7-1df3-49f5-9f28-0dbebabae49b",
   "metadata": {},
   "outputs": [],
   "source": [
    "with mesh.access(scalar_var, vector_var):\n",
    "    scalar_var.data[:,0] = uw.function.evaluate(r, scalar_var.coords)\n",
    "    vector_var.data[:,:] = uw.function.evaluate(r_vec, vector_var.coords)"
   ]
  },
  {
   "cell_type": "markdown",
   "id": "e574039b-f7ff-4709-9910-9e1fe500bf88",
   "metadata": {},
   "source": [
    "**Prototype:** we can avoid directly interacting with the access context-manager"
   ]
  },
  {
   "cell_type": "code",
   "execution_count": 10,
   "id": "47e560c6-7f7b-4257-b82b-71b357735f63",
   "metadata": {},
   "outputs": [],
   "source": [
    "scalar_var.array[:,0,0] = uw.function.evaluate(r, scalar_var.coords)"
   ]
  },
  {
   "cell_type": "markdown",
   "id": "9385183d-87d8-41e1-a718-36309c73b318",
   "metadata": {},
   "source": [
    "Variables are like most `underworld` and `PETSc` objects - they can be examined using  their `view()` method. The information that you will see is split into the underworld representation (listed under **MeshVariable**) and the PETSc representation (listed under **FE Data** which also includes the numerical values)."
   ]
  },
  {
   "cell_type": "code",
   "execution_count": null,
   "id": "9e778873-9ba9-4778-a0d2-828c1647cf50",
   "metadata": {},
   "outputs": [],
   "source": [
    "scalar_var.view()"
   ]
  },
  {
   "cell_type": "code",
   "execution_count": null,
   "id": "1ad62dad-6247-4818-a7bd-8227fc5ace69",
   "metadata": {
    "editable": true,
    "slideshow": {
     "slide_type": ""
    },
    "tags": []
   },
   "outputs": [],
   "source": [
    "# Visualise it / them\n",
    "\n",
    "import pyvista as pv\n",
    "import underworld3.visualisation as vis\n",
    "\n",
    "pvmesh = vis.mesh_to_pv_mesh(mesh)\n",
    "pvmesh.point_data[\"z\"] = vis.scalar_fn_to_pv_points(pvmesh, mesh.CoordinateSystem.X[2])\n",
    "pvmesh.point_data[\"r\"] = vis.scalar_fn_to_pv_points(pvmesh, scalar_var.sym[0])\n",
    "pvmesh.point_data[\"V\"] = vis.vector_fn_to_pv_points(pvmesh, (1-scalar_var.sym[0]) * vector_var.sym)\n",
    "\n",
    "if mesh.dim==3:\n",
    "    pvmesh_clipped = pvmesh.clip( normal='z', crinkle=False,origin=(0.0,0.0,0.01))\n",
    "\n",
    "# pvmesh.plot(show_edges=True, show_scalar_bar=False)\n",
    "\n",
    "pl = pv.Plotter(window_size=(750, 750))\n",
    "\n",
    "pl.add_mesh(pvmesh_clipped, \n",
    "            show_edges=True,\n",
    "            scalars=\"z\", \n",
    "            opacity=0.6,\n",
    "            show_scalar_bar=False)\n",
    "\n",
    "pl.add_arrows(pvmesh.points, \n",
    "              pvmesh.point_data[\"V\"],\n",
    "              mag=0.25,\n",
    "              opacity=0.6,\n",
    "              color=\"Black\",\n",
    "              show_scalar_bar=False)\n",
    "\n",
    "pl.export_html(\"html5/echidna_plot.html\")"
   ]
  },
  {
   "cell_type": "code",
   "execution_count": null,
   "id": "4754590a-23c4-42d7-ab04-97f6ea8421a9",
   "metadata": {
    "editable": true,
    "slideshow": {
     "slide_type": ""
    },
    "tags": []
   },
   "outputs": [],
   "source": [
    "#| fig-cap: \"Interactive Image: Spherical shell mesh cut away to show radial arrows with length decreasing away from the centre.\"\n",
    "\n",
    "from IPython.display import IFrame\n",
    "IFrame(src=\"html5/echidna_plot.html\", width=600, height=400)"
   ]
  },
  {
   "cell_type": "markdown",
   "id": "b123c610-9734-431b-9505-d4cc8f3e7934",
   "metadata": {
    "editable": true,
    "slideshow": {
     "slide_type": ""
    },
    "tags": []
   },
   "source": [
    "## More information\n",
    "\n",
    "The meshVariable code is described [**API docs** here.](https://underworldcode.github.io/underworld3/development_api/underworld3/discretisation.html#underworld3.discretisation.MeshVariable)"
   ]
  }
 ],
 "metadata": {
  "kernelspec": {
   "display_name": "Python (Pixi)",
   "language": "python",
   "name": "pixi-kernel-python3"
  },
  "language_info": {
   "codemirror_mode": {
    "name": "ipython",
    "version": 3
   },
   "file_extension": ".py",
   "mimetype": "text/x-python",
   "name": "python",
   "nbconvert_exporter": "python",
   "pygments_lexer": "ipython3",
   "version": "3.12.11"
  }
 },
 "nbformat": 4,
 "nbformat_minor": 5
}
