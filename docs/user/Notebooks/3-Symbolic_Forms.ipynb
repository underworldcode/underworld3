{
 "cells": [
  {
   "cell_type": "markdown",
   "id": "cb4af50b-8394-4cc3-be06-eb580f220bcb",
   "metadata": {
    "execution": {
     "iopub.execute_input": "2024-09-12T00:04:30.730596Z",
     "iopub.status.busy": "2024-09-12T00:04:30.730017Z",
     "iopub.status.idle": "2024-09-12T00:04:30.735681Z",
     "shell.execute_reply": "2024-09-12T00:04:30.734651Z",
     "shell.execute_reply.started": "2024-09-12T00:04:30.730543Z"
    }
   },
   "source": [
    "# Notebook 3: Symbolic forms\n",
    "\n",
    "Underworld is deeply integrated with `sympy` [(www.sympy.org)](www.sympy.org) so that any mesh variable can also be used in a sympy expression. We already saw `sympy` expressions for the coordinates and coordinate directions.\n",
    "\n",
    "`meshVariables` can be composed with other symbolic objects and evaluated numerically when required. They can also be differentiated. Most importantly, `sympy` can manipulate expressions, simplify them and cancel terms.\n",
    "\n",
    "In the examples below, we use a simple 2D, Cartesian mesh because it is much simpler to see the various changes.\n"
   ]
  },
  {
   "cell_type": "code",
   "execution_count": 1,
   "id": "48239b9a-b66c-4339-8c07-4eec79c216d6",
   "metadata": {},
   "outputs": [],
   "source": [
    "#|  echo: false \n",
    "# This is required to fix pyvista \n",
    "# (visualisation) crashes in interactive notebooks (including on binder)\n",
    "\n",
    "import nest_asyncio\n",
    "nest_asyncio.apply()"
   ]
  },
  {
   "cell_type": "code",
   "execution_count": 2,
   "id": "5a4437ff-63ae-4ffa-9f2b-8ec1b8b4baeb",
   "metadata": {
    "editable": true,
    "slideshow": {
     "slide_type": ""
    },
    "tags": []
   },
   "outputs": [],
   "source": [
    "import underworld3 as uw\n",
    "import numpy as np\n",
    "import sympy"
   ]
  },
  {
   "cell_type": "code",
   "execution_count": 3,
   "id": "51deb47c-0d19-4962-92a9-cda8ce60ee66",
   "metadata": {},
   "outputs": [],
   "source": [
    "mesh = uw.meshing.UnstructuredSimplexBox(\n",
    "    minCoords = (-1.0, -1.0),\n",
    "    maxCoords = (+1.0, +1.0),\n",
    "    cellSize = 0.05,\n",
    "    regular=True,\n",
    "    verbose=False,\n",
    ")\n",
    "\n",
    "x,y = mesh.CoordinateSystem.X"
   ]
  },
  {
   "cell_type": "markdown",
   "id": "90261b77-87fb-4a26-a23a-91b19d7827a7",
   "metadata": {},
   "source": [
    "As before, we add discrete variables"
   ]
  },
  {
   "cell_type": "code",
   "execution_count": 4,
   "id": "82e5784c-7aa9-458f-bcb7-3a28cd73383b",
   "metadata": {},
   "outputs": [],
   "source": [
    "# mesh variable example / test\n",
    "\n",
    "s = uw.discretisation.MeshVariable(\n",
    "    varname=\"S\",\n",
    "    mesh=mesh, \n",
    "    vtype = uw.VarType.SCALAR,\n",
    "    varsymbol=r\"\\cal{S}\"\n",
    ")\n",
    "\n",
    "t = uw.discretisation.MeshVariable(\n",
    "    varname=\"T\",\n",
    "    mesh=mesh, \n",
    "    vtype = uw.VarType.SCALAR,\n",
    "    varsymbol=r\"\\cal{T}\"\n",
    ")\n",
    "\n",
    "v = uw.discretisation.MeshVariable(\n",
    "    varname=\"V1\",\n",
    "    mesh=mesh, \n",
    "    degree=2,\n",
    "    vtype = uw.VarType.VECTOR,\n",
    "    varsymbol=r\"\\mathbf{v}\",\n",
    ")\n",
    "\n"
   ]
  },
  {
   "cell_type": "markdown",
   "id": "0d7d20a6-22cd-42df-918a-579ed3fa8789",
   "metadata": {},
   "source": [
    "## Symbolic forms, derivatives\n",
    "\n",
    "Variables can be part of complicated `sympy` expressions. It is important to note that all symbols are matrices and `sympy` can be fussy when it comes to operations with other matrices (scalars are not entirely equivalent to $1 \\times 1$ matrices)."
   ]
  },
  {
   "cell_type": "code",
   "execution_count": 5,
   "id": "9dfe76ec-abd0-479e-88b8-a5ee580f4093",
   "metadata": {
    "scrolled": true
   },
   "outputs": [
    {
     "data": {
      "text/latex": [
       "$\\displaystyle { \\hspace{ 0.02pt } {\\cal{S}} }(\\mathbf{x}) + { \\hspace{ 0.02pt } {\\cal{T}} }(\\mathbf{x}) + { \\hspace{ 0.02pt } {\\mathbf{v}} }_{ 0 }(\\mathbf{x})$"
      ],
      "text/plain": [
       "{ \\hspace{ 0.02pt } {\\cal{S}} }(N.x, N.y) + { \\hspace{ 0.02pt } {\\cal{T}} }(N.x, N.y) + { \\hspace{ 0.02pt } {\\mathbf{v}} }_{ 0 }(N.x, N.y)"
      ]
     },
     "execution_count": 5,
     "metadata": {},
     "output_type": "execute_result"
    }
   ],
   "source": [
    "s.sym[0]+t.sym[0] + v.sym[0]"
   ]
  },
  {
   "cell_type": "markdown",
   "id": "b1241470-e5fb-4f5a-8751-4c25b6df741e",
   "metadata": {},
   "source": [
    "Derivatives can be handled explicitly, but the mesh also provides vector operators and these are generally better because they are automatically consistent with the underlying coordinate system for the mesh. \n",
    "\n",
    "For compound expressions of variables, use `mesh.vector.curl(expression)` but for individual variables, `variable.curl()` is an equivalent shorthand."
   ]
  },
  {
   "cell_type": "code",
   "execution_count": 6,
   "id": "697e53f8-74f4-4af7-98c3-9492f281245b",
   "metadata": {},
   "outputs": [
    {
     "data": {
      "text/latex": [
       "$\\displaystyle { \\hspace{ 0.02pt } {\\cal{S}} }_{,0}(\\mathbf{x}) + { \\hspace{ 0.02pt } {\\cal{S}} }_{,1}(\\mathbf{x})$"
      ],
      "text/plain": [
       "{ \\hspace{ 0.02pt } {\\cal{S}} }_{,0}(N.x, N.y) + { \\hspace{ 0.02pt } {\\cal{S}} }_{,1}(N.x, N.y)"
      ]
     },
     "execution_count": 6,
     "metadata": {},
     "output_type": "execute_result"
    }
   ],
   "source": [
    "# grad by hand\n",
    "s.sym[0].diff(x) + s.sym[0].diff(y)"
   ]
  },
  {
   "cell_type": "code",
   "execution_count": 7,
   "id": "33012b7b-c7aa-4982-a9ce-6b08dd854106",
   "metadata": {},
   "outputs": [
    {
     "data": {
      "text/latex": [
       "$\\displaystyle \\left[\\begin{matrix}{ \\hspace{ 0.02pt } {\\cal{S}} }_{,0}(\\mathbf{x}) & { \\hspace{ 0.02pt } {\\cal{S}} }_{,1}(\\mathbf{x})\\end{matrix}\\right]$"
      ],
      "text/plain": [
       "Matrix([[{ \\hspace{ 0.02pt } {\\cal{S}} }_{,0}(N.x, N.y), { \\hspace{ 0.02pt } {\\cal{S}} }_{,1}(N.x, N.y)]])"
      ]
     },
     "execution_count": 7,
     "metadata": {},
     "output_type": "execute_result"
    }
   ],
   "source": [
    "# grad\n",
    "s.gradient()"
   ]
  },
  {
   "cell_type": "code",
   "execution_count": 8,
   "id": "425ea513-2ee3-4bd9-ae7b-77eda5dfa854",
   "metadata": {},
   "outputs": [
    {
     "data": {
      "text/latex": [
       "$\\displaystyle - { \\hspace{ 0.02pt } {\\mathbf{v}} }_{ 0,1}(\\mathbf{x}) + { \\hspace{ 0.02pt } {\\mathbf{v}} }_{ 1,0}(\\mathbf{x})$"
      ],
      "text/plain": [
       "-{ \\hspace{ 0.02pt } {\\mathbf{v}} }_{ 0,1}(N.x, N.y) + { \\hspace{ 0.02pt } {\\mathbf{v}} }_{ 1,0}(N.x, N.y)"
      ]
     },
     "execution_count": 8,
     "metadata": {},
     "output_type": "execute_result"
    }
   ],
   "source": [
    "v.curl()"
   ]
  },
  {
   "cell_type": "code",
   "execution_count": 9,
   "id": "92b7b74e-34c6-4def-bc05-09ae8baf786d",
   "metadata": {},
   "outputs": [
    {
     "data": {
      "text/latex": [
       "$\\displaystyle - { \\hspace{ 0.02pt } {\\cal{S}} }(\\mathbf{x}) { \\hspace{ 0.02pt } {\\mathbf{v}} }_{ 0,1}(\\mathbf{x}) + { \\hspace{ 0.02pt } {\\cal{S}} }(\\mathbf{x}) { \\hspace{ 0.02pt } {\\mathbf{v}} }_{ 1,0}(\\mathbf{x}) + { \\hspace{ 0.02pt } {\\cal{S}} }_{,0}(\\mathbf{x}) { \\hspace{ 0.02pt } {\\mathbf{v}} }_{ 1 }(\\mathbf{x}) - { \\hspace{ 0.02pt } {\\cal{S}} }_{,1}(\\mathbf{x}) { \\hspace{ 0.02pt } {\\mathbf{v}} }_{ 0 }(\\mathbf{x})$"
      ],
      "text/plain": [
       "-{ \\hspace{ 0.02pt } {\\cal{S}} }(N.x, N.y)*{ \\hspace{ 0.02pt } {\\mathbf{v}} }_{ 0,1}(N.x, N.y) + { \\hspace{ 0.02pt } {\\cal{S}} }(N.x, N.y)*{ \\hspace{ 0.02pt } {\\mathbf{v}} }_{ 1,0}(N.x, N.y) + { \\hspace{ 0.02pt } {\\cal{S}} }_{,0}(N.x, N.y)*{ \\hspace{ 0.02pt } {\\mathbf{v}} }_{ 1 }(N.x, N.y) - { \\hspace{ 0.02pt } {\\cal{S}} }_{,1}(N.x, N.y)*{ \\hspace{ 0.02pt } {\\mathbf{v}} }_{ 0 }(N.x, N.y)"
      ]
     },
     "execution_count": 9,
     "metadata": {},
     "output_type": "execute_result"
    }
   ],
   "source": [
    "# curl\n",
    "mesh.vector.curl(s.sym * v.sym)"
   ]
  },
  {
   "cell_type": "code",
   "execution_count": 10,
   "id": "19baf35f-596a-43d3-8cf8-c4bb22ecdbaf",
   "metadata": {},
   "outputs": [
    {
     "data": {
      "text/latex": [
       "$\\displaystyle { \\hspace{ 0.02pt } {\\cal{S}} }_{,0}(\\mathbf{x}) { \\hspace{ 0.02pt } {\\mathbf{v}} }_{ 0 }(\\mathbf{x}) + { \\hspace{ 0.02pt } {\\cal{S}} }_{,1}(\\mathbf{x}) { \\hspace{ 0.02pt } {\\mathbf{v}} }_{ 1 }(\\mathbf{x})$"
      ],
      "text/plain": [
       "{ \\hspace{ 0.02pt } {\\cal{S}} }_{,0}(N.x, N.y)*{ \\hspace{ 0.02pt } {\\mathbf{v}} }_{ 0 }(N.x, N.y) + { \\hspace{ 0.02pt } {\\cal{S}} }_{,1}(N.x, N.y)*{ \\hspace{ 0.02pt } {\\mathbf{v}} }_{ 1 }(N.x, N.y)"
      ]
     },
     "execution_count": 10,
     "metadata": {},
     "output_type": "execute_result"
    }
   ],
   "source": [
    "# v dot grad (scalar)... \n",
    "v.sym.dot(mesh.vector.gradient(s.sym))"
   ]
  },
  {
   "cell_type": "markdown",
   "id": "519f0c54-7215-455c-92a0-88980e03907d",
   "metadata": {},
   "source": [
    "### Underworld Expressions\n",
    "\n",
    "We often want to define symbols that represent complicated expressions\n",
    "which do not want to expand when we probe the mathematical formulation.\n",
    "\n",
    "An example might be a constitutive model that has a number of conditional expressions, \n",
    "or a concept such as a timestep which we want to refer to as $\\delta t$ regardless of\n",
    "its current numerical value. \n",
    "\n",
    "Underworld `expressions` are objects that have a sympy symbolic representation that is\n",
    "only expanded at the time numerical evaluations are required. How about the example above in \n",
    "expression form:\n",
    "\n",
    "```python\n",
    "    curl_sv = uw.function.expression(\n",
    "                    r\"\\nabla \\times \\left(\\cal{S} \\mathbf{v}\\right)\",\n",
    "                    mesh.vector.curl(s.sym * v.sym),\n",
    "                    f\"Curl of {v.symbol}\"\n",
    "                ) \n",
    "```\n",
    "\n",
    "creates an expression object which displays as $\\nabla \\times \\left(\\cal{S} \\mathbf{v}\\right)$\n",
    "but which also has `curl_sv.sym` which is the full expression.\n",
    "\n",
    "**Note:**  like `MeshVariables` expressions have unique names and are persistent objects. They are containers for \n",
    "expressions (in the way `MeshVariables` are containers for numerical information. This means that we can write an\n",
    "expression and change what it represents while it remains part of another expression. \n"
   ]
  },
  {
   "cell_type": "code",
   "execution_count": 11,
   "id": "a848e6d9-f4c4-4e46-9bed-11ce6b2a90e0",
   "metadata": {},
   "outputs": [
    {
     "data": {
      "text/markdown": [
       "**Class**: <class 'underworld3.function.expressions.UWexpression'>"
      ],
      "text/plain": [
       "<IPython.core.display.Markdown object>"
      ]
     },
     "metadata": {},
     "output_type": "display_data"
    },
    {
     "data": {
      "text/latex": [
       "$\\quad$$\\displaystyle \\nabla \\times \\left(\\cal{S} \\mathbf{v}\\right)$$=$$\\displaystyle - { \\hspace{ 0.02pt } {\\cal{S}} }(\\mathbf{x}) { \\hspace{ 0.02pt } {\\mathbf{v}} }_{ 0,1}(\\mathbf{x}) + { \\hspace{ 0.02pt } {\\cal{S}} }(\\mathbf{x}) { \\hspace{ 0.02pt } {\\mathbf{v}} }_{ 1,0}(\\mathbf{x}) + { \\hspace{ 0.02pt } {\\cal{S}} }_{,0}(\\mathbf{x}) { \\hspace{ 0.02pt } {\\mathbf{v}} }_{ 1 }(\\mathbf{x}) - { \\hspace{ 0.02pt } {\\cal{S}} }_{,1}(\\mathbf{x}) { \\hspace{ 0.02pt } {\\mathbf{v}} }_{ 0 }(\\mathbf{x})$"
      ],
      "text/plain": [
       "<IPython.core.display.Latex object>"
      ]
     },
     "metadata": {},
     "output_type": "display_data"
    },
    {
     "data": {
      "text/markdown": [
       "$\\quad$**Description:**  Curl of S * V ..."
      ],
      "text/plain": [
       "<IPython.core.display.Markdown object>"
      ]
     },
     "metadata": {},
     "output_type": "display_data"
    },
    {
     "data": {
      "text/latex": [
       "$\\displaystyle - { \\hspace{ 0.02pt } {\\cal{S}} }(\\mathbf{x}) { \\hspace{ 0.02pt } {\\mathbf{v}} }_{ 0,1}(\\mathbf{x}) + { \\hspace{ 0.02pt } {\\cal{S}} }(\\mathbf{x}) { \\hspace{ 0.02pt } {\\mathbf{v}} }_{ 1,0}(\\mathbf{x}) + { \\hspace{ 0.02pt } {\\cal{S}} }_{,0}(\\mathbf{x}) { \\hspace{ 0.02pt } {\\mathbf{v}} }_{ 1 }(\\mathbf{x}) - { \\hspace{ 0.02pt } {\\cal{S}} }_{,1}(\\mathbf{x}) { \\hspace{ 0.02pt } {\\mathbf{v}} }_{ 0 }(\\mathbf{x})$"
      ],
      "text/plain": [
       "-{ \\hspace{ 0.02pt } {\\cal{S}} }(N.x, N.y)*{ \\hspace{ 0.02pt } {\\mathbf{v}} }_{ 0,1}(N.x, N.y) + { \\hspace{ 0.02pt } {\\cal{S}} }(N.x, N.y)*{ \\hspace{ 0.02pt } {\\mathbf{v}} }_{ 1,0}(N.x, N.y) + { \\hspace{ 0.02pt } {\\cal{S}} }_{,0}(N.x, N.y)*{ \\hspace{ 0.02pt } {\\mathbf{v}} }_{ 1 }(N.x, N.y) - { \\hspace{ 0.02pt } {\\cal{S}} }_{,1}(N.x, N.y)*{ \\hspace{ 0.02pt } {\\mathbf{v}} }_{ 0 }(N.x, N.y)"
      ]
     },
     "metadata": {},
     "output_type": "display_data"
    },
    {
     "data": {
      "text/latex": [
       "$\\displaystyle \\nabla \\times \\left(\\cal{S} \\mathbf{v}\\right) + 1$"
      ],
      "text/plain": [
       "\\nabla \\times \\left(\\cal{S} \\mathbf{v}\\right) + 1"
      ]
     },
     "execution_count": 11,
     "metadata": {},
     "output_type": "execute_result"
    }
   ],
   "source": [
    "curl_sv = uw.function.expression(\n",
    "                    r\"\\nabla \\times \\left(\\cal{S} \\mathbf{v}\\right)\",\n",
    "                    mesh.vector.curl(s.sym * v.sym),\n",
    "                    r\"Curl of S * V ...\"\n",
    "                ) \n",
    "\n",
    "curl_sv.view()\n",
    "display(curl_sv.sym) \n",
    "\n",
    "curl_sv + 1"
   ]
  },
  {
   "cell_type": "code",
   "execution_count": 12,
   "id": "3fc9a3ac-fb5b-4d6d-960c-b08d01a4ef55",
   "metadata": {},
   "outputs": [
    {
     "data": {
      "text/plain": [
       "14435188176"
      ]
     },
     "execution_count": 12,
     "metadata": {},
     "output_type": "execute_result"
    }
   ],
   "source": [
    "# If you run the cell above multiple times, the object id should not change\n",
    "id(curl_sv)"
   ]
  },
  {
   "cell_type": "markdown",
   "id": "847daa10-73d7-4762-8c12-dbc8147d18ba",
   "metadata": {},
   "source": [
    "### Underworld Sub-expressions\n",
    "\n",
    "The viscosity for a material with a yield stress might look like this:\n",
    "\n",
    "$$\n",
    "\\eta_\\textrm{eff} = \\displaystyle \\min\\left({  {\\eta_0} }, \\frac{\\max\\left({ {\\tau_{y}} }, {  {\\tau_{y, \\mathrm{min}}} }\\right)}{2 {  \\dot\\varepsilon_{II} }}\\right)\n",
    "$$\n",
    "\n",
    "where $\\tau_y$ is a scalar yield stress, and $\\dot\\varepsilon_{II}$ is the second invariant\n",
    "of the strain-rate tensor. Each of these would be a nested Underworld `expression`.\n",
    "\n",
    "To expand the expression and see inside, we can use\n",
    "\n",
    "```python\n",
    "    expression.unwrap(keep_constants=True)\n",
    "```\n",
    "\n",
    "which reaches down the hierarchy and recursively replaces any expression with its expanded\n",
    "sympy representation. If a symbol represents a constant value (float, int, or sympy number),\n",
    "then it is only replaced if `keep_constants` is set to `False`. \n"
   ]
  },
  {
   "cell_type": "code",
   "execution_count": 13,
   "id": "b6b219c7-4a80-4904-9f74-0f4f495bd7c0",
   "metadata": {},
   "outputs": [],
   "source": [
    "viscosity = uw.function.expression(\n",
    "                    r\"\\eta_0\",\n",
    "                    sympy.sympify(1),\n",
    "                    rf\"viscosity\"\n",
    "                ) \n",
    "\n",
    "tau_yield = uw.function.expression(\n",
    "                    r\"\\tau_y\",\n",
    "                    sympy.sympify(10),\n",
    "                    rf\"yield stress\"\n",
    "                ) \n",
    "\n",
    "edot_II = uw.function.expression(\n",
    "                    r\"\\dot{\\varepsilon}_{II}\",\n",
    "                    sympy.Symbol('epsilon'),\n",
    "                    rf\"strain rate invariant\"\n",
    "                ) \n",
    "\n",
    "\n",
    "viscosity_eff = uw.function.expression(\n",
    "                    r\"\\eta_\\mathrm{eff}\",\n",
    "                    sympy.Min(viscosity, tau_yield / (2 * edot_II)),\n",
    "                    rf\"Curl of {v.symbol}\"\n",
    "                )\n"
   ]
  },
  {
   "cell_type": "code",
   "execution_count": 14,
   "id": "77d0d45a-782a-4802-84fa-48998601fc21",
   "metadata": {},
   "outputs": [
    {
     "data": {
      "text/latex": [
       "$\\displaystyle \\min\\left(\\eta_{0}, \\frac{\\tau_{y}}{2 \\dot{\\varepsilon}_{II}}\\right)$"
      ],
      "text/plain": [
       "Min(\\eta_0, \\tau_y/(2*\\dot{\\varepsilon}_{II}))"
      ]
     },
     "execution_count": 14,
     "metadata": {},
     "output_type": "execute_result"
    }
   ],
   "source": [
    "viscosity_eff.sym"
   ]
  },
  {
   "cell_type": "code",
   "execution_count": 15,
   "id": "2cca46fa-905a-4e4d-9113-96e5b73e35bc",
   "metadata": {},
   "outputs": [
    {
     "data": {
      "text/latex": [
       "$\\displaystyle \\min\\left(\\eta_{0}, \\frac{\\tau_{y}}{2 \\epsilon}\\right)$"
      ],
      "text/plain": [
       "Min(\\eta_0, \\tau_y/(2*epsilon))"
      ]
     },
     "execution_count": 15,
     "metadata": {},
     "output_type": "execute_result"
    }
   ],
   "source": [
    "viscosity_eff.unwrap(keep_constants=True)"
   ]
  },
  {
   "cell_type": "code",
   "execution_count": 16,
   "id": "c7876609-338a-4831-a02e-8563d6066198",
   "metadata": {},
   "outputs": [
    {
     "data": {
      "text/latex": [
       "$\\displaystyle \\min\\left(1, \\frac{5}{\\epsilon}\\right)$"
      ],
      "text/plain": [
       "Min(1, 5/epsilon)"
      ]
     },
     "execution_count": 16,
     "metadata": {},
     "output_type": "execute_result"
    }
   ],
   "source": [
    "viscosity_eff.unwrap(keep_constants=False)"
   ]
  },
  {
   "cell_type": "markdown",
   "id": "3d5ad71d-9ff0-4523-99f5-cc5223bcf8bb",
   "metadata": {
    "execution": {
     "iopub.execute_input": "2024-09-13T02:05:21.624139Z",
     "iopub.status.busy": "2024-09-13T02:05:21.623702Z",
     "iopub.status.idle": "2024-09-13T02:05:21.743028Z",
     "shell.execute_reply": "2024-09-13T02:05:21.742509Z",
     "shell.execute_reply.started": "2024-09-13T02:05:21.624105Z"
    }
   },
   "source": [
    "Symbolic forms can be evaluated at points in the (meshed domain) using `uw.function.evaluate`. Pure sympy functions can be used to set values in the data container of a `meshVariable` object "
   ]
  },
  {
   "cell_type": "code",
   "execution_count": 17,
   "id": "333ea2f7-1df3-49f5-9f28-0dbebabae49b",
   "metadata": {
    "scrolled": true
   },
   "outputs": [],
   "source": [
    "with mesh.access(s, t):\n",
    "    s.data[:,0] = uw.function.evaluate(sympy.cos(3 * sympy.pi * x)**2 , s.coords)\n",
    "    t.data[:,0] = uw.function.evaluate(sympy.sin(3 * sympy.pi * y)**2 , t.coords)\n"
   ]
  },
  {
   "cell_type": "code",
   "execution_count": 49,
   "id": "9fe329ff-d0ba-44e4-ad00-902ec7304102",
   "metadata": {},
   "outputs": [],
   "source": [
    "fn  = sympy.cos(3 * sympy.pi * x)**2 + s.sym[0] + t.sym[0]\n",
    "a = uw.function.evaluate(fn , np.atleast_2d(mesh._get_domain_centroids()[uw.mpi.rank]))\n",
    "shape = np.atleast_2d(a).shape"
   ]
  },
  {
   "cell_type": "code",
   "execution_count": 50,
   "id": "f6a3b20f-efb1-4824-8813-94b78d29203c",
   "metadata": {},
   "outputs": [
    {
     "data": {
      "text/plain": [
       "(1, 1)"
      ]
     },
     "execution_count": 50,
     "metadata": {},
     "output_type": "execute_result"
    }
   ],
   "source": [
    "shape"
   ]
  },
  {
   "cell_type": "code",
   "execution_count": 42,
   "id": "9b904d82-c473-4bc0-a444-b358889eda0e",
   "metadata": {},
   "outputs": [],
   "source": []
  },
  {
   "cell_type": "code",
   "execution_count": 39,
   "id": "d3a8fd9b-1b26-46d2-8e5a-6a566c594f67",
   "metadata": {},
   "outputs": [
    {
     "data": {
      "text/markdown": [
       "**Class**: <class 'underworld3.discretisation._MeshVariable'>"
      ],
      "text/plain": [
       "<IPython.core.display.Markdown object>"
      ]
     },
     "metadata": {},
     "output_type": "display_data"
    },
    {
     "data": {
      "text/markdown": [
       "**MeshVariable:**"
      ],
      "text/plain": [
       "<IPython.core.display.Markdown object>"
      ]
     },
     "metadata": {},
     "output_type": "display_data"
    },
    {
     "data": {
      "text/markdown": [
       "  > symbol:  ${ \\hspace{ 0.02pt } {\\cal{S}} }$\n",
       "\n",
       "  > shape:   $(1, 1)$\n",
       "\n",
       "  > degree:  $1$\n",
       "\n",
       "  > continuous:  `True`\n",
       "\n",
       "  > type:    `SCALAR`"
      ],
      "text/plain": [
       "<IPython.core.display.Markdown object>"
      ]
     },
     "metadata": {},
     "output_type": "display_data"
    },
    {
     "data": {
      "text/markdown": [
       "**FE Data:**"
      ],
      "text/plain": [
       "<IPython.core.display.Markdown object>"
      ]
     },
     "metadata": {},
     "output_type": "display_data"
    },
    {
     "data": {
      "text/markdown": [
       "\n",
       "  > PETSc field id:  $0$ \n",
       "\n",
       "  > PETSc field name:   `S` "
      ],
      "text/plain": [
       "<IPython.core.display.Markdown object>"
      ]
     },
     "metadata": {},
     "output_type": "display_data"
    },
    {
     "data": {
      "text/plain": [
       "array([[1.        ],\n",
       "       [1.        ],\n",
       "       [1.        ],\n",
       "       ...,\n",
       "       [0.79389263],\n",
       "       [0.79389263],\n",
       "       [0.79389263]])"
      ]
     },
     "metadata": {},
     "output_type": "display_data"
    }
   ],
   "source": []
  },
  {
   "cell_type": "code",
   "execution_count": 36,
   "id": "35668788-b0d7-4412-bc7a-6bd7dafd84ca",
   "metadata": {},
   "outputs": [
    {
     "data": {
      "text/latex": [
       "$\\displaystyle \\min\\left(\\eta_{0}, \\frac{\\tau_{y}}{2 \\dot{\\varepsilon}_{II}}\\right)$"
      ],
      "text/plain": [
       "Min(\\eta_0, \\tau_y/(2*\\dot{\\varepsilon}_{II}))"
      ]
     },
     "execution_count": 36,
     "metadata": {},
     "output_type": "execute_result"
    }
   ],
   "source": [
    "viscosity_eff.sym"
   ]
  },
  {
   "cell_type": "code",
   "execution_count": 51,
   "id": "555dbcb4-ade5-44e8-a7e4-5c59a7700e6c",
   "metadata": {},
   "outputs": [],
   "source": []
  },
  {
   "cell_type": "code",
   "execution_count": 53,
   "id": "8378f7d0-9a4c-4848-a61e-ba4e2c88f9a4",
   "metadata": {},
   "outputs": [
    {
     "data": {
      "text/plain": [
       "array(2.)"
      ]
     },
     "execution_count": 53,
     "metadata": {},
     "output_type": "execute_result"
    }
   ],
   "source": []
  },
  {
   "cell_type": "code",
   "execution_count": 18,
   "id": "2dfdd219-12a9-4049-b913-57795bd0cead",
   "metadata": {},
   "outputs": [
    {
     "data": {
      "text/markdown": [
       "**Class**: <class 'underworld3.discretisation._MeshVariable'>"
      ],
      "text/plain": [
       "<IPython.core.display.Markdown object>"
      ]
     },
     "metadata": {},
     "output_type": "display_data"
    },
    {
     "data": {
      "text/markdown": [
       "**MeshVariable:**"
      ],
      "text/plain": [
       "<IPython.core.display.Markdown object>"
      ]
     },
     "metadata": {},
     "output_type": "display_data"
    },
    {
     "data": {
      "text/markdown": [
       "  > symbol:  ${ \\hspace{ 0.02pt } {\\cal{S}} }$\n",
       "\n",
       "  > shape:   $(1, 1)$\n",
       "\n",
       "  > degree:  $1$\n",
       "\n",
       "  > continuous:  `True`\n",
       "\n",
       "  > type:    `SCALAR`"
      ],
      "text/plain": [
       "<IPython.core.display.Markdown object>"
      ]
     },
     "metadata": {},
     "output_type": "display_data"
    },
    {
     "data": {
      "text/markdown": [
       "**FE Data:**"
      ],
      "text/plain": [
       "<IPython.core.display.Markdown object>"
      ]
     },
     "metadata": {},
     "output_type": "display_data"
    },
    {
     "data": {
      "text/markdown": [
       "\n",
       "  > PETSc field id:  $0$ \n",
       "\n",
       "  > PETSc field name:   `S` "
      ],
      "text/plain": [
       "<IPython.core.display.Markdown object>"
      ]
     },
     "metadata": {},
     "output_type": "display_data"
    },
    {
     "data": {
      "text/plain": [
       "array([[1.        ],\n",
       "       [1.        ],\n",
       "       [1.        ],\n",
       "       ...,\n",
       "       [0.79389263],\n",
       "       [0.79389263],\n",
       "       [0.79389263]])"
      ]
     },
     "metadata": {},
     "output_type": "display_data"
    }
   ],
   "source": [
    "s.view()"
   ]
  },
  {
   "cell_type": "code",
   "execution_count": 19,
   "id": "3f4d24d4-ab30-4c0d-90a8-5293b69a0062",
   "metadata": {
    "editable": true,
    "slideshow": {
     "slide_type": ""
    },
    "tags": []
   },
   "outputs": [],
   "source": [
    "# Visualise it / them\n",
    "\n",
    "import pyvista as pv\n",
    "import underworld3.visualisation as vis\n",
    "\n",
    "pvmesh = vis.mesh_to_pv_mesh(mesh)\n",
    "pvmesh.point_data[\"s\"] = vis.scalar_fn_to_pv_points(pvmesh, s.sym[0])\n",
    "pvmesh.point_data[\"t\"] = vis.scalar_fn_to_pv_points(pvmesh, t.sym[0])\n",
    "pvmesh.point_data[\"sxt\"] = vis.scalar_fn_to_pv_points(pvmesh, s.sym[0]*t.sym[0])\n",
    "\n",
    "pvmesh.warp_by_scalar(scalars=\"sxt\", factor=0.3, normal=(0,0,1), inplace=True)\n",
    "\n",
    "# pvmesh.plot(show_edges=True, show_scalar_bar=False)\n",
    "\n",
    "pl = pv.Plotter(window_size=(750, 750))\n",
    "\n",
    "pl.add_mesh(pvmesh, \n",
    "            show_edges=True,\n",
    "            edge_color=\"#4455FF\",\n",
    "            cmap=\"Greys\",\n",
    "            scalars=\"sxt\", \n",
    "            show_scalar_bar=False)\n",
    "\n",
    "# Save and show the mesh\n",
    "\n",
    "pl.camera_position = 'yz'\n",
    "pl.camera.azimuth = 45\n",
    "pl.camera.elevation = 45\n",
    "\n",
    "pl.export_html(\"html5/sine_squared.html\")"
   ]
  },
  {
   "cell_type": "code",
   "execution_count": 20,
   "id": "0fc6a340-854a-4f66-aa89-a3fcf9d00cb9",
   "metadata": {
    "editable": true,
    "slideshow": {
     "slide_type": ""
    },
    "tags": []
   },
   "outputs": [
    {
     "data": {
      "text/html": [
       "\n",
       "        <iframe\n",
       "            width=\"600\"\n",
       "            height=\"400\"\n",
       "            src=\"html5/sine_squared.html\"\n",
       "            frameborder=\"0\"\n",
       "            allowfullscreen\n",
       "            \n",
       "        ></iframe>\n",
       "        "
      ],
      "text/plain": [
       "<IPython.lib.display.IFrame at 0x32f931700>"
      ]
     },
     "execution_count": 20,
     "metadata": {},
     "output_type": "execute_result"
    }
   ],
   "source": [
    "#| fig-cap: \"Interactive Image: Square mesh of triangular elements on which we evaluated a simple `sympy` function of position\"\n",
    "\n",
    "from IPython.display import IFrame\n",
    "IFrame(src=\"html5/sine_squared.html\", width=600, height=400)\n"
   ]
  },
  {
   "cell_type": "markdown",
   "id": "bce14634-8506-4007-9082-2c208b4c5b8e",
   "metadata": {},
   "source": [
    "#### Lazy evaluation of expressions\n",
    "\n",
    "Generally speaking, we use expressions as placeholders for parameters or functions that we know will be needed when it comes to solve a problem, but we can't be sure that we can specify them at the time we set up the solver. \n",
    "\n",
    "In the code for our solvers, for example, we set up a template with `expressions` that describe where the parameters of the problem will be and we expect you to fill the details in when we create a new solver-object. These template expressions are protected so that assignment just changes the value that the expression holds, it does not change the symbol or the description (though you can do this if you want). \n",
    "\n",
    "This is a rather contrived example:\n"
   ]
  },
  {
   "cell_type": "code",
   "execution_count": 21,
   "id": "337024af-77a1-42c0-80f9-2cfd9636720a",
   "metadata": {},
   "outputs": [],
   "source": [
    "R = uw.function.expression(r\"r\\left( \\mathbf{x} \\right)\",\n",
    "                           sympy.sqrt(x**2+y**2), \n",
    "                           \"distance from origin\")\n",
    "\n",
    "R1 = R + 1\n",
    "\n",
    "S = sympy.sqrt(x**2+y**2)\n",
    "S1 = S + 1\n",
    "               "
   ]
  },
  {
   "cell_type": "code",
   "execution_count": 22,
   "id": "02f4cf6f-5292-4812-bbe5-853e3a13a9c5",
   "metadata": {},
   "outputs": [],
   "source": [
    "R2 = R.sym + 1\n"
   ]
  },
  {
   "cell_type": "code",
   "execution_count": 23,
   "id": "af968f62-84ad-44af-8d54-2c6e0f445b0c",
   "metadata": {},
   "outputs": [
    {
     "data": {
      "text/latex": [
       "$\\displaystyle \\sqrt{\\mathrm{x}^{2} + \\mathrm{y}^{2}} + 1$"
      ],
      "text/plain": [
       "sqrt(N.x**2 + N.y**2) + 1"
      ]
     },
     "execution_count": 23,
     "metadata": {},
     "output_type": "execute_result"
    }
   ],
   "source": [
    "S1"
   ]
  },
  {
   "cell_type": "code",
   "execution_count": 24,
   "id": "db06eb63-a227-4a64-8319-e51cbe7b287f",
   "metadata": {},
   "outputs": [],
   "source": [
    "R.sym = S = sympy.sqrt((x-1)**2 + (y-1)**2)"
   ]
  },
  {
   "cell_type": "code",
   "execution_count": 25,
   "id": "322474f2-369c-4983-9a11-8117f3ca5ade",
   "metadata": {},
   "outputs": [
    {
     "data": {
      "text/latex": [
       "$\\displaystyle \\sqrt{\\left(\\mathrm{x} - 1\\right)^{2} + \\left(\\mathrm{y} - 1\\right)^{2}} + 1$"
      ],
      "text/plain": [
       "sqrt((N.x - 1)**2 + (N.y - 1)**2) + 1"
      ]
     },
     "execution_count": 25,
     "metadata": {},
     "output_type": "execute_result"
    }
   ],
   "source": [
    "uw.function.expressions.unwrap(R1) # Lazy evaluation "
   ]
  },
  {
   "cell_type": "code",
   "execution_count": 26,
   "id": "d1da3f83-8ee6-4f74-959e-d3e90b26d861",
   "metadata": {},
   "outputs": [
    {
     "data": {
      "text/latex": [
       "$\\displaystyle \\sqrt{\\mathrm{x}^{2} + \\mathrm{y}^{2}} + 1$"
      ],
      "text/plain": [
       "sqrt(N.x**2 + N.y**2) + 1"
      ]
     },
     "execution_count": 26,
     "metadata": {},
     "output_type": "execute_result"
    }
   ],
   "source": [
    "uw.function.expressions.unwrap(S1)"
   ]
  },
  {
   "cell_type": "code",
   "execution_count": 27,
   "id": "15544f5d-dcc1-4fb3-8f00-c0f4a171155e",
   "metadata": {},
   "outputs": [
    {
     "data": {
      "text/latex": [
       "$\\displaystyle \\sqrt{\\mathrm{x}^{2} + \\mathrm{y}^{2}} + 1$"
      ],
      "text/plain": [
       "sqrt(N.x**2 + N.y**2) + 1"
      ]
     },
     "execution_count": 27,
     "metadata": {},
     "output_type": "execute_result"
    }
   ],
   "source": [
    "uw.function.expressions.unwrap(R2)"
   ]
  },
  {
   "cell_type": "markdown",
   "id": "b123c610-9734-431b-9505-d4cc8f3e7934",
   "metadata": {},
   "source": [
    "## Exercise 3.1\n",
    "\n",
    "Have a look at the visco-plastic constitutive model (template) for Stokes equation\n",
    "\n",
    "```python\n",
    "stokes_solver = uw.systems.solvers.SNES_Stokes(mesh)\n",
    "stokes_solver.constitutive_model = uw.constitutive_models.ViscoPlasticFlowModel\n",
    "stokes_solver.constitutive_model.Parameters.shear_viscosity_0 = 1\n",
    "stokes_solver.constitutive_model.Parameters.yield_stress = 100\n",
    "```\n",
    "\n",
    "You can examine this expression in more detail using the `view` method of the `stokes_solver.constitutive_model`, and you can expand the expression to see how it reduces when sympy needs to evaluate this expression at one or more locations in the domain.\n",
    "\n",
    "### Exercise 3.2\n",
    "\n",
    "Assignment to an expression object **replaces the sympy value** but does not change the rest of the object. This is the concept of lazy evaluation which we introduced earlier. \n",
    "\n",
    "Validate this using the constititutive model above. Try changing the yield stress or the shear viscosity and\n",
    "see how the expression for the apparent viscosity changes.\n",
    "\n",
    "e.g. \n",
    "\n",
    "```python\n",
    "    stokes_solver.constitutive_model.Parameters.shear_viscosity_0 = sympy.exp(-10 * t.sym[0])\n",
    "    display(stokes_solver.constitutive_model.viscosity)\n",
    "```\n",
    "\n",
    "Actually, that won't look different, will it ? You need to expand out the expressions a bit to see it. Try using\n",
    "`stokes_solver.constitutive_model.viscosity.unwrap()`. This function makes substitutions of all (underworld) sub-expressions in any `sympy` expression. \n",
    "\n",
    "You can pass `keep_constants=False` if you want to expand all the numerical values as well. An expression is considered to be a constant if it contains no sub-expressions, MeshVariables, or mesh-coordinates. We usually do not want to have long floating point numbers all over the place when we check an expression except if it's the values that we want to check.\n",
    "\n",
    "Try it !\n"
   ]
  },
  {
   "cell_type": "code",
   "execution_count": null,
   "id": "59a1273d-ee09-479a-9788-d2e6b399e9b8",
   "metadata": {},
   "outputs": [],
   "source": []
  }
 ],
 "metadata": {
  "kernelspec": {
   "display_name": "Python (Pixi)",
   "language": "python",
   "name": "pixi-kernel-python3"
  },
  "language_info": {
   "codemirror_mode": {
    "name": "ipython",
    "version": 3
   },
   "file_extension": ".py",
   "mimetype": "text/x-python",
   "name": "python",
   "nbconvert_exporter": "python",
   "pygments_lexer": "ipython3",
   "version": "3.12.11"
  }
 },
 "nbformat": 4,
 "nbformat_minor": 5
}
