{
 "cells": [
  {
   "cell_type": "markdown",
   "id": "cb4af50b-8394-4cc3-be06-eb580f220bcb",
   "metadata": {
    "execution": {
     "iopub.execute_input": "2024-09-12T00:04:30.730596Z",
     "iopub.status.busy": "2024-09-12T00:04:30.730017Z",
     "iopub.status.idle": "2024-09-12T00:04:30.735681Z",
     "shell.execute_reply": "2024-09-12T00:04:30.734651Z",
     "shell.execute_reply.started": "2024-09-12T00:04:30.730543Z"
    }
   },
   "source": [
    "\n",
    "# Notebook 1: Meshes\n",
    "\n",
    "<div style=\"float: right; width: 40%\">\n",
    "    \n",
    "![](media/SampleSphericalMesh.png)\n",
    "\n",
    "</div>\n",
    "\n",
    "\n",
    "\n",
    "This notebookIntroduces the mesh discretisation that we use in `Underworld3` and how you can build one of the pre-defined meshes. This notebook also show you how to use the `pyvista` visualisation tools for `Underworld3` objects. The mesh holds information on the mesh geometry, boundaries and coordinate systems and you can attach data to the mesh (see Notebook 2: [Variables](2-Variables.ipynb)). \n"
   ]
  },
  {
   "cell_type": "code",
   "execution_count": 1,
   "id": "48239b9a-b66c-4339-8c07-4eec79c216d6",
   "metadata": {
    "editable": true,
    "slideshow": {
     "slide_type": ""
    },
    "tags": []
   },
   "outputs": [],
   "source": [
    "#|  echo: false\n",
    "\n",
    "# This is required to fix pyvista \n",
    "# (visualisation) crashes in interactive notebooks (including on binder)\n",
    "\n",
    "import nest_asyncio\n",
    "nest_asyncio.apply()"
   ]
  },
  {
   "cell_type": "code",
   "execution_count": 2,
   "id": "5a4437ff-63ae-4ffa-9f2b-8ec1b8b4baeb",
   "metadata": {
    "editable": true,
    "scrolled": true,
    "slideshow": {
     "slide_type": ""
    },
    "tags": []
   },
   "outputs": [],
   "source": [
    "#| output: false # Suppress warnings in html version\n",
    "\n",
    "import underworld3 as uw\n",
    "import numpy as np\n",
    "import sympy"
   ]
  },
  {
   "cell_type": "markdown",
   "id": "9841397c-fdbb-4ab4-9f9d-9cade8320acd",
   "metadata": {},
   "source": [
    "#### Underworld meshing module\n",
    "\n",
    "Underworld can read mesh definition files from the `gmsh` package but there are\n",
    "some constraints on how to specify boundaries if those meshes are to be used\n",
    "to solve numerical problems. \n",
    "\n",
    "The `underworld.meshing` module has a collection of `gmsh` (python) examples for\n",
    "common, simple meshes. "
   ]
  },
  {
   "cell_type": "code",
   "execution_count": 3,
   "id": "1c928d60-24a9-4415-ab22-41834695c70a",
   "metadata": {
    "editable": true,
    "slideshow": {
     "slide_type": ""
    },
    "tags": []
   },
   "outputs": [
    {
     "name": "stdout",
     "output_type": "stream",
     "text": [
      "Constructing UW mesh from gmsh .meshes/uw_cubed_spherical_shell_ro1.0_ri0.547_elts8_plexTrue.msh\n",
      "Mesh refinement levels: 0\n",
      "Mesh coarsening levels: None\n",
      "Populating mesh coordinates CoordinateSystemType.SPHERICAL\n"
     ]
    }
   ],
   "source": [
    "mesh = uw.meshing.uw.meshing.CubedSphere(\n",
    "    radiusOuter=1.0,\n",
    "    radiusInner=0.547,\n",
    "    numElements=8,\n",
    "    refinement=0,\n",
    "    simplex=True,\n",
    "    verbose=True,\n",
    ")"
   ]
  },
  {
   "cell_type": "markdown",
   "id": "83086f33-91bf-473b-bd2e-d51b6a170278",
   "metadata": {},
   "source": [
    "#### Mesh coordinate arrays\n",
    "\n",
    "If you need to check the physical coordinates of the mesh, there\n",
    "is a data array \n",
    "\n",
    "```python\n",
    "    mesh.data\n",
    "```\n",
    "\n",
    "which is a read-only `numpy` view of the coordinates (on the local\n",
    "segment of the mesh when running in parallel)\n"
   ]
  },
  {
   "cell_type": "code",
   "execution_count": 4,
   "id": "b9cfac97-5c19-46b1-aebd-0fb77678b9ed",
   "metadata": {},
   "outputs": [
    {
     "data": {
      "text/plain": [
       "array([[ 0.57735027,  0.57735027, -0.57735027],\n",
       "       [-0.57735027,  0.57735027, -0.57735027],\n",
       "       [-0.57735027, -0.57735027, -0.57735027],\n",
       "       ...,\n",
       "       [ 0.61340251,  0.4866531 ,  0.41538064],\n",
       "       [ 0.56556024,  0.42209717,  0.44274422],\n",
       "       [ 0.51755571,  0.41031492,  0.44421012]])"
      ]
     },
     "execution_count": 4,
     "metadata": {},
     "output_type": "execute_result"
    }
   ],
   "source": [
    "mesh.data"
   ]
  },
  {
   "cell_type": "code",
   "execution_count": null,
   "id": "a7c5dd7e-58d2-45d0-bfc6-eaded6da20f0",
   "metadata": {},
   "outputs": [],
   "source": []
  },
  {
   "cell_type": "markdown",
   "id": "1ed56724-adc5-49c6-a33b-4552b619cb07",
   "metadata": {
    "editable": true,
    "slideshow": {
     "slide_type": ""
    },
    "tags": []
   },
   "source": [
    "There are other pre-built meshes you can try. This is a cuboid divided into regular tetrahedra:\n",
    "\n",
    "```python\n",
    "mesh_usb = uw.meshing.UnstructuredSimplexBox(\n",
    "    minCoords = (-1.0, -1.0, -1.0),\n",
    "    maxCoords = (+1.0, +1.0, +1.0),\n",
    "    cellSize = 0.2,\n",
    "    regular=True,\n",
    "    verbose=False,\n",
    ")\n",
    "```\n",
    "\n",
    "and this is a two-dimensional annulus mesh\n",
    "\n",
    "\n",
    "```python\n",
    "mesh_ann = uw.meshing.Annulus(\n",
    "    radiusOuter=1.0,\n",
    "    radiusInner=0.547,\n",
    "    cellSize= 0.5,\n",
    "    cellSizeOuter=0.033,\n",
    "    cellSizeInner=0.05,\n",
    "    verbose=False,\n",
    ")\n",
    "```\n",
    "\n",
    "The meshing infrastructure for underworld3 is documented here: https://underworldcode.github.io/underworld3/main_api/underworld3/meshing.html"
   ]
  },
  {
   "cell_type": "code",
   "execution_count": 5,
   "id": "1cb8378c-cdb8-4e75-bd12-e85f12169ef7",
   "metadata": {
    "editable": true,
    "slideshow": {
     "slide_type": ""
    },
    "tags": []
   },
   "outputs": [],
   "source": [
    "import pyvista as pv\n",
    "import underworld3.visualisation as vis\n",
    "\n",
    "# Try out each one !\n",
    "\n",
    "pvmesh = vis.mesh_to_pv_mesh(mesh)\n",
    "pvmesh.point_data[\"z\"] = vis.scalar_fn_to_pv_points(pvmesh, mesh.CoordinateSystem.X[2])\n",
    "pvmesh1 = pvmesh.copy()\n",
    "\n",
    "if mesh.dim==3:\n",
    "    pvmesh_c = pvmesh.clip( normal='z', crinkle=True, inplace=False, origin=(0.0,0.0,0.01))\n",
    "\n",
    "pl = pv.Plotter(window_size=(750, 750))\n",
    "pl.add_mesh(pvmesh_c, show_edges=True, show_scalar_bar=False, opacity=1.0)\n",
    "pl.add_mesh(pvmesh1, show_edges=True, show_scalar_bar=False, opacity=0.3)\n",
    "\n",
    "\n",
    "# Save and show the mesh\n",
    "pl.export_html(\"html5/spherical_mesh_plot.html\") "
   ]
  },
  {
   "cell_type": "code",
   "execution_count": 6,
   "id": "fd6cbed0-3159-4c6c-a482-6a9636158854",
   "metadata": {
    "editable": true,
    "slideshow": {
     "slide_type": ""
    },
    "tags": []
   },
   "outputs": [
    {
     "data": {
      "text/html": [
       "\n",
       "        <iframe\n",
       "            width=\"600\"\n",
       "            height=\"400\"\n",
       "            src=\"html5/spherical_mesh_plot.html\"\n",
       "            frameborder=\"0\"\n",
       "            allowfullscreen\n",
       "            \n",
       "        ></iframe>\n",
       "        "
      ],
      "text/plain": [
       "<IPython.lib.display.IFrame at 0x33d867770>"
      ]
     },
     "execution_count": 6,
     "metadata": {},
     "output_type": "execute_result"
    }
   ],
   "source": [
    "#| fig-cap: \"Interactive Image: Spherical shell mesh cut in half and overlain with transparent view of the whole mesh. Cubed sphere discretisation using hexahedral elements\"\n",
    "\n",
    "from IPython.display import IFrame\n",
    "IFrame(src=\"html5/spherical_mesh_plot.html\", width=600, height=400)"
   ]
  },
  {
   "cell_type": "markdown",
   "id": "17bb771f-d60d-420a-8ee3-be8168d1c18d",
   "metadata": {
    "editable": true,
    "slideshow": {
     "slide_type": ""
    },
    "tags": []
   },
   "source": [
    "### Coordinate systems\n",
    "\n",
    "The mesh has an associated \"natural\" coordinate system (usually Cartesian), but it may also have other, more convenient, coordinate systems. \n",
    "\n",
    "For example, the spherical mesh above has a Cartesian coordinate system which is the one used to navigate the mesh and describe the location of each point. It also has a spherical $(r, \\theta, \\phi)$ system which is **symbolic** and can be expanded in terms of the Cartesian coordinates."
   ]
  },
  {
   "cell_type": "code",
   "execution_count": 7,
   "id": "610fdf53-e3c8-462f-82c9-7aef24920a34",
   "metadata": {},
   "outputs": [
    {
     "data": {
      "text/latex": [
       "$\\displaystyle \\left[\\begin{matrix}\\mathrm{x} & \\mathrm{y} & \\mathrm{z}\\end{matrix}\\right]$"
      ],
      "text/plain": [
       "Matrix([[N.x, N.y, N.z]])"
      ]
     },
     "metadata": {},
     "output_type": "display_data"
    },
    {
     "data": {
      "text/latex": [
       "$\\displaystyle \\left[\\begin{matrix}r & \\theta & \\phi\\end{matrix}\\right]$"
      ],
      "text/plain": [
       "Matrix([[r, \\theta, \\phi]])"
      ]
     },
     "metadata": {},
     "output_type": "display_data"
    },
    {
     "data": {
      "text/latex": [
       "$\\displaystyle \\left[\\begin{matrix}\\sqrt{\\mathrm{x}^{2} + \\mathrm{y}^{2} + \\mathrm{z}^{2}} & \\operatorname{acos}{\\left(\\frac{\\mathrm{z}}{\\sqrt{\\mathrm{x}^{2} + \\mathrm{y}^{2} + \\mathrm{z}^{2}}} \\right)} & \\operatorname{atan}_{2}{\\left(\\mathrm{y},\\mathrm{x} \\right)}\\end{matrix}\\right]$"
      ],
      "text/plain": [
       "Matrix([[sqrt(N.x**2 + N.y**2 + N.z**2), acos(N.z/sqrt(N.x**2 + N.y**2 + N.z**2)), atan2(N.y, N.x)]])"
      ]
     },
     "metadata": {},
     "output_type": "display_data"
    }
   ],
   "source": [
    "## The coordinate system\n",
    "\n",
    "X = mesh.CoordinateSystem.X\n",
    "R = mesh.CoordinateSystem.R\n",
    "\n",
    "display(X)\n",
    "display(R)\n",
    "display(uw.function.expression.unwrap(R))"
   ]
  },
  {
   "cell_type": "markdown",
   "id": "6c822a46-70a8-45ff-9e2c-58c8aaada4cd",
   "metadata": {},
   "source": [
    "### Mesh information\n",
    "\n",
    "`mesh.view()` allows you to interrogate the mesh to identify the \n",
    "mesh data structures (which means you can find by name any variable that\n",
    "is automatically constructed by, for example, one of the numerical solvers).\n",
    "\n",
    "It also identifies boundaries of the mesh and their sizes when distributed\n",
    "in parallel. There is a `PETSc` equivalent which is also called and this \n",
    "contains low-level information on the mesh topology."
   ]
  },
  {
   "cell_type": "code",
   "execution_count": 8,
   "id": "141785af-fa2e-48df-9421-535b775d79bc",
   "metadata": {},
   "outputs": [
    {
     "name": "stdout",
     "output_type": "stream",
     "text": [
      "\n",
      "\n",
      "Mesh # 0: .meshes/uw_cubed_spherical_shell_ro1.0_ri0.547_elts8_plexTrue.msh\n",
      "\n"
     ]
    },
    {
     "data": {
      "application/vnd.jupyter.widget-view+json": {
       "model_id": "9b169322ec7d469e81893a05b2cbfffb",
       "version_major": 2,
       "version_minor": 0
      },
      "text/plain": [
       "Widget(value='<iframe src=\"http://localhost:58527/index.html?ui=P_0x33d89cf80_1&reconnect=auto\" class=\"pyvista…"
      ]
     },
     "metadata": {},
     "output_type": "display_data"
    },
    {
     "name": "stdout",
     "output_type": "stream",
     "text": [
      "Number of cells: 7615\n",
      "\n",
      "No variables are defined on the mesh\n",
      "\n",
      "| Boundary Name            | ID    | Min Size | Max Size |\n",
      "| ------------------------------------------------------ |\n",
      "| Lower                    | 1     | 1062     | 1062     |\n",
      "| Upper                    | 2     | 1062     | 1062     |\n",
      "| Null_Boundary            | 666   | 1672     | 1672     |\n",
      "| All_Boundaries           | 1001  | 1536     | 1536     |\n",
      "| All_Boundaries           | 1001  | 1536     | 1536     |\n",
      "| UW_Boundaries            | --    | 5332     | 5332     |\n",
      "| ------------------------------------------------------ |\n",
      "\n",
      "\n",
      "DM Object: uw_.meshes/uw_cubed_spherical_shell_ro1.0_ri0.547_elts8_plexTrue.msh 1 MPI process\n",
      "  type: plex\n",
      "uw_.meshes/uw_cubed_spherical_shell_ro1.0_ri0.547_elts8_plexTrue.msh in 3 dimensions:\n",
      "  Number of 0-cells per rank: 1672\n",
      "  Number of 1-cells per rank: 10053\n",
      "  Number of 2-cells per rank: 15998\n",
      "  Number of 3-cells per rank: 7615\n",
      "Labels:\n",
      "  depth: 4 strata with value/size (0 (1672), 1 (10053), 2 (15998), 3 (7615))\n",
      "  All_Boundaries: 1 strata with value/size (1001 (1536))\n",
      "  Elements: 1 strata with value/size (99999 (7871))\n",
      "  Lower: 1 strata with value/size (1 (1062))\n",
      "  Upper: 1 strata with value/size (2 (1062))\n",
      "  celltype: 4 strata with value/size (0 (1672), 1 (10053), 3 (15998), 6 (7615))\n",
      "  Null_Boundary: 1 strata with value/size (666 (1672))\n",
      "  UW_Boundaries: 4 strata with value/size (1 (1062), 2 (1062), 666 (1672), 1001 (1536))\n"
     ]
    }
   ],
   "source": [
    "mesh.view(1)"
   ]
  },
  {
   "cell_type": "markdown",
   "id": "0c208112-a595-4d47-a5ad-acf3e16f699d",
   "metadata": {},
   "source": [
    "### Mesh deformation\n",
    "\n",
    "You can adjust the coordinates using:\n",
    "\n",
    "```python\n",
    "    mesh.deform(local_coordinate_array)\n",
    "```\n",
    "This rebuilds all the finite element gadgets that live on the mesh but it\n",
    "will not do any remeshing of the points. It is useful for small deformation\n",
    "such as following a free surface but not large-deformation adaptive meshing.\n",
    "\n",
    "See Notebook 8 for a short mesh-deformation example.\n"
   ]
  }
 ],
 "metadata": {
  "kernelspec": {
   "display_name": "Python (Pixi)",
   "language": "python",
   "name": "pixi-kernel-python3"
  },
  "language_info": {
   "codemirror_mode": {
    "name": "ipython",
    "version": 3
   },
   "file_extension": ".py",
   "mimetype": "text/x-python",
   "name": "python",
   "nbconvert_exporter": "python",
   "pygments_lexer": "ipython3",
   "version": "3.12.11"
  }
 },
 "nbformat": 4,
 "nbformat_minor": 5
}
