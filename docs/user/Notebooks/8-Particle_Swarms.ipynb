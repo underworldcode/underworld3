{
 "cells": [
  {
   "cell_type": "markdown",
   "id": "26d2a9ca-c094-40f2-b978-333c14142874",
   "metadata": {},
   "source": [
    "# Notebook 8: Particle Swarms\n",
    "\n",
    "<!--\n",
    "<div style=\"float: right; width: 50%; padding-left:10px;\">\n",
    "<img src=\"media/CompositeImage.png\" width=100%>\n",
    "<caption>\n",
    "<i>\n",
    "    Flow in a pipe with inflow at the left boundary\n",
    "    after 50, 100, 150 timesteps (top to bottom) showing the\n",
    "    progression of the impulsive initial condition. For details,\n",
    "    see the notebook code.\n",
    "</i>\n",
    "</caption>\n",
    "</div>\n",
    "-->\n",
    "\n",
    "We used a particle swarm to track the flow in Example 7. We called this a \"passive\" swarm because the points did not influence the flow in any way but were simply carried along with the fluid. \n",
    "\n",
    "Particle swarms are unstructured data objects that live within the computational domain. Their points can be moved arbitrarily through the domain and points may migrate from one process to another when the coordinates are changed. By default they carry only the particle location, but we can add scalar, vector and tensor variables to the swarm and they will be transported with the particles.\n",
    "\n",
    "Particle transport is usually through a velocity or displacement field that incrementally changes the locations. This is a common use, but particles can be used to represent any unstructured field. For example, during mesh adaptation, the nodal points from the previous mesh are equivalent to a disconnected swarm from the point of view of the new mesh. The same is true when reading data save from one mesh to the `MeshVariables` on another.\n"
   ]
  },
  {
   "cell_type": "code",
   "execution_count": 1,
   "id": "0974f1a1-60dd-4d52-9855-79e8030450e9",
   "metadata": {},
   "outputs": [],
   "source": [
    "#|  echo: false  # Hide in html version\n",
    "\n",
    "# This is required to fix pyvista\n",
    "# (visualisation) crashes in interactive notebooks (including on binder)\n",
    "\n",
    "import nest_asyncio\n",
    "\n",
    "nest_asyncio.apply()"
   ]
  },
  {
   "cell_type": "code",
   "execution_count": 2,
   "id": "dddf1a25-1d89-4c39-90dc-9ca5a45db5dd",
   "metadata": {},
   "outputs": [],
   "source": [
    "#| output: false # Suppress warnings in html version\n",
    "\n",
    "import numpy as np\n",
    "import sympy\n",
    "import underworld3 as uw"
   ]
  },
  {
   "cell_type": "code",
   "execution_count": 3,
   "id": "d17b5f9b-d00e-43c2-ba10-b9a8920aa3be",
   "metadata": {},
   "outputs": [],
   "source": [
    "res = 12\n",
    "width = 8\n",
    "\n",
    "mesh = uw.meshing.UnstructuredSimplexBox(\n",
    "    cellSize=1 / res,\n",
    "    minCoords=(0.0, 0.0),\n",
    "    maxCoords=(width, 1.0),\n",
    "    qdegree=3,\n",
    ")\n",
    "\n",
    "# Coordinate directions etc\n",
    "x, y = mesh.CoordinateSystem.X"
   ]
  },
  {
   "cell_type": "code",
   "execution_count": 4,
   "id": "0bfae0f1-b6e8-45d4-8b02-987915ce1d47",
   "metadata": {},
   "outputs": [],
   "source": [
    "# original y coordinate\n",
    "\n",
    "y0 = uw.discretisation.MeshVariable(\n",
    "    \"Y0\", mesh, vtype=uw.VarType.SCALAR, varsymbol=r\"y_0\"\n",
    ")\n",
    "\n",
    "with mesh.access(y0):\n",
    "    y0.data[:, 0] = uw.function.evaluate(y, y0.coords)"
   ]
  },
  {
   "cell_type": "markdown",
   "id": "ce93e62c-9775-4f57-a1c9-6dc6fe434dca",
   "metadata": {},
   "source": [
    "#### Deform the mesh\n",
    "\n",
    "Move all nodes down to meet an undulating lower surface. The\n",
    "displacement field is smooth and continuous, so there is no \n",
    "particular need to remesh in this case. However, it is generally\n",
    "better to consider either deforming the mesh with `gmsh` before\n",
    "triangulation, or remeshing (both are possible with underworld3, \n",
    "but not as simple to demonstrate)."
   ]
  },
  {
   "cell_type": "code",
   "execution_count": 5,
   "id": "5d0ed583-0e58-4079-a924-410c15297d4d",
   "metadata": {
    "scrolled": true
   },
   "outputs": [
    {
     "data": {
      "text/latex": [
       "$\\displaystyle \\frac{\\left(1 - \\mathrm{y}\\right) \\sin{\\left(\\mathrm{x} \\pi \\right)}}{10}$"
      ],
      "text/plain": [
       "(1 - N.y)*sin(N.x*pi)/10"
      ]
     },
     "metadata": {},
     "output_type": "display_data"
    }
   ],
   "source": [
    "new_coords = mesh.data\n",
    "dy = (1 - y) * (sympy.sin(sympy.pi * x) / 10)\n",
    "new_coords[:, 1] = uw.function.evaluate(y - dy, mesh.data)\n",
    "\n",
    "display(dy)\n",
    "\n",
    "mesh.deform_mesh(new_coords)"
   ]
  },
  {
   "cell_type": "code",
   "execution_count": 7,
   "id": "3a2dd8a5-b391-41d2-9a57-dd2cb18e4ca9",
   "metadata": {},
   "outputs": [
    {
     "name": "stdout",
     "output_type": "stream",
     "text": [
      "Variable with name Y1 already exists on the mesh - Skipping.\n"
     ]
    }
   ],
   "source": [
    "# y coordinate after 1st deformation\n",
    "y1 = uw.discretisation.MeshVariable(\n",
    "    \"Y1\", mesh, vtype=uw.VarType.SCALAR, varsymbol=r\"y_1\"\n",
    ")\n",
    "\n",
    "with mesh.access(y1):\n",
    "    y1.data[:, 0] = uw.function.evaluate(y, y1.coords)"
   ]
  },
  {
   "cell_type": "markdown",
   "id": "150ca88b-d38d-426d-b7b5-99e6cf94ae39",
   "metadata": {},
   "source": [
    "#### Deform the mesh again\n",
    "\n",
    "Now we tilt the lower surface down. The variable `y1` is negative in regions\n",
    "where the surface was low in the deformed mesh so it is a good first approximation\n",
    "to where ponds of dense fluid *might* form (e.g. water under ice)."
   ]
  },
  {
   "cell_type": "code",
   "execution_count": 8,
   "id": "765c02f4-78fa-4c75-958c-c56192e3e37c",
   "metadata": {},
   "outputs": [],
   "source": [
    "new_coords = mesh.data\n",
    "dy = (1 - y) * x / 16\n",
    "new_coords[:, 1] = uw.function.evaluate(y - dy, mesh.data)\n",
    "\n",
    "mesh.deform_mesh(new_coords)"
   ]
  },
  {
   "cell_type": "code",
   "execution_count": 9,
   "id": "c3e1937a-2c8c-46e7-992f-3b74cd991463",
   "metadata": {},
   "outputs": [],
   "source": [
    "if uw.mpi.size == 1:\n",
    "    import pyvista as pv\n",
    "    import underworld3.visualisation as vis\n",
    "\n",
    "    pvmesh = vis.mesh_to_pv_mesh(mesh)\n",
    "    pvmesh.point_data[\"y0\"] = vis.scalar_fn_to_pv_points(pvmesh, y0.sym)\n",
    "    pvmesh.point_data[\"y1\"] = vis.scalar_fn_to_pv_points(pvmesh, y1.sym)\n",
    "\n",
    "    pl = pv.Plotter(window_size=(750, 250))\n",
    "\n",
    "    pl.add_mesh(\n",
    "        pvmesh,\n",
    "        scalars=\"y1\",\n",
    "        cmap=\"RdBu_r\",\n",
    "        edge_color=\"Grey\",\n",
    "        edge_opacity=0.33,\n",
    "        show_edges=True,\n",
    "        use_transparency=False,\n",
    "        opacity=1,\n",
    "        show_scalar_bar=True,\n",
    "    )\n",
    "\n",
    "    pl.camera.zoom(3)"
   ]
  },
  {
   "cell_type": "markdown",
   "id": "60dea34f-e68d-4b92-8b18-544022258d7e",
   "metadata": {},
   "source": [
    "### Add a swarm to this mesh\n",
    "\n",
    "A swarm object can be constructed either by adding local points (Example 7) or by filling the mesh with a given density. The density value that we provide (`fill_param`) adds particles on the Gaussian integration points: 0 will populate the centroids of the mesh elements A value of 1 provides three points per triangle, four per quad, four in a tetrahedron, eight in a hexahedron (the points that support linear interpolation in standard FEM).\n",
    "\n",
    "**Note:** in the current implementation of `underworld` swarm, we an only start adding points when the swarm variables are all finalised.\n"
   ]
  },
  {
   "cell_type": "code",
   "execution_count": 20,
   "id": "82355f5f-f62b-4630-b999-dc79787fda4c",
   "metadata": {},
   "outputs": [
    {
     "name": "stdout",
     "output_type": "stream",
     "text": [
      "Variable with name proxy_S already exists on the mesh - Skipping.\n"
     ]
    }
   ],
   "source": [
    "swarm = uw.swarm.Swarm(mesh)\n",
    "\n",
    "s = uw.swarm.SwarmVariable(\n",
    "    \"S\",\n",
    "    swarm,\n",
    "    vtype=uw.VarType.SCALAR,\n",
    "    proxy_degree=1,\n",
    "    proxy_continuous=True,\n",
    "    varsymbol=r\"\\Sigma\",\n",
    ")\n",
    "\n",
    "## It is a limitation of the swarm that we\n",
    "## can only start adding points when the swarm variables\n",
    "## are all finalised.\n",
    "\n",
    "swarm.populate(0)\n",
    "\n",
    "## Set some values on s\n",
    "\n",
    "with swarm.access(s):\n",
    "    s.data[:, 0] = uw.function.evaluate(y1.sym, swarm.particle_coordinates.data)"
   ]
  },
  {
   "cell_type": "markdown",
   "id": "cbaa361a-388a-45f2-b652-b6769d171ed3",
   "metadata": {},
   "source": [
    "#### Proxy Variables\n",
    "\n",
    "Swarm variables are completely unstructured (they are not located on a grid and they also have no neighbour information). We want to be able to mix their values with mesh-based variables in `sympy` expressions. To do this, each swarm variable has (by default) a *proxy* mesh variable which is constructed through a projection to nodal point values. It is accessed as `SwarmVariable.sym` and, symbolically, it is bracketed $\\left< \\cdot \\right>$ as a reminder that there is a projection in between the values and the representation on the mesh.\n",
    "\n",
    "##### Resolution of proxy variables\n",
    "\n",
    "The default projection method from Lagrangian swarm variables onto nodal point variables is an inverse-distance weighted average computed using the `underworld` radial basis function module. This is robust and reproducible, but does not preserve moments of the particle field. You can explore the effect of different swarm densities on the fidelity of the mesh representation by adjusting the number of particles in the swarm (in the cell above) and checking the resulting fields.\n"
   ]
  },
  {
   "cell_type": "code",
   "execution_count": 21,
   "id": "384bb196-a1ba-4d17-b952-546dd0067f63",
   "metadata": {},
   "outputs": [
    {
     "data": {
      "text/latex": [
       "$\\displaystyle \\left[\\begin{matrix}{ \\hspace{ 0.02pt } {\\left<\\Sigma\\right>} }(\\mathbf{x}) + { \\hspace{ 0.02pt } {y_1} }(\\mathbf{x})\\end{matrix}\\right]$"
      ],
      "text/plain": [
       "Matrix([[{ \\hspace{ 0.02pt } {\\left<\\Sigma\\right>} }(N.x, N.y) + { \\hspace{ 0.02pt } {y_1} }(N.x, N.y)]])"
      ]
     },
     "execution_count": 21,
     "metadata": {},
     "output_type": "execute_result"
    }
   ],
   "source": [
    "s.sym + y1.sym"
   ]
  },
  {
   "cell_type": "code",
   "execution_count": 24,
   "id": "43728b48-ce25-4cde-b6d2-87185479dda5",
   "metadata": {
    "scrolled": true
   },
   "outputs": [],
   "source": [
    "if uw.mpi.size == 1:\n",
    "    import pyvista as pv\n",
    "    import underworld3.visualisation as vis\n",
    "\n",
    "    pvmesh = vis.mesh_to_pv_mesh(mesh)\n",
    "    pvmesh.point_data[\"y0\"] = vis.scalar_fn_to_pv_points(pvmesh, y0.sym)\n",
    "    pvmesh.point_data[\"y1\"] = vis.scalar_fn_to_pv_points(pvmesh, y1.sym)\n",
    "    pvmesh.point_data[\"S\"] = vis.scalar_fn_to_pv_points(pvmesh, s.sym)\n",
    "    pvmesh.point_data[\"delta\"] = vis.scalar_fn_to_pv_points(pvmesh, s.sym - y1.sym)\n",
    "\n",
    "    swarm_points = vis.swarm_to_pv_cloud(swarm)\n",
    "\n",
    "    pl = pv.Plotter(window_size=(750, 250))\n",
    "\n",
    "    pl.add_mesh(\n",
    "        pvmesh,\n",
    "        cmap=\"RdBu_r\",\n",
    "        edge_color=\"Grey\",\n",
    "        scalars=\"S\",\n",
    "        edge_opacity=0.33,\n",
    "        show_edges=True,\n",
    "        use_transparency=False,\n",
    "        opacity=0.75,\n",
    "        show_scalar_bar=True,\n",
    "    )\n",
    "\n",
    "    pl.add_points(\n",
    "        swarm_points.points,\n",
    "        point_size=3,\n",
    "        style=\"points\",\n",
    "        color=\"Black\",\n",
    "        opacity=1,\n",
    "    )\n",
    "\n",
    "    pl.export_html(f\"html5/terrain_flow_mesh_only.html\")"
   ]
  },
  {
   "cell_type": "code",
   "execution_count": 25,
   "id": "0adf1c25-c69d-4853-987a-1e6e5fad30b1",
   "metadata": {},
   "outputs": [
    {
     "data": {
      "text/html": [
       "\n",
       "        <iframe\n",
       "            width=\"750\"\n",
       "            height=\"300\"\n",
       "            src=\"html5/terrain_flow_mesh_only.html\"\n",
       "            frameborder=\"0\"\n",
       "            allowfullscreen\n",
       "            \n",
       "        ></iframe>\n",
       "        "
      ],
      "text/plain": [
       "<IPython.lib.display.IFrame at 0x36c2007d0>"
      ]
     },
     "execution_count": 25,
     "metadata": {},
     "output_type": "execute_result"
    }
   ],
   "source": [
    "#| fig-cap: \"Interactive Image: Convection model output\"\n",
    "from IPython.display import IFrame\n",
    "\n",
    "IFrame(src=f\"html5/terrain_flow_mesh_only.html\", width=750, height=300)"
   ]
  },
  {
   "cell_type": "code",
   "execution_count": 26,
   "id": "377301f7-9596-4216-917f-fc5dca474c0d",
   "metadata": {},
   "outputs": [],
   "source": [
    "# Mesh variables for the unknowns\n",
    "\n",
    "v_soln = uw.discretisation.MeshVariable(\"V0\", mesh, 2, degree=2, varsymbol=r\"{v_0}\")\n",
    "p_soln = uw.discretisation.MeshVariable(\"p\", mesh, 1, degree=1, continuous=True)"
   ]
  },
  {
   "cell_type": "code",
   "execution_count": 27,
   "id": "3f3c3875-4ba1-4e99-a793-3446af229b6d",
   "metadata": {},
   "outputs": [],
   "source": [
    "fixed_base = True\n",
    "\n",
    "\n",
    "stokes = uw.systems.Stokes(\n",
    "    mesh,\n",
    "    velocityField=v_soln,\n",
    "    pressureField=p_soln,\n",
    ")\n",
    "\n",
    "stokes.bodyforce = sympy.Matrix((0, 0))\n",
    "\n",
    "stokes.constitutive_model = uw.constitutive_models.ViscousFlowModel\n",
    "stokes.constitutive_model.Parameters.shear_viscosity_0 = sympy.Piecewise(\n",
    "    (sympy.sympify(1) / 100, s.sym[0] < 0.05),\n",
    "    (\n",
    "        1,\n",
    "        True,\n",
    "    ),\n",
    ")\n",
    "\n",
    "stokes.add_essential_bc((1, 0), \"Top\")\n",
    "\n",
    "if fixed_base == True:\n",
    "    stokes.add_essential_bc((0, 0), \"Bottom\")\n",
    "else:\n",
    "\n",
    "    # Free slip on the (deformed) base below a certain Level:\n",
    "    # 1) Penalise normal velocity below\n",
    "    # 2) Penalise the entire velocity vector above\n",
    "\n",
    "    Gamma = mesh.Gamma\n",
    "    GammaNorm = uw.function.expression(\n",
    "        r\"|\\Gamma|\", sympy.sqrt(Gamma.dot(Gamma)), \"Scaling for surface normals\"\n",
    "    )\n",
    "    GammaN = Gamma / GammaNorm\n",
    "\n",
    "    stokes.add_natural_bc(10000 * v_soln.sym.dot(GammaN) * GammaN, \"Bottom\")\n",
    "\n",
    "stokes.tolerance = 1.0e-4"
   ]
  },
  {
   "cell_type": "code",
   "execution_count": 28,
   "id": "85122b6c-a44d-4253-9eae-c182f1402df2",
   "metadata": {},
   "outputs": [
    {
     "data": {
      "text/latex": [
       "$\\displaystyle \\begin{cases} \\frac{1}{100} & \\text{for}\\: { \\hspace{ 0.02pt } {\\left<\\Sigma\\right>} }(\\mathbf{x}) < 0.05 \\\\1 & \\text{otherwise} \\end{cases}$"
      ],
      "text/plain": [
       "Piecewise((1/100, { \\hspace{ 0.02pt } {\\left<\\Sigma\\right>} }(N.x, N.y) < 0.05), (1, True))"
      ]
     },
     "execution_count": 28,
     "metadata": {},
     "output_type": "execute_result"
    }
   ],
   "source": [
    "stokes.constitutive_model.Parameters.shear_viscosity_0.sym"
   ]
  },
  {
   "cell_type": "code",
   "execution_count": 29,
   "id": "7ecf2fbf-f714-4c5f-9d99-bbe86b462da8",
   "metadata": {},
   "outputs": [],
   "source": [
    "stokes.solve()"
   ]
  },
  {
   "cell_type": "code",
   "execution_count": 30,
   "id": "b1c3f95e-f6ea-49b8-87bd-824587a91336",
   "metadata": {},
   "outputs": [],
   "source": [
    "if uw.mpi.size == 1:\n",
    "    import pyvista as pv\n",
    "    import underworld3.visualisation as vis\n",
    "\n",
    "    pvmesh = vis.mesh_to_pv_mesh(mesh)\n",
    "    pvmesh.point_data[\"S\"] = vis.scalar_fn_to_pv_points(pvmesh, s.sym)\n",
    "    pvmesh.point_data[\"eta\"] = vis.scalar_fn_to_pv_points(\n",
    "        pvmesh, stokes.constitutive_model.Parameters.shear_viscosity_0.sym\n",
    "    )\n",
    "    pvmesh.point_data[\"V\"] = vis.vector_fn_to_pv_points(pvmesh, v_soln.sym)\n",
    "\n",
    "    pvswarm = vis.swarm_to_pv_cloud(swarm)\n",
    "    pvswarm.point_data[\"eta\"] = vis.scalar_fn_to_pv_points(\n",
    "        pvswarm, stokes.constitutive_model.Parameters.shear_viscosity_0.sym\n",
    "    )\n",
    "\n",
    "    pl = pv.Plotter(window_size=(750, 250))\n",
    "\n",
    "    pl.add_mesh(\n",
    "        pvmesh,\n",
    "        cmap=\"RdBu_r\",\n",
    "        edge_color=\"Grey\",\n",
    "        scalars=\"eta\",\n",
    "        edge_opacity=0.33,\n",
    "        show_edges=True,\n",
    "        use_transparency=False,\n",
    "        opacity=0.05,\n",
    "        show_scalar_bar=False,\n",
    "    )\n",
    "\n",
    "    pl.add_points(\n",
    "        pvswarm,\n",
    "        scalars=\"eta\",\n",
    "        cmap=\"Blues_r\",\n",
    "        opacity=0.33,\n",
    "        point_size=5,\n",
    "    )\n",
    "\n",
    "    pl.add_arrows(\n",
    "        pvmesh.points,\n",
    "        pvmesh.point_data[\"V\"],\n",
    "        cmap=\"Greens\",\n",
    "        mag=0.5,\n",
    "        show_scalar_bar=False,\n",
    "    )\n",
    "\n",
    "    pl.export_html(f\"html5/terrain_flow_plot.html\")"
   ]
  },
  {
   "cell_type": "code",
   "execution_count": 31,
   "id": "4948cff8-89da-4822-aee7-f2207aa513b0",
   "metadata": {},
   "outputs": [
    {
     "data": {
      "text/html": [
       "\n",
       "        <iframe\n",
       "            width=\"750\"\n",
       "            height=\"300\"\n",
       "            src=\"html5/terrain_flow_plot.html\"\n",
       "            frameborder=\"0\"\n",
       "            allowfullscreen\n",
       "            \n",
       "        ></iframe>\n",
       "        "
      ],
      "text/plain": [
       "<IPython.lib.display.IFrame at 0x36c7514f0>"
      ]
     },
     "execution_count": 31,
     "metadata": {},
     "output_type": "execute_result"
    }
   ],
   "source": [
    "#| fig-cap: \"Interactive Image: Flow model output\"\n",
    "from IPython.display import IFrame\n",
    "\n",
    "IFrame(src=f\"html5/terrain_flow_plot.html\", width=750, height=300)"
   ]
  },
  {
   "cell_type": "markdown",
   "id": "c3d1d6ff-68ac-46c0-8a47-e29e95fed462",
   "metadata": {},
   "source": [
    "## Exercise - 8.1\n",
    "\n",
    "Look at the Stokes example and try with a free slip base and low / high viscosity for the trapped material. You could also\n",
    "see what mixing the boundary condition looks like: free slip in the troughs, fixed in the highs. This is possible with a \n",
    "single boundary condition if you use `sympy.Piecewise` to switch between different penalty conditions. \n",
    "\n",
    "\n",
    "```python\n",
    "\n",
    "    ## Free slip base (conditional)\n",
    "\n",
    "    Gamma = mesh.Gamma\n",
    "    GammaNorm = uw.function.expression(r\"|\\Gamma|\", sympy.sqrt(Gamma.dot(Gamma)), \"Scaling for surface normals\")\n",
    "    GammaN = Gamma / GammaNorm\n",
    "    \n",
    "    bc_mask = sympy.Piecewise((1.0, y1.sym[0] < -0.05), (0.0, True))\n",
    "    nbc = 10000 * bc_mask * GammaN.dot(v_soln.sym) *  GammaN + (1-bc_mask) * v_soln.sym            \n",
    "    stokes.add_natural_bc(nbc, \"Lower\")\n",
    "```\n",
    "\n",
    "Give that a try !\n",
    "\n"
   ]
  },
  {
   "cell_type": "code",
   "execution_count": null,
   "id": "8f6495e6-2553-4ea7-ab99-0164a72db5db",
   "metadata": {},
   "outputs": [],
   "source": []
  }
 ],
 "metadata": {
  "kernelspec": {
   "display_name": "Python (Pixi)",
   "language": "python",
   "name": "pixi-kernel-python3"
  },
  "language_info": {
   "codemirror_mode": {
    "name": "ipython",
    "version": 3
   },
   "file_extension": ".py",
   "mimetype": "text/x-python",
   "name": "python",
   "nbconvert_exporter": "python",
   "pygments_lexer": "ipython3",
   "version": "3.12.11"
  }
 },
 "nbformat": 4,
 "nbformat_minor": 5
}
