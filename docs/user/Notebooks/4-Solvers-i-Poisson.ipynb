{
 "cells": [
  {
   "cell_type": "markdown",
   "id": "fb335a3c-a82f-47d4-bdb7-66ea8c77a292",
   "metadata": {
    "editable": true,
    "execution": {
     "iopub.execute_input": "2024-09-18T00:47:06.997985Z",
     "iopub.status.busy": "2024-09-18T00:47:06.997695Z",
     "iopub.status.idle": "2024-09-18T00:47:07.003693Z",
     "shell.execute_reply": "2024-09-18T00:47:07.002300Z",
     "shell.execute_reply.started": "2024-09-18T00:47:06.997959Z"
    },
    "slideshow": {
     "slide_type": ""
    },
    "tags": []
   },
   "source": [
    "# Notebook 4: Poisson Equation\n",
    "\n",
    "Introduces the various solver templates that are available in Underworld, starting with a steady-state diffusion problem. The template requires you to set some constitutive properties and define the unknowns. These are handled through subsitution into symbolic forms and the template equation can be inspected before you need to supply concrete expressions.\n",
    "\n",
    "In this example, we solve a steady, non-linear, scalar diffusion equation and show how to recover the fluxes"
   ]
  },
  {
   "cell_type": "code",
   "execution_count": 1,
   "id": "28067190-5d89-401b-8fb6-2702b4fbe3b4",
   "metadata": {
    "editable": true,
    "slideshow": {
     "slide_type": ""
    },
    "tags": []
   },
   "outputs": [],
   "source": [
    "#|  echo: false  # Hide in html version\n",
    "\n",
    "# This is required to fix pyvista \n",
    "# (visualisation) crashes in interactive notebooks (including on binder)\n",
    "\n",
    "import nest_asyncio\n",
    "nest_asyncio.apply()"
   ]
  },
  {
   "cell_type": "code",
   "execution_count": 2,
   "id": "042970c2-ab87-4483-b68c-3fe6b8e633a2",
   "metadata": {
    "editable": true,
    "slideshow": {
     "slide_type": ""
    },
    "tags": []
   },
   "outputs": [],
   "source": [
    "#| output: false # Suppress warnings in html version\n",
    "\n",
    "import underworld3 as uw\n",
    "import numpy as np\n",
    "import sympy"
   ]
  },
  {
   "cell_type": "code",
   "execution_count": 3,
   "id": "dbfb8082-a97b-4955-8891-3ed019c4c421",
   "metadata": {
    "editable": true,
    "slideshow": {
     "slide_type": ""
    },
    "tags": []
   },
   "outputs": [
    {
     "name": "stdout",
     "output_type": "stream",
     "text": [
      "\n",
      "\n",
      "Mesh # 0: .meshes/uw_simplexbox_minC(0.0, 0.0)_maxC(1.0, 1.0)_csize0.08333333333333333_regFalse.msh\n",
      "\n"
     ]
    },
    {
     "data": {
      "application/vnd.jupyter.widget-view+json": {
       "model_id": "379b3e504443467c93ab6fa36aba252f",
       "version_major": 2,
       "version_minor": 0
      },
      "text/plain": [
       "Widget(value='<iframe src=\"http://localhost:51173/index.html?ui=P_0x316288680_0&reconnect=auto\" class=\"pyvista…"
      ]
     },
     "metadata": {},
     "output_type": "display_data"
    },
    {
     "name": "stdout",
     "output_type": "stream",
     "text": [
      "Number of cells: 346\n",
      "\n",
      "No variables are defined on the mesh\n",
      "\n",
      "| Boundary Name            | ID    |\n",
      "| -------------------------------- |\n",
      "| Bottom                   | 11    |\n",
      "| Top                      | 12    |\n",
      "| Right                    | 13    |\n",
      "| Left                     | 14    |\n",
      "| Null_Boundary            | 666   |\n",
      "| All_Boundaries           | 1001  |\n",
      "| All_Boundaries           | 1001  |\n",
      "| UW_Boundaries            | --    |\n",
      "| -------------------------------- |\n",
      "\n",
      "\n",
      "Use view(1) to view detailed mesh information.\n",
      "\n"
     ]
    }
   ],
   "source": [
    "mesh = uw.meshing.UnstructuredSimplexBox(\n",
    "    minCoords=(0.0, 0.0), maxCoords=(1.0, 1.0), cellSize=1 / 12, qdegree=3\n",
    ")\n",
    "\n",
    "x, y = mesh.X\n",
    "\n",
    "mesh.view()"
   ]
  },
  {
   "cell_type": "code",
   "execution_count": 4,
   "id": "d2ac5182-8b9f-4852-8e2e-4b0a16808ad0",
   "metadata": {
    "editable": true,
    "slideshow": {
     "slide_type": ""
    },
    "tags": []
   },
   "outputs": [],
   "source": [
    "# mesh variables\n",
    "\n",
    "t_soln = uw.discretisation.MeshVariable(\"T\", mesh, 1, degree=3)\n",
    "dTdY = uw.discretisation.MeshVariable(\n",
    "    r\"dTdY\", mesh, 1, degree=2,\n",
    "    varsymbol=r\"\\partial T/\\partial y\")\n"
   ]
  },
  {
   "cell_type": "markdown",
   "id": "d4a41be4-4e06-4373-aaa0-47c9ae3b998a",
   "metadata": {},
   "source": [
    "### The Poisson (Diffusion) Solver\n",
    "\n",
    "There are a number of pre-defined *solver systems* defined in `underworld3` \n",
    "which are templates for orchestrating the underlying PETSc objects. \n",
    "A solver requires us to define the unknown in the form of `meshVariables`, \n",
    "provide boundary conditions, a constitutive model, \n",
    "and provide `uw.functions` to define constitutive\n",
    "properties, and driving terms.\n",
    "\n",
    "We will use the `Poisson` solver for the diffusion equation, and we will \n",
    "use a `Projection` solver to compute the vertical gradient term. \n",
    "\n",
    "The `Projection` solvers compute the `meshVariable` representation of the right hand side of the equation (potentially \n",
    "requiring some smoothing to regularise the problem). This is required when computing numerical values of gradients, for\n",
    "example, where the values are often not formally defined on the mesh points of the `meshVariable`. This can also be used to\n",
    "transfer information from discontinous variables to continuous representations when you need to visualise a field.\n",
    "\n",
    "The solver classes themselves (the templates for specific solvers) are separately documented, so we can figure out what \n",
    "is needed before we define anything:\n"
   ]
  },
  {
   "cell_type": "code",
   "execution_count": 5,
   "id": "4dc10f34-02b3-48cc-9d5c-ecae856d4046",
   "metadata": {},
   "outputs": [
    {
     "data": {
      "text/markdown": [
       "\n",
       "# Poisson Equation Solver\n",
       "\n",
       "This class provides functionality for a discrete representation\n",
       "of the Poisson equation\n",
       "\n",
       "$$\n",
       "\\nabla \\cdot\n",
       "        \\color{Blue}{\\underbrace{\\Bigl[ \\boldsymbol\\kappa \\nabla u \\Bigr]}_{\\mathbf{F}}} =\n",
       "        \\color{Maroon}{\\underbrace{\\Bigl[ f \\Bigl] }_{\\mathbf{h}}}\n",
       "$$\n",
       "\n",
       "The term $\\mathbf{F}$ relates the flux to gradients in the unknown $u$\n",
       "\n",
       "## Properties\n",
       "\n",
       "  - The unknown is $u$\n",
       "\n",
       "  - The diffusivity tensor, $\\kappa$ is provided by setting the `constitutive_model` property to\n",
       "one of the scalar `uw.constitutive_models` classes and populating the parameters.\n",
       "It is usually a constant or a function of position / time and may also be non-linear\n",
       "or anisotropic.\n",
       "\n",
       "  - $f$ is a volumetric source term\n"
      ],
      "text/plain": [
       "<IPython.core.display.Markdown object>"
      ]
     },
     "metadata": {},
     "output_type": "display_data"
    }
   ],
   "source": [
    "uw.systems.Poisson.view()"
   ]
  },
  {
   "cell_type": "code",
   "execution_count": 6,
   "id": "6795df8b-707e-471e-b935-19a15c58d749",
   "metadata": {},
   "outputs": [
    {
     "data": {
      "text/markdown": [
       "\n",
       "# Projection Solver\n",
       "\n",
       "Solves $u = \\tilde{f}$ where $\\tilde{f}$ is a function that can be evaluated within an element and\n",
       "$u$ is a `meshVariable` with associated shape functions. Typically, the projection is used to obtain a\n",
       "continuous representation of a function that is not well defined at the mesh nodes. For example, functions of\n",
       "the spatial derivatives of one or more `meshVariable` (e.g. components of fluxes) can be mapped to continuous\n",
       "variables with a projection. More broadly it is a projection from one basis to another and its limitations should be\n",
       "evaluated within that context.\n",
       "\n",
       "The projection implemented by creating a solver for this problem\n",
       "\n",
       "$$\n",
       "-\\nabla \\cdot\n",
       "        \\color{Blue}{\\underbrace{\\Bigl[ \\boldsymbol\\alpha \\nabla u \\Bigr]}_{\\mathbf{F}}} -\n",
       "        \\color{Maroon}{\\underbrace{\\Bigl[ u - \\tilde{f} \\Bigl] }_{\\mathbf{h}}} = 0\n",
       "$$\n",
       "\n",
       "Where the term $\\mathbf{F}$ provides a smoothing regularization. $\\alpha$ can be zero.\n"
      ],
      "text/plain": [
       "<IPython.core.display.Markdown object>"
      ]
     },
     "metadata": {},
     "output_type": "display_data"
    }
   ],
   "source": [
    "uw.systems.Projection.view()"
   ]
  },
  {
   "cell_type": "markdown",
   "id": "bec72bde-7e9b-4243-977d-af2abf84b31c",
   "metadata": {},
   "source": [
    "### Constitutive Models\n",
    "\n",
    "Most of the solvers require a constitutive model to be provided and its\n",
    "parameters populated. This is to allow flexibility in defining / redefining \n",
    "solvers during a model calculation.\n",
    "\n",
    "We need a diffusion model. We can look at the documentation first. "
   ]
  },
  {
   "cell_type": "code",
   "execution_count": 7,
   "id": "96e571d8-68d6-4ebd-8233-f0fa2bebfe27",
   "metadata": {},
   "outputs": [
    {
     "data": {
      "text/markdown": [
       "\n",
       "```python\n",
       "class DiffusionModel(Constitutive_Model)\n",
       "...\n",
       "```\n",
       "```python\n",
       "diffusion_model = DiffusionModel(dim)\n",
       "diffusion_model.material_properties = diffusion_model.Parameters(diffusivity=diffusivity_fn)\n",
       "scalar_solver.constititutive_model = diffusion_model\n",
       "```\n",
       "$$q_{i} = \\kappa_{ij} \\cdot \\frac{\\partial \\phi}{\\partial x_j}$$\n",
       "\n",
       "where $\\kappa$ is a diffusivity, a scalar constant, `sympy` function, `underworld` mesh variable or\n",
       "any valid combination of those types. Access the constitutive model using:\n",
       "\n",
       "```python\n",
       "flux = diffusion_model.flux(gradient_matrix)\n",
       "```\n",
       "---\n"
      ],
      "text/plain": [
       "<IPython.core.display.Markdown object>"
      ]
     },
     "metadata": {},
     "output_type": "display_data"
    }
   ],
   "source": [
    "uw.constitutive_models.DiffusionModel.view()"
   ]
  },
  {
   "cell_type": "markdown",
   "id": "8911b4d4-ec12-4416-b07b-9c6be8ad26de",
   "metadata": {},
   "source": [
    "### Problem setup\n",
    "\n",
    "We will make the problem \"interesting\" by defining a non-linear diffusivity\n",
    "\n",
    "$$\n",
    "    \\kappa = \\kappa_0 + \\left| \\nabla T \\right |^2\n",
    "$$\n",
    "\n",
    "and apply a zero source term, non-zero boundary conditions on the top and bottom surfaces.\n",
    "The names of the boundaries of the mesh can be found by looking at `mesh.view()` above."
   ]
  },
  {
   "cell_type": "code",
   "execution_count": 8,
   "id": "5fa9112a-7900-44ee-9c2e-1e887792bf13",
   "metadata": {
    "editable": true,
    "slideshow": {
     "slide_type": ""
    },
    "tags": []
   },
   "outputs": [],
   "source": [
    "# The steady-state diffusion\n",
    "\n",
    "poisson = uw.systems.Poisson(mesh, u_Field=t_soln)\n",
    "poisson.constitutive_model = uw.constitutive_models.DiffusionModel\n",
    "\n",
    "# Non-linear diffusivity\n",
    "\n",
    "delT = mesh.vector.gradient(t_soln.sym)\n",
    "k =  1 - (delT.dot(delT)) \n",
    "\n",
    "abs_r2 = x**2 + y**2\n",
    "poisson.f = -abs_r2\n",
    "\n",
    "# Essential boundary conditions\n",
    "\n",
    "poisson.add_essential_bc([0], \"Bottom\")\n",
    "poisson.add_essential_bc([1], \"Top\"  )\n",
    "\n",
    "# Create Projection solver for gradient terms \n",
    "\n",
    "gradient = uw.systems.Projection(mesh, dTdY)\n",
    "gradient.uw_function = t_soln.sym.diff(y)\n",
    "gradient.smoothing = 1.0e-6\n",
    "\n",
    "# Linear model - starting guess\n",
    "\n",
    "poisson.constitutive_model.Parameters.diffusivity = 1\n",
    "poisson.solve(zero_init_guess=True)\n",
    "\n",
    "# Solve time\n",
    "poisson.constitutive_model.Parameters.diffusivity = k\n",
    "poisson.solve(zero_init_guess=False)\n",
    "\n",
    "# Solve the gradient\n",
    "gradient.solve()\n"
   ]
  },
  {
   "cell_type": "markdown",
   "id": "07158c60-7404-4387-962e-0a64d29127f4",
   "metadata": {},
   "source": [
    "#### Non-linear problems, Jacobian\n",
    "\n",
    "This is a non-linear problem and has a non-zero Jacobian ($\\partial F / \\partial \\nabla T )$. \n",
    "It's a little bit hidden, but is available if you feel like checking:"
   ]
  },
  {
   "cell_type": "code",
   "execution_count": 9,
   "id": "b27c04cd-7192-446b-86e5-3f5a1867045a",
   "metadata": {},
   "outputs": [
    {
     "data": {
      "text/latex": [
       "$\\displaystyle \\left[\\begin{matrix}- 3 { \\hspace{ 0.02pt } {T} }_{,0}^{ 2 }(\\mathbf{x}) - { \\hspace{ 0.02pt } {T} }_{,1}^{ 2 }(\\mathbf{x}) + 1 & - 2 { \\hspace{ 0.02pt } {T} }_{,0}(\\mathbf{x}) { \\hspace{ 0.02pt } {T} }_{,1}(\\mathbf{x})\\\\- 2 { \\hspace{ 0.02pt } {T} }_{,0}(\\mathbf{x}) { \\hspace{ 0.02pt } {T} }_{,1}(\\mathbf{x}) & - { \\hspace{ 0.02pt } {T} }_{,0}^{ 2 }(\\mathbf{x}) - 3 { \\hspace{ 0.02pt } {T} }_{,1}^{ 2 }(\\mathbf{x}) + 1\\end{matrix}\\right]$"
      ],
      "text/plain": [
       "Matrix([\n",
       "[-3*{ \\hspace{ 0.02pt } {T} }_{,0}(N.x, N.y)**2 - { \\hspace{ 0.02pt } {T} }_{,1}(N.x, N.y)**2 + 1,             -2*{ \\hspace{ 0.02pt } {T} }_{,0}(N.x, N.y)*{ \\hspace{ 0.02pt } {T} }_{,1}(N.x, N.y)],\n",
       "[            -2*{ \\hspace{ 0.02pt } {T} }_{,0}(N.x, N.y)*{ \\hspace{ 0.02pt } {T} }_{,1}(N.x, N.y), -{ \\hspace{ 0.02pt } {T} }_{,0}(N.x, N.y)**2 - 3*{ \\hspace{ 0.02pt } {T} }_{,1}(N.x, N.y)**2 + 1]])"
      ]
     },
     "metadata": {},
     "output_type": "display_data"
    }
   ],
   "source": [
    "display(poisson._G3)"
   ]
  },
  {
   "cell_type": "code",
   "execution_count": 10,
   "id": "6dccf566-8505-4a6e-94a7-f2869b73e3ff",
   "metadata": {
    "editable": true,
    "slideshow": {
     "slide_type": ""
    },
    "tags": []
   },
   "outputs": [],
   "source": [
    "from mpi4py import MPI\n",
    "\n",
    "if MPI.COMM_WORLD.size == 1:\n",
    "    \n",
    "    import pyvista as pv\n",
    "    import underworld3.visualisation as vis\n",
    "\n",
    "    pvmesh = vis.mesh_to_pv_mesh(mesh)\n",
    "    pvmesh.point_data[\"T\"] = vis.scalar_fn_to_pv_points(pvmesh, t_soln.sym)\n",
    "    pvmesh.point_data[\"dTdY\"] = vis.scalar_fn_to_pv_points(pvmesh, dTdY.sym)\n",
    "\n",
    "    pl = pv.Plotter(window_size=(1000, 500), shape=(1, 2))\n",
    "\n",
    "    pl.subplot(0, 0)\n",
    "\n",
    "    pl.add_mesh(\n",
    "        pvmesh,\n",
    "        cmap=\"coolwarm\",\n",
    "        edge_color=\"Black\",\n",
    "        show_edges=True,\n",
    "        scalars=\"T\",\n",
    "        use_transparency=False,\n",
    "        opacity=1,\n",
    "        show_scalar_bar=True,\n",
    "    )\n",
    "\n",
    "    pl.subplot(0, 1)\n",
    "\n",
    "    pl.add_mesh(\n",
    "        pvmesh,\n",
    "        cmap=\"coolwarm\",\n",
    "        edge_color=\"Black\",\n",
    "        show_edges=True,\n",
    "        scalars=\"dTdY\",\n",
    "        use_transparency=False,\n",
    "        opacity=1,\n",
    "        scalar_bar_args=dict(vertical=False)\n",
    "\n",
    "    )\n",
    "\n",
    "    pl.export_html(\"html5/temperature_plot.html\")"
   ]
  },
  {
   "cell_type": "code",
   "execution_count": 11,
   "id": "4bf2b002-3efd-4f02-907b-c68430f282af",
   "metadata": {
    "editable": true,
    "slideshow": {
     "slide_type": ""
    },
    "tags": []
   },
   "outputs": [
    {
     "data": {
      "text/html": [
       "\n",
       "        <iframe\n",
       "            width=\"600\"\n",
       "            height=\"300\"\n",
       "            src=\"html5/temperature_plot.html\"\n",
       "            frameborder=\"0\"\n",
       "            allowfullscreen\n",
       "            \n",
       "        ></iframe>\n",
       "        "
      ],
      "text/plain": [
       "<IPython.lib.display.IFrame at 0x337f5a720>"
      ]
     },
     "execution_count": 11,
     "metadata": {},
     "output_type": "execute_result"
    }
   ],
   "source": [
    "#| fig-cap: \"Interactive Image: Square mesh of triangular elements on which we evaluated a non-linear diffusion problem and the vertical gradient of the solution\"\n",
    "\n",
    "from IPython.display import IFrame\n",
    "IFrame(src=\"html5/temperature_plot.html\", width=600, height=300)"
   ]
  },
  {
   "cell_type": "markdown",
   "id": "b9f93fa6-c526-4d95-8869-8b3dba746030",
   "metadata": {
    "editable": true,
    "slideshow": {
     "slide_type": ""
    },
    "tags": []
   },
   "source": [
    "# Exercise 4.1\n",
    "\n",
    "Since diffusivity, $\\kappa$, depends on the gradient of temperature, it also needs to be calculated using a projection to the mesh nodes. You can use the computation for $\\partial T / \\partial y$ as a template to calculate and plot $\\kappa$, or you can compute the vertical flux term and plot that."
   ]
  }
 ],
 "metadata": {
  "kernelspec": {
   "display_name": "Python (Pixi)",
   "language": "python",
   "name": "pixi-kernel-python3"
  },
  "language_info": {
   "codemirror_mode": {
    "name": "ipython",
    "version": 3
   },
   "file_extension": ".py",
   "mimetype": "text/x-python",
   "name": "python",
   "nbconvert_exporter": "python",
   "pygments_lexer": "ipython3",
   "version": "3.12.11"
  }
 },
 "nbformat": 4,
 "nbformat_minor": 5
}
