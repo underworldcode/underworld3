{
 "cells": [
  {
   "cell_type": "markdown",
   "id": "0978d394-b87b-4843-be8c-3fa137b9a7bf",
   "metadata": {
    "editable": true,
    "slideshow": {
     "slide_type": ""
    },
    "tags": []
   },
   "source": [
    "# Notebook 5: Stokes Equation\n",
    "\n",
    "In this example, we solve the Stokes equation for buoyancy-driven, incompressible flow in a creeping, viscous fluid.\n",
    "\n",
    "$$\n",
    "-\\nabla \\cdot\n",
    "    \\left[\n",
    "            \\boldsymbol{\\tau} -  p \\mathbf{I} \\right] =\n",
    "     \\rho \\mathbf{g} \n",
    "$$\n",
    "\n",
    "$$\n",
    "\\nabla \\cdot \\mathbf{u} = 0\n",
    "$$\n",
    "\n",
    "$p$ is pressure.  The constitutive law expresses the deviatoric stress ( $\\boldsymbol{\\tau}$ ) in terms of the velocity ($\\mathbf{u}$) gradients ( $\\nabla \\mathbf{u}$ ) through a viscosity tensor, $\\eta$. $p$ is pressure.  \n",
    "\n",
    "$$\n",
    "\\boldsymbol{\\tau} = \\frac{\\eta}{2}\\left( \\nabla \\mathbf{u} + \\nabla \\mathbf{u}^T \\right)\n",
    "$$\n",
    "\n",
    "A classical problem in geodynamics, is to solve this equation for harmonic forcing at one specific depth (the Greens function or kernels) for which analytic solutions are available in various geometries (e.g. Parsons & Daly, 1981). \n",
    "\n",
    "We have pre-built meshes in `underworld3` that have embedded internal surfaces where we can apply the harmonic forcing. This allows us to compute the flow kernels. We'll use a cylindrical\n",
    "annulus this time and we'll use free-slip boundary conditions throughout\n",
    "\n",
    "\n"
   ]
  },
  {
   "cell_type": "code",
   "execution_count": 2,
   "id": "553d4c43-7c4d-4652-ae37-5255f9cc275d",
   "metadata": {
    "editable": true,
    "slideshow": {
     "slide_type": ""
    },
    "tags": []
   },
   "outputs": [],
   "source": [
    "#|  echo: false  # Hide in html version\n",
    "\n",
    "# This is required to fix pyvista \n",
    "# (visualisation) crashes in interactive notebooks (including on binder)\n",
    "\n",
    "import nest_asyncio\n",
    "nest_asyncio.apply()"
   ]
  },
  {
   "cell_type": "code",
   "execution_count": 3,
   "id": "0678b0d7-bc26-4a29-b306-f2575c16814d",
   "metadata": {
    "editable": true,
    "slideshow": {
     "slide_type": ""
    },
    "tags": []
   },
   "outputs": [],
   "source": [
    "#| output: false # Suppress warnings in html version\n",
    "\n",
    "import underworld3 as uw\n",
    "import numpy as np\n",
    "import sympy"
   ]
  },
  {
   "cell_type": "code",
   "execution_count": 4,
   "id": "6086e207-43c2-4c6d-ad95-717100eca4c3",
   "metadata": {},
   "outputs": [],
   "source": [
    "res = 0.075\n",
    "r_o = 1.0\n",
    "r_int = 0.825\n",
    "r_i = 0.55"
   ]
  },
  {
   "cell_type": "code",
   "execution_count": 5,
   "id": "ba20e3bb-2e8d-4e33-a79a-a2768bb2af58",
   "metadata": {
    "editable": true,
    "scrolled": true,
    "slideshow": {
     "slide_type": ""
    },
    "tags": []
   },
   "outputs": [],
   "source": [
    "meshball = uw.meshing.AnnulusInternalBoundary(radiusOuter=r_o, \n",
    "                                              radiusInternal=r_int, \n",
    "                                              radiusInner=r_i, \n",
    "                                              cellSize_Inner=res,\n",
    "                                              cellSize_Internal=res*0.5,\n",
    "                                              cellSize_Outer=res,\n",
    "                                              centre=False,)\n",
    "# meshball.view()\n",
    "\n",
    "x, y = meshball.CoordinateSystem.X\n",
    "r, th = meshball.CoordinateSystem.xR\n",
    "unit_rvec = meshball.CoordinateSystem.unit_e_0\n",
    "\n",
    "\n",
    "# Orientation of surface normals\n",
    "Gamma_N = unit_rvec\n",
    "\n"
   ]
  },
  {
   "cell_type": "markdown",
   "id": "1ab12249-d1ff-4e2a-b167-f3b3ed34d20c",
   "metadata": {},
   "source": [
    "### Solver setup\n",
    "\n",
    "We can obtain unit vectors in the natural coordinate system (here $r$, $\\theta$) as `mesh.CoordinateSystem.unit_e_0`, `mesh.CoordinateSystem.unit_e_1`. There is a null space if we apply the boundary conditions exactly, and so we define a function to represent the null space. \n",
    "\n",
    "We can set solver options via the `petsc_options` interface on the solver. `PETSc` provides an enormous variety of solver configurations\n",
    "and options that can be set. Their [Guide to Stokes Equation](https://petsc.org/main/tutorials/physics/guide_to_stokes/) is an illustration of the complexity of the problem and the difficulty in trying to set up a good one-size-fits-all default configuration, particularly when moving to parallel examples. \n"
   ]
  },
  {
   "cell_type": "code",
   "execution_count": 6,
   "id": "bddfc407-7622-45f0-b5b5-50d72ada879e",
   "metadata": {},
   "outputs": [],
   "source": [
    "# Create a density structure / buoyancy force\n",
    "# gravity will vary linearly from zero at the centre\n",
    "# of the sphere to (say) 1 at the surface\n",
    "\n",
    "\n",
    "# Null space in velocity (constant v_theta) expressed in x,y coordinates\n",
    "v_theta_fn_xy = r * meshball.CoordinateSystem.rRotN.T * sympy.Matrix((0,1))\n",
    "\n",
    "# Mesh variables for the unknowns\n",
    "\n",
    "v_soln = uw.discretisation.MeshVariable(\"V0\", meshball, 2, degree=2, varsymbol=r\"{v_0}\")\n",
    "p_soln = uw.discretisation.MeshVariable(\"p\", meshball, 1, degree=1, continuous=True)\n",
    "\n",
    "stokes = uw.systems.Stokes(\n",
    "    meshball, \n",
    "    velocityField=v_soln, \n",
    "    pressureField=p_soln,\n",
    ")\n",
    "\n",
    "stokes.constitutive_model = uw.constitutive_models.ViscousFlowModel\n",
    "stokes.constitutive_model.Parameters.shear_viscosity_0 = 1\n",
    "stokes.tolerance = 1.0e-6\n",
    "\n",
    "stokes.petsc_options.setValue(\"ksp_monitor\", None)\n",
    "stokes.petsc_options.setValue(\"snes_monitor\", None)\n",
    "stokes.petsc_options[\"fieldsplit_velocity_mg_coarse_pc_type\"] = \"svd\""
   ]
  },
  {
   "cell_type": "code",
   "execution_count": 10,
   "id": "acbf4533-4716-4d1f-b174-ad25052231b8",
   "metadata": {},
   "outputs": [
    {
     "data": {
      "text/markdown": [
       "\n",
       "# Stokes Equation Solver\n",
       "\n",
       "This class provides functionality for a discrete representation\n",
       "of the Stokes flow equations assuming an incompressibility\n",
       "(or near-incompressibility) constraint.\n",
       "\n",
       "$$\n",
       "-\\nabla \\cdot\n",
       "        \\color{Blue}{\\underbrace{\\Bigl[\n",
       "                \\boldsymbol{\\tau} -  p \\mathbf{I} \\Bigr]}_{\\mathbf{F}}} =\n",
       "        \\color{Maroon}{\\underbrace{\\Bigl[ \\mathbf{f} \\Bigl] }_{\\mathbf{h}}}\n",
       "$$\n",
       "\n",
       "$$\n",
       "\\underbrace{\\Bigl[ \\nabla \\cdot \\mathbf{u} \\Bigr]}_{\\mathbf{h}_p} = 0\n",
       "$$\n",
       "\n",
       "The flux term is a deviatoric stress ( $\\boldsymbol{\\tau}$ ) related to velocity gradients\n",
       "  ( $\\nabla \\mathbf{u}$ ) through a viscosity tensor, $\\eta$, and a volumetric (pressure) part $p$\n",
       "\n",
       "$$\n",
       "    \\mathbf{F}: \\quad \\boldsymbol{\\tau} = \\frac{\\eta}{2}\\left( \\nabla \\mathbf{u} + \\nabla \\mathbf{u}^T \\right)\n",
       "$$\n",
       "\n",
       "The constraint equation, $\\mathbf{h}_p = 0$ gives incompressible flow by default but can be set\n",
       "to any function of the unknown  $\\mathbf{u}$ and  $\\nabla\\cdot\\mathbf{u}$\n",
       "\n",
       "## Properties\n",
       "\n",
       "  - The unknowns are velocities $\\mathbf{u}$ and a pressure-like constraint parameter $\\mathbf{p}$\n",
       "\n",
       "  - The viscosity tensor, $\\boldsymbol{\\eta}$ is provided by setting the `constitutive_model` property to\n",
       "one of the scalar `uw.constitutive_models` classes and populating the parameters.\n",
       "It is usually a constant or a function of position / time and may also be non-linear\n",
       "or anisotropic.\n",
       "\n",
       "  - $\\mathbf f$ is a volumetric source term (i.e. body forces)\n",
       "  and is set by providing the `bodyforce` property.\n",
       "\n",
       "  - An Augmented Lagrangian approach to application of the incompressibility\n",
       "constraint is to penalise incompressibility in the Stokes equation by adding\n",
       "$ \\lambda \\nabla \\cdot \\mathbf{u} $ when the weak form of the equations is constructed.\n",
       "(this is in addition to the constraint equation, unlike in the classical penalty method).\n",
       "This is activated by setting the `penalty` property to a non-zero floating point value which adds\n",
       "the term in the `sympy` expression.\n",
       "\n",
       "  - A preconditioner is usually required for the saddle point system and this is provided\n",
       "through the `saddle_preconditioner` property. The default choice is $1/\\eta$ for a scalar viscosity function.\n",
       "\n",
       "## Notes\n",
       "\n",
       "  - For problems with viscoelastic behaviour, the flux term contains the stress history as well as the\n",
       "    stress and this term is a Lagrangian quantity that has to be tracked on a particle swarm.\n",
       "\n",
       "  - The interpolation order of the `pressureField` variable is used to determine the integration order of\n",
       "the mixed finite element method and is usually lower than the order of the `velocityField` variable.\n",
       "\n",
       "  - It is possible to set discontinuous pressure variables by setting the `p_continous` option to `False`\n",
       "\n"
      ],
      "text/plain": [
       "<IPython.core.display.Markdown object>"
      ]
     },
     "metadata": {},
     "output_type": "display_data"
    }
   ],
   "source": [
    "uw.systems.Stokes.view()"
   ]
  },
  {
   "cell_type": "code",
   "execution_count": 7,
   "id": "b10f6bf4-64f7-49b8-816a-bcde6bb0e7b2",
   "metadata": {},
   "outputs": [
    {
     "data": {
      "text/markdown": [
       "**Class**: <class 'underworld3.systems.solvers.SNES_Stokes'>"
      ],
      "text/plain": [
       "<IPython.core.display.Markdown object>"
      ]
     },
     "metadata": {},
     "output_type": "display_data"
    },
    {
     "data": {
      "text/markdown": [
       "# Underworld / PETSc General Saddle Point Equation Solver"
      ],
      "text/plain": [
       "<IPython.core.display.Markdown object>"
      ]
     },
     "metadata": {},
     "output_type": "display_data"
    },
    {
     "data": {
      "text/markdown": [
       "Primary problem: "
      ],
      "text/plain": [
       "<IPython.core.display.Markdown object>"
      ]
     },
     "metadata": {},
     "output_type": "display_data"
    },
    {
     "data": {
      "text/latex": [
       "$\\tiny \\quad \\nabla \\cdot \\color{Blue}\\left[\\begin{matrix}2 \\eta { \\hspace{ 0.04pt } {{v_0}} }_{ 0,0}(\\mathbf{x}) - { \\hspace{ 0.04pt } {p} }(\\mathbf{x}) & \\eta \\left({ \\hspace{ 0.04pt } {{v_0}} }_{ 0,1}(\\mathbf{x}) + { \\hspace{ 0.04pt } {{v_0}} }_{ 1,0}(\\mathbf{x})\\right)\\\\\\eta \\left({ \\hspace{ 0.04pt } {{v_0}} }_{ 0,1}(\\mathbf{x}) + { \\hspace{ 0.04pt } {{v_0}} }_{ 1,0}(\\mathbf{x})\\right) & 2 \\eta { \\hspace{ 0.04pt } {{v_0}} }_{ 1,1}(\\mathbf{x}) - { \\hspace{ 0.04pt } {p} }(\\mathbf{x})\\end{matrix}\\right]$ + "
      ],
      "text/plain": [
       "<IPython.core.display.Latex object>"
      ]
     },
     "metadata": {},
     "output_type": "display_data"
    },
    {
     "data": {
      "text/latex": [
       "$\\tiny \\phantom{ \\quad \\nabla \\cdot} \\color{DarkRed}\\left[\\begin{matrix}0 & 0\\end{matrix}\\right]\\color{Black} = 0 $"
      ],
      "text/plain": [
       "<IPython.core.display.Latex object>"
      ]
     },
     "metadata": {},
     "output_type": "display_data"
    },
    {
     "data": {
      "text/markdown": [
       "Constraint: "
      ],
      "text/plain": [
       "<IPython.core.display.Markdown object>"
      ]
     },
     "metadata": {},
     "output_type": "display_data"
    },
    {
     "data": {
      "text/latex": [
       "$\\tiny \\phantom{ \\quad \\nabla \\cdot} \\left[\\begin{matrix}{ \\hspace{ 0.04pt } {{v_0}} }_{ 0,0}(\\mathbf{x}) + { \\hspace{ 0.04pt } {{v_0}} }_{ 1,1}(\\mathbf{x})\\end{matrix}\\right] = 0 $"
      ],
      "text/plain": [
       "<IPython.core.display.Latex object>"
      ]
     },
     "metadata": {},
     "output_type": "display_data"
    },
    {
     "data": {
      "text/markdown": [
       "*Where:*"
      ],
      "text/plain": [
       "<IPython.core.display.Markdown object>"
      ]
     },
     "metadata": {},
     "output_type": "display_data"
    },
    {
     "data": {
      "text/latex": [
       "$\\quad$$\\displaystyle \\uplambda$$=$$\\displaystyle 0$"
      ],
      "text/plain": [
       "<IPython.core.display.Latex object>"
      ]
     },
     "metadata": {},
     "output_type": "display_data"
    },
    {
     "data": {
      "text/latex": [
       "$\\quad$$\\displaystyle \\eta$$=$$\\displaystyle 1$"
      ],
      "text/plain": [
       "<IPython.core.display.Latex object>"
      ]
     },
     "metadata": {},
     "output_type": "display_data"
    },
    {
     "data": {
      "text/markdown": [
       "# Boundary Conditions"
      ],
      "text/plain": [
       "<IPython.core.display.Markdown object>"
      ]
     },
     "metadata": {},
     "output_type": "display_data"
    },
    {
     "data": {
      "text/markdown": [
       "| Type   | Boundary | Expression | \n",
       "|:------------------------ | -------- | ---------- | \n"
      ],
      "text/plain": [
       "<IPython.core.display.Markdown object>"
      ]
     },
     "metadata": {},
     "output_type": "display_data"
    },
    {
     "data": {
      "text/markdown": [
       "This solver is formulated as a 2 dimensional problem with a 2 dimensional mesh"
      ],
      "text/plain": [
       "<IPython.core.display.Markdown object>"
      ]
     },
     "metadata": {},
     "output_type": "display_data"
    }
   ],
   "source": [
    "# The class instance has details of how the general class has been\n",
    "# constructed for the particular case (boundary conditions, constitutive models etc)\n",
    "# If class_documentation=True is used, then the description above is printed first.\n",
    "\n",
    "stokes.view(class_documentation=False)"
   ]
  },
  {
   "cell_type": "markdown",
   "id": "a181e8fe-78c2-44b2-aff1-689358b70906",
   "metadata": {
    "editable": true,
    "slideshow": {
     "slide_type": ""
    },
    "tags": []
   },
   "source": [
    "### Natural boundary conditions\n",
    "\n",
    "In FEM, natural boundary conditions are fluxes specified at a boundary (through \n",
    "surface integrals). We can also apply integrals to internal surfaces. We need to \n",
    "compute the vector components of the boundary condition (normal / tangential) and\n",
    "supply them in the Cartesian frame. \n",
    "\n",
    "The bouyancy force on the internal surface is already radial, so this translates to \n",
    "\n",
    "```python\n",
    "    stokes.add_natural_bc(-t_init * unit_rvec, \"Internal\")\n",
    "```\n",
    "\n",
    "To set a no-normal-flow boundary condition, we need to penalise the \n",
    "radial velocity at the boundaries. Symbolically this is\n",
    "\n",
    "$$\n",
    "    \\mathbf{f} = \\lambda \\left( \\mathbf{v} \\cdot \\Gamma_N \\right) \\,\\, \\Gamma_N\n",
    "$$\n",
    "\n",
    "where $\\lambda$ is a large penalty value. This translates into `sympy` code as\n",
    "\n",
    "```python\n",
    "    stokes.add_natural_bc(\n",
    "                penalty * Gamma_N.dot(v_soln.sym) *  Gamma_N, \"Lower\"\n",
    "                )\n",
    "```\n",
    "\n",
    "\n",
    "\n"
   ]
  },
  {
   "cell_type": "code",
   "execution_count": 8,
   "id": "3a01a29a-495d-42a5-be74-99316a4d6cbc",
   "metadata": {},
   "outputs": [
    {
     "name": "stdout",
     "output_type": "stream",
     "text": [
      "  0 SNES Function norm 2.307507502179e-01\n",
      "    Residual norms for Solver_7_ solve.\n",
      "    0 KSP Residual norm 8.742204758196e+00\n",
      "    1 KSP Residual norm 7.602202411042e-07\n",
      "  1 SNES Function norm 4.872437719294e-08\n"
     ]
    }
   ],
   "source": [
    "\n",
    "stokes.bodyforce = sympy.Matrix([0,0])\n",
    "\n",
    "# Note, the thermal bouyancy field is localised in the radius using a \n",
    "# gaussian solely for the purposes of plotting. It is automatically\n",
    "# a delta function when applied through a surface integral\n",
    "\n",
    "t_init = sympy.sin(5*th) * sympy.exp(-1000.0 * ((r - r_int) ** 2)) \n",
    "\n",
    "stokes.add_natural_bc(-t_init * unit_rvec, \"Internal\")\n",
    "stokes.add_natural_bc(10000 * Gamma_N.dot(v_soln.sym) *  Gamma_N, \"Upper\")\n",
    "\n",
    "if r_i != 0.0:\n",
    "    stokes.add_natural_bc(10000 * Gamma_N.dot(v_soln.sym) *  Gamma_N, \"Lower\")\n",
    "\n",
    "stokes.solve()\n"
   ]
  },
  {
   "cell_type": "markdown",
   "id": "9dce85b6-6521-402a-b24e-3ae7050095ef",
   "metadata": {},
   "source": [
    "### Removal of the null space\n",
    "\n",
    "We can use the `uw.maths.Integral` to compute the inner product of the null space and\n",
    "the velocity solution. It is not zero, so we remove it !"
   ]
  },
  {
   "cell_type": "code",
   "execution_count": 9,
   "id": "5be55132-2bf9-4581-a7c6-2e8be30d7109",
   "metadata": {},
   "outputs": [
    {
     "name": "stdout",
     "output_type": "stream",
     "text": [
      "0.0005624988973658309 1.4249504223200373\n",
      "3.7567961262338314e-19 1.4249504223200373\n"
     ]
    }
   ],
   "source": [
    "# Null space evaluation\n",
    "\n",
    "I0 = uw.maths.Integral(meshball, v_theta_fn_xy.dot(v_theta_fn_xy))\n",
    "vnorm = I0.evaluate()\n",
    "                                  \n",
    "I0.fn = v_theta_fn_xy.dot(v_soln.sym)\n",
    "ns = I0.evaluate()\n",
    "\n",
    "print(ns/vnorm, vnorm)\n",
    "\n",
    "with meshball.access(v_soln):\n",
    "    dv = uw.function.evaluate(ns * v_theta_fn_xy, v_soln.coords) / vnorm\n",
    "    v_soln.data[...] -= dv \n",
    "\n",
    "ns = I0.evaluate()\n",
    "print(ns/vnorm, vnorm)"
   ]
  },
  {
   "cell_type": "code",
   "execution_count": 10,
   "id": "d2ecdcac-a63b-4df9-838b-d0b5bacdcff2",
   "metadata": {},
   "outputs": [],
   "source": [
    "\n",
    "if uw.mpi.size == 1:\n",
    "    import pyvista as pv\n",
    "    import underworld3.visualisation as vis\n",
    "\n",
    "    pvmesh = vis.mesh_to_pv_mesh(meshball)\n",
    "    pvmesh.point_data[\"P\"] = vis.scalar_fn_to_pv_points(pvmesh, p_soln.sym)\n",
    "    pvmesh.point_data[\"V\"] = vis.vector_fn_to_pv_points(pvmesh, v_soln.sym)\n",
    "    pvmesh.point_data[\"T\"] = vis.scalar_fn_to_pv_points(pvmesh, t_init)\n",
    "    \n",
    "    skip = 1\n",
    "    points = np.zeros((meshball._centroids[::skip].shape[0], 3))\n",
    "    points[:, 0] = meshball._centroids[::skip, 0]\n",
    "    points[:, 1] = meshball._centroids[::skip, 1]\n",
    "    point_cloud = pv.PolyData(points)\n",
    "\n",
    "    pvstream = pvmesh.streamlines_from_source(\n",
    "        point_cloud, vectors=\"V\", \n",
    "        integration_direction=\"both\", \n",
    "        integrator_type=45,\n",
    "        surface_streamlines=True,\n",
    "        initial_step_length=0.01,\n",
    "        max_time=0.5,\n",
    "        max_steps=500, \n",
    "    )\n",
    "   \n",
    "\n",
    "    pl = pv.Plotter(window_size=(750, 750))\n",
    "\n",
    "    pl.add_mesh(\n",
    "        pvmesh,\n",
    "        cmap=\"coolwarm\",\n",
    "        edge_color=\"Grey\",\n",
    "        edge_opacity=0.33,\n",
    "        scalars=\"T\",\n",
    "        show_edges=True,\n",
    "        use_transparency=False,\n",
    "        opacity=1.0,\n",
    "        show_scalar_bar=False\n",
    "    )\n",
    "\n",
    "\n",
    "    pl.add_mesh(pvstream, opacity=0.3, show_scalar_bar=False, cmap=\"Greens\", render_lines_as_tubes=False)\n",
    "\n",
    "    pl.export_html(\"html5/stokes_annulus_plot.html\")\n"
   ]
  },
  {
   "cell_type": "code",
   "execution_count": 11,
   "id": "a0a2ce11-9f40-46e4-a877-139813fa289d",
   "metadata": {
    "editable": true,
    "slideshow": {
     "slide_type": ""
    },
    "tags": []
   },
   "outputs": [
    {
     "data": {
      "text/html": [
       "\n",
       "        <iframe\n",
       "            width=\"500\"\n",
       "            height=\"400\"\n",
       "            src=\"html5/stokes_annulus_plot.html\"\n",
       "            frameborder=\"0\"\n",
       "            allowfullscreen\n",
       "            \n",
       "        ></iframe>\n",
       "        "
      ],
      "text/plain": [
       "<IPython.lib.display.IFrame at 0x31f7116a0>"
      ]
     },
     "execution_count": 11,
     "metadata": {},
     "output_type": "execute_result"
    }
   ],
   "source": [
    "#| fig-cap: \"Interactive Image: Annulus mesh of triangular elements on which we evaluated Stokes flow driven by an internal delta function buoyancy. Boundary conditions are free slip, imposed using a penalty on the radial velocity at the boundary\"\n",
    "\n",
    "\n",
    "from IPython.display import IFrame\n",
    "IFrame(src=\"html5/stokes_annulus_plot.html\", width=500, height=400)"
   ]
  },
  {
   "cell_type": "markdown",
   "id": "3ea18ae7-39d7-46b5-9874-7f2ccac633ea",
   "metadata": {
    "editable": true,
    "slideshow": {
     "slide_type": ""
    },
    "tags": []
   },
   "source": [
    "### References\n",
    "\n",
    "Parsons, B., & Daly, S. (1983). The relationship between surface topography, gravity anomalies, and temperature structure of convection. Journal of Geophysical Research, 88(B2), 1129. https://doi.org/10/frq6gv\n"
   ]
  }
 ],
 "metadata": {
  "kernelspec": {
   "display_name": "Python (Pixi)",
   "language": "python",
   "name": "pixi-kernel-python3"
  },
  "language_info": {
   "codemirror_mode": {
    "name": "ipython",
    "version": 3
   },
   "file_extension": ".py",
   "mimetype": "text/x-python",
   "name": "python",
   "nbconvert_exporter": "python",
   "pygments_lexer": "ipython3",
   "version": "3.12.11"
  }
 },
 "nbformat": 4,
 "nbformat_minor": 5
}
