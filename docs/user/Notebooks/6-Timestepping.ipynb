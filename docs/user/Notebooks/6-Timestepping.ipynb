{
 "cells": [
  {
   "cell_type": "markdown",
   "id": "26d2a9ca-c094-40f2-b978-333c14142874",
   "metadata": {},
   "source": [
    "# Notebook 6: Rayleigh-Bénard Convection (time-stepping example)\n",
    "\n",
    "<div style=\"float: right; width: 40%\">\n",
    "    \n",
    "![](media/AnnulusConvectionModel.png)\n",
    "\n",
    "</div>\n",
    "\n",
    "\n",
    "We'll look at a convection problem which couples Stokes Flow with time-dependent advection/diffusion to give simple Rayleigh-Bénard convection model. \n",
    "\n",
    "$$\n",
    "-\\nabla \\cdot\n",
    "    \\left[\n",
    "            \\frac{\\eta}{2}\\left( \\nabla \\mathbf{u} + \\nabla \\mathbf{u}^T \\right) -  p \\mathbf{I} \\right] =\n",
    "     -\\rho_0 \\alpha T \\mathbf{g} \n",
    "$$\n",
    "$$\n",
    "\\nabla \\cdot \\mathbf{u} = 0\n",
    "$$\n",
    "\n",
    "$\\eta$ is viscosity, $p$ is pressure, $\\rho_0$ is a reference density, $\\alpha$ is thermal expansivity, and $T$ is the temperature. Here we explicitly express density variations in terms of temperature variations.\n",
    "\n",
    "Thermal evolution is given by\n",
    "$$\n",
    "\\frac{\\partial T}{\\partial t} - \\mathbf{u}\\cdot\\nabla T = \\kappa \\nabla^2 T \n",
    "$$\n",
    "where the velocity, $\\mathbf{u}$ is the result of the Stokes flow calculation. $\\kappa$ is the thermal diffusivity (compare this with Notebook 4).  \n",
    "\n",
    "The starting point is our previous notebook where we solved for Stokes\n",
    "flow in a cylindrical annulus geometry. We then add an advection-diffusion \n",
    "solver to evolve temperature. The Stokes buoyancy force is proportional to the\n",
    "temperature anomaly, and the velocity solution is fed back into the \n",
    "temperature advection term. The timestepping loop is written by\n",
    "hand because usually you will want to do some analysis or output some checkpoints.\n",
    "\n",
    "To read more about the applications of simple mantle convection models like this one, see (for example) Schubert et al, 2001.\n",
    "\n"
   ]
  },
  {
   "cell_type": "code",
   "execution_count": 1,
   "id": "0974f1a1-60dd-4d52-9855-79e8030450e9",
   "metadata": {},
   "outputs": [],
   "source": [
    "#|  echo: false  # Hide in html version\n",
    "\n",
    "# This is required to fix pyvista\n",
    "# (visualisation) crashes in interactive notebooks (including on binder)\n",
    "\n",
    "import nest_asyncio\n",
    "\n",
    "nest_asyncio.apply()"
   ]
  },
  {
   "cell_type": "code",
   "execution_count": 2,
   "id": "dddf1a25-1d89-4c39-90dc-9ca5a45db5dd",
   "metadata": {},
   "outputs": [],
   "source": [
    "#| output: false # Suppress warnings in html version\n",
    "\n",
    "import numpy as np\n",
    "import sympy\n",
    "import underworld3 as uw"
   ]
  },
  {
   "cell_type": "code",
   "execution_count": 3,
   "id": "d17b5f9b-d00e-43c2-ba10-b9a8920aa3be",
   "metadata": {},
   "outputs": [],
   "source": [
    "res = 10\n",
    "r_o = 1.0\n",
    "r_i = 0.55\n",
    "\n",
    "rayleigh_number = 3.0e4\n",
    "\n",
    "meshball = uw.meshing.Annulus(\n",
    "    radiusOuter=r_o,\n",
    "    radiusInner=r_i,\n",
    "    cellSize=1 / res,\n",
    "    qdegree=3,\n",
    ")\n",
    "\n",
    "# Coordinate directions etc\n",
    "x, y = meshball.CoordinateSystem.X\n",
    "r, th = meshball.CoordinateSystem.xR\n",
    "unit_rvec = meshball.CoordinateSystem.unit_e_0\n",
    "\n",
    "# Orientation of surface normals\n",
    "Gamma_N = unit_rvec"
   ]
  },
  {
   "cell_type": "code",
   "execution_count": 4,
   "id": "377301f7-9596-4216-917f-fc5dca474c0d",
   "metadata": {},
   "outputs": [],
   "source": [
    "# Mesh variables for the unknowns\n",
    "\n",
    "v_soln = uw.discretisation.MeshVariable(\"V0\", meshball, 2, degree=2, varsymbol=r\"{v_0}\")\n",
    "p_soln = uw.discretisation.MeshVariable(\"p\", meshball, 1, degree=1, continuous=True)\n",
    "t_soln = uw.discretisation.MeshVariable(\"T\", meshball, 1, degree=3, continuous=True)"
   ]
  },
  {
   "cell_type": "markdown",
   "id": "c93891fa-b8ce-432d-83ae-1980914995f6",
   "metadata": {},
   "source": [
    "### Create linked solvers\n",
    "\n",
    "We create the Stokes solver as we did in the previous notebook. \n",
    "The buoyancy force is proportional to the temperature anomaly\n",
    "(`t_soln`). Solvers can either be provided with unknowns as pre-defined\n",
    "meshVariables, or they will define their own. When solvers are coupled,\n",
    "explicitly defining unknowns makes everything clearer.\n",
    "\n",
    "The advection-diffusion solver evolved `t_soln` using the Stokes\n",
    "velocity `v_soln` in the fluid-transport term. \n",
    "\n",
    "### Curved, free-slip boundaries\n",
    "\n",
    "In the annulus, a free slip boundary corresponds to zero radial \n",
    "velocity. However, in this mesh, $v_r$ is not one of the unknowns\n",
    "($\\mathbf{v} = (v_x, v_y)$). We apply a non linear boundary condition that\n",
    "penalises $v_r$ on the boundary as discussed previously in Example 5. "
   ]
  },
  {
   "cell_type": "code",
   "execution_count": 5,
   "id": "3f3c3875-4ba1-4e99-a793-3446af229b6d",
   "metadata": {},
   "outputs": [],
   "source": [
    "stokes = uw.systems.Stokes(\n",
    "    meshball,\n",
    "    velocityField=v_soln,\n",
    "    pressureField=p_soln,\n",
    ")\n",
    "\n",
    "stokes.bodyforce = rayleigh_number * t_soln.sym * unit_rvec\n",
    "\n",
    "stokes.constitutive_model = uw.constitutive_models.ViscousFlowModel\n",
    "stokes.constitutive_model.Parameters.shear_viscosity_0 = 1\n",
    "stokes.tolerance = 1.0e-3\n",
    "\n",
    "stokes.petsc_options[\"fieldsplit_velocity_mg_coarse_pc_type\"] = \"svd\"\n",
    "\n",
    "stokes.add_natural_bc(1000000 * Gamma_N.dot(v_soln.sym) * Gamma_N, \"Upper\")\n",
    "\n",
    "if r_i != 0.0:\n",
    "    stokes.add_natural_bc(1000000 * Gamma_N.dot(v_soln.sym) * Gamma_N, \"Lower\")"
   ]
  },
  {
   "cell_type": "code",
   "execution_count": 6,
   "id": "61f1c083-ce57-420c-87ee-32a0c546e40f",
   "metadata": {},
   "outputs": [],
   "source": [
    "# Create solver for the energy equation (Advection-Diffusion of temperature)\n",
    "\n",
    "adv_diff = uw.systems.AdvDiffusion(\n",
    "    meshball,\n",
    "    u_Field=t_soln,\n",
    "    V_fn=v_soln,\n",
    "    order=2,\n",
    "    verbose=False,\n",
    ")\n",
    "\n",
    "adv_diff.constitutive_model = uw.constitutive_models.DiffusionModel\n",
    "adv_diff.constitutive_model.Parameters.diffusivity = 1\n",
    "\n",
    "## Boundary conditions for this solver\n",
    "\n",
    "adv_diff.add_dirichlet_bc(+1.0, \"Lower\")\n",
    "adv_diff.add_dirichlet_bc(-0.0, \"Upper\")\n",
    "\n",
    "adv_diff.petsc_options.setValue(\"snes_rtol\", 0.001)\n",
    "adv_diff.petsc_options.setValue(\"ksp_rtol\", 0.0001)\n",
    "adv_diff.petsc_options.setValue(\"snes_monitor\", None)\n",
    "adv_diff.petsc_options.setValue(\"ksp_monitor\", None)"
   ]
  },
  {
   "cell_type": "code",
   "execution_count": 27,
   "id": "6b97dabb-27b1-4682-982e-6536eeef6652",
   "metadata": {
    "scrolled": true
   },
   "outputs": [
    {
     "data": {
      "text/markdown": [
       "\n",
       "# Advection-Diffusion Equation Solver (Scalar Variable)\n",
       "\n",
       "This class provides a solver for the scalar Advection-Diffusion equation using the characteristics based Semi-Lagrange Crank-Nicholson method\n",
       "which is described in Spiegelman & Katz, (2006).\n",
       "\n",
       "$$\n",
       "\\color{Green}{\\underbrace{ \\Bigl[ \\frac{\\partial u}{\\partial t} + \\left( \\mathbf{v} \\cdot \\nabla \\right) u \\Bigr]}_{\\dot{\\mathbf{u}}}} -\n",
       "\\nabla \\cdot\n",
       "        \\color{Blue}{\\underbrace{\\Bigl[ \\boldsymbol\\kappa \\nabla u \\Bigr]}_{\\mathbf{F}}} =\n",
       "        \\color{Maroon}{\\underbrace{\\Bigl[ f \\Bigl] }_{\\mathbf{h}}}\n",
       "$$\n",
       "\n",
       "The term $\\mathbf{F}$ relates diffusive fluxes to gradients in the unknown $u$. The advective flux that results from having gradients along\n",
       "the direction of transport (given by the velocity vector field $\\mathbf{v}$ ) are included in the $\\dot{\\mathbf{u}}$ term.\n",
       "\n",
       "The term $\\dot{\\mathbf{u}}$ involves upstream sampling to find the value $u^*$ which represents the value of $u$ at\n",
       "the points which later arrive at the nodal points of the mesh. This is achieved using a \"hidden\"\n",
       "swarm variable which is advected backwards from the nodal points automatically during the `solve` phase.\n",
       "\n",
       "## Properties\n",
       "\n",
       "  - The unknown is $u$.\n",
       "\n",
       "  - The velocity field is $\\mathbf{v}$ and is provided as a `sympy` function to allow operations such as time-averaging to be\n",
       "    calculated in situ (e.g. `V_Field = v_solution.sym`) **NOTE: no it's not. Currently it is a MeshVariable** this is the desired behaviour though.\n",
       "\n",
       "  - The diffusivity tensor, $\\kappa$ is provided by setting the `constitutive_model` property to\n",
       "    one of the scalar `uw.constitutive_models` classes and populating the parameters.\n",
       "    It is usually a constant or a function of position / time and may also be non-linear\n",
       "    or anisotropic.\n",
       "\n",
       "  - Volumetric sources of $u$ are specified using the $f$ property and can be any valid combination of `sympy` functions of position and\n",
       "    `meshVariable` or `swarmVariable` types.\n",
       "\n",
       "## References\n",
       "\n",
       "Spiegelman, M., & Katz, R. F. (2006). A semi-Lagrangian Crank-Nicolson algorithm for the numerical solution of advection-diffusion problems. Geochemistry, Geophysics, Geosystems, 7(4). https://doi.org/10.1029/2005GC001073\n",
       "\n"
      ],
      "text/plain": [
       "<IPython.core.display.Markdown object>"
      ]
     },
     "metadata": {},
     "output_type": "display_data"
    }
   ],
   "source": [
    "uw.systems.AdvDiffusion.view()"
   ]
  },
  {
   "cell_type": "code",
   "execution_count": 31,
   "id": "ea889c84-5fae-48e7-b761-afdec4f2c4e2",
   "metadata": {},
   "outputs": [
    {
     "data": {
      "text/markdown": [
       "Nodal-Swarm  Lagrangian History Manager:\n",
       "    This manages the update of a Lagrangian variable, $\\psi$ on the swarm across timesteps.\n",
       "    $$\\quad \\psi_p^{t-n\\Delta t} \\leftarrow \\psi_p^{t-(n-1)\\Delta t}\\quad$$\n",
       "    $$\\quad \\psi_p^{t-(n-1)\\Delta t} \\leftarrow \\psi_p^{t-(n-2)\\Delta t} \\cdots\\quad$$\n",
       "    $$\\quad \\psi_p^{t-\\Delta t} \\leftarrow \\psi_p^{t}$$\n"
      ],
      "text/plain": [
       "<IPython.core.display.Markdown object>"
      ]
     },
     "metadata": {},
     "output_type": "display_data"
    }
   ],
   "source": [
    "uw.systems.SemiLagragian_DDt.view()"
   ]
  },
  {
   "cell_type": "markdown",
   "id": "b76fd635-606b-446e-9f79-b1dde4939a05",
   "metadata": {},
   "source": [
    "#### Underworld expressions\n",
    "\n",
    "Note that the parameters in the consititutive models are defined as `uw.expression`s because \n",
    "  1. We generally would like to display them symbolically in equations rather than see their floating point value\n",
    "  2. They can represent complex expressions that \"blow up\" the symbolic forms when we inspect the equations\n",
    "  3. We would like to be able to substitute new values in the equations and use the *lazy evaluation* of expressions to avoid having to redefine expressions in multiple locations where these symbols appear\n",
    "  4. For future reference, in optimisation problems, we differentiate expressions with respect to their parameters and want the results also to be evaluated in a lazy fashion."
   ]
  },
  {
   "cell_type": "code",
   "execution_count": 8,
   "id": "1ddd1c6e-0847-4add-af60-032f039c2315",
   "metadata": {},
   "outputs": [
    {
     "data": {
      "text/plain": [
       "underworld3.function.expressions.UWexpression"
      ]
     },
     "metadata": {},
     "output_type": "display_data"
    },
    {
     "data": {
      "text/plain": [
       "underworld3.function.expressions.UWexpression"
      ]
     },
     "metadata": {},
     "output_type": "display_data"
    },
    {
     "data": {
      "text/latex": [
       "$\\displaystyle 1$"
      ],
      "text/plain": [
       "1"
      ]
     },
     "execution_count": 8,
     "metadata": {},
     "output_type": "execute_result"
    }
   ],
   "source": [
    "display(type(stokes.constitutive_model.Parameters.shear_viscosity_0))\n",
    "display(type(adv_diff.constitutive_model.Parameters.diffusivity))\n",
    "\n",
    "stokes.constitutive_model.Parameters.shear_viscosity_0.sym"
   ]
  },
  {
   "cell_type": "markdown",
   "id": "606ab233-9562-478a-ba15-5b2f801789fd",
   "metadata": {},
   "source": [
    "### Initial condition\n",
    "\n",
    "We need to set an initial condition for the temperature field as the \n",
    "coupled system is an initial value problem. Choose whatever works but\n",
    "remember that the boundary conditions will over-rule values you set on \n",
    "the lower and upper boundaries."
   ]
  },
  {
   "cell_type": "code",
   "execution_count": 18,
   "id": "366ce888-c27a-4a30-bca0-ad406ccaa34c",
   "metadata": {},
   "outputs": [],
   "source": [
    "# Initial temperature\n",
    "\n",
    "init_t = 0.1 * sympy.sin(3 * th) * sympy.cos(np.pi * (r - r_i) / (r_o - r_i)) + (\n",
    "    r_o - r\n",
    ") / (r_o - r_i)\n",
    "\n",
    "with meshball.access(t_soln):\n",
    "    t_soln.data[:, 0] = uw.function.evaluate(init_t, t_soln.coords)"
   ]
  },
  {
   "cell_type": "markdown",
   "id": "99b3d65e-8702-418f-9da7-8d4c0d1508c2",
   "metadata": {},
   "source": [
    "#### Initial velocity solve\n",
    "\n",
    "The first solve allows us to determine the magnitude of the velocity field \n",
    "and is useful to keep separated to check convergence rates etc. \n",
    "\n",
    "For non-linear problems, we usually need an initial guess using a \n",
    "reasonably close linear problem. \n",
    "\n",
    "`zero_init_guess` is used to reset any information in the vector of \n",
    "unknowns (i.e. do not use any initial information if `zero_init_guess==True`)."
   ]
  },
  {
   "cell_type": "code",
   "execution_count": 10,
   "id": "51f82885-0b41-4454-9953-ac7ea23e38e3",
   "metadata": {},
   "outputs": [],
   "source": [
    "stokes.solve(zero_init_guess=True)"
   ]
  },
  {
   "cell_type": "code",
   "execution_count": 11,
   "id": "1c660972-f858-43bc-a6c4-5e09cc8f9fdf",
   "metadata": {},
   "outputs": [],
   "source": [
    "# Keep the initialisation separate\n",
    "# so we can run the loop again in a notebook\n",
    "\n",
    "max_steps = 15\n",
    "timestep = 0\n",
    "elapsed_time = 0.0"
   ]
  },
  {
   "cell_type": "code",
   "execution_count": 26,
   "id": "fba03f7d-0f61-4047-96ef-834442e42793",
   "metadata": {},
   "outputs": [
    {
     "data": {
      "text/markdown": [
       "\n",
       "# Advection-Diffusion Equation Solver (Scalar Variable)\n",
       "\n",
       "This class provides a solver for the scalar Advection-Diffusion equation using the characteristics based Semi-Lagrange Crank-Nicholson method\n",
       "which is described in Spiegelman & Katz, (2006).\n",
       "\n",
       "$$\n",
       "\\color{Green}{\\underbrace{ \\Bigl[ \\frac{\\partial u}{\\partial t} + \\left( \\mathbf{v} \\cdot \\nabla \\right) u \\Bigr]}_{\\dot{\\mathbf{u}}}} -\n",
       "\\nabla \\cdot\n",
       "        \\color{Blue}{\\underbrace{\\Bigl[ \\boldsymbol\\kappa \\nabla u \\Bigr]}_{\\mathbf{F}}} =\n",
       "        \\color{Maroon}{\\underbrace{\\Bigl[ f \\Bigl] }_{\\mathbf{h}}}\n",
       "$$\n",
       "\n",
       "The term $\\mathbf{F}$ relates diffusive fluxes to gradients in the unknown $u$. The advective flux that results from having gradients along\n",
       "the direction of transport (given by the velocity vector field $\\mathbf{v}$ ) are included in the $\\dot{\\mathbf{u}}$ term.\n",
       "\n",
       "The term $\\dot{\\mathbf{u}}$ involves upstream sampling to find the value $u^*$ which represents the value of $u$ at\n",
       "the points which later arrive at the nodal points of the mesh. This is achieved using a \"hidden\"\n",
       "swarm variable which is advected backwards from the nodal points automatically during the `solve` phase.\n",
       "\n",
       "## Properties\n",
       "\n",
       "  - The unknown is $u$.\n",
       "\n",
       "  - The velocity field is $\\mathbf{v}$ and is provided as a `sympy` function to allow operations such as time-averaging to be\n",
       "    calculated in situ (e.g. `V_Field = v_solution.sym`) **NOTE: no it's not. Currently it is a MeshVariable** this is the desired behaviour though.\n",
       "\n",
       "  - The diffusivity tensor, $\\kappa$ is provided by setting the `constitutive_model` property to\n",
       "    one of the scalar `uw.constitutive_models` classes and populating the parameters.\n",
       "    It is usually a constant or a function of position / time and may also be non-linear\n",
       "    or anisotropic.\n",
       "\n",
       "  - Volumetric sources of $u$ are specified using the $f$ property and can be any valid combination of `sympy` functions of position and\n",
       "    `meshVariable` or `swarmVariable` types.\n",
       "\n",
       "## References\n",
       "\n",
       "Spiegelman, M., & Katz, R. F. (2006). A semi-Lagrangian Crank-Nicolson algorithm for the numerical solution of advection-diffusion problems. Geochemistry, Geophysics, Geosystems, 7(4). https://doi.org/10.1029/2005GC001073\n",
       "\n"
      ],
      "text/plain": [
       "<IPython.core.display.Markdown object>"
      ]
     },
     "metadata": {},
     "output_type": "display_data"
    },
    {
     "data": {
      "text/markdown": [
       "---"
      ],
      "text/plain": [
       "<IPython.core.display.Markdown object>"
      ]
     },
     "metadata": {},
     "output_type": "display_data"
    },
    {
     "data": {
      "text/markdown": [
       "**Class**: <class 'underworld3.systems.solvers.SNES_AdvectionDiffusion'>"
      ],
      "text/plain": [
       "<IPython.core.display.Markdown object>"
      ]
     },
     "metadata": {},
     "output_type": "display_data"
    },
    {
     "data": {
      "text/markdown": [
       "# Underworld / PETSc General Scalar Equation Solver"
      ],
      "text/plain": [
       "<IPython.core.display.Markdown object>"
      ]
     },
     "metadata": {},
     "output_type": "display_data"
    },
    {
     "data": {
      "text/markdown": [
       "Primary problem: "
      ],
      "text/plain": [
       "<IPython.core.display.Markdown object>"
      ]
     },
     "metadata": {},
     "output_type": "display_data"
    },
    {
     "data": {
      "text/latex": [
       "$\\tiny \\quad \\nabla \\cdot \\color{Blue}\\left[\\begin{matrix}\\frac{5 \\upkappa { \\hspace{ 0.04pt } {T} }_{,0}(\\mathbf{x})}{12} + \\frac{2 { \\hspace{ 0.04pt } {{ {F[ { \\hspace{ 0.04pt } {T} } ] }^{ * } }} }_{ 0 }(\\mathbf{x})}{3} - \\frac{{ \\hspace{ 0.04pt } {{ {F[ { \\hspace{ 0.04pt } {T} } ] }^{ ** } }} }_{ 0 }(\\mathbf{x})}{12} & \\frac{5 \\upkappa { \\hspace{ 0.04pt } {T} }_{,1}(\\mathbf{x})}{12} + \\frac{2 { \\hspace{ 0.04pt } {{ {F[ { \\hspace{ 0.04pt } {T} } ] }^{ * } }} }_{ 1 }(\\mathbf{x})}{3} - \\frac{{ \\hspace{ 0.04pt } {{ {F[ { \\hspace{ 0.04pt } {T} } ] }^{ ** } }} }_{ 1 }(\\mathbf{x})}{12}\\end{matrix}\\right]$ + "
      ],
      "text/plain": [
       "<IPython.core.display.Latex object>"
      ]
     },
     "metadata": {},
     "output_type": "display_data"
    },
    {
     "data": {
      "text/latex": [
       "$\\tiny \\phantom{ \\quad \\nabla \\cdot} \\color{DarkRed}\\left[\\begin{matrix}\\frac{{ \\hspace{ 0.04pt } {T} }(\\mathbf{x}) - { \\hspace{ 0.04pt } {{ { \\hspace{ 0.04pt } {T} }^{ * } }} }(\\mathbf{x})}{\\Delta t}\\end{matrix}\\right]\\color{Black} = 0 $"
      ],
      "text/plain": [
       "<IPython.core.display.Latex object>"
      ]
     },
     "metadata": {},
     "output_type": "display_data"
    },
    {
     "data": {
      "text/markdown": [
       "*Where:*"
      ],
      "text/plain": [
       "<IPython.core.display.Markdown object>"
      ]
     },
     "metadata": {},
     "output_type": "display_data"
    },
    {
     "data": {
      "text/latex": [
       "$\\quad$$\\displaystyle \\upkappa$$=$$\\displaystyle 1$"
      ],
      "text/plain": [
       "<IPython.core.display.Latex object>"
      ]
     },
     "metadata": {},
     "output_type": "display_data"
    },
    {
     "data": {
      "text/latex": [
       "$\\quad$$\\displaystyle \\Delta t$$=$$\\displaystyle 0.00192729179220545$"
      ],
      "text/plain": [
       "<IPython.core.display.Latex object>"
      ]
     },
     "metadata": {},
     "output_type": "display_data"
    },
    {
     "data": {
      "text/markdown": [
       "# Boundary Conditions"
      ],
      "text/plain": [
       "<IPython.core.display.Markdown object>"
      ]
     },
     "metadata": {},
     "output_type": "display_data"
    },
    {
     "data": {
      "text/markdown": [
       "| Type   | Boundary | Expression | \n",
       "|:------------------------ | -------- | ---------- | \n",
       "| **essential** | Lower | $\\left[\\begin{matrix}1.0\\end{matrix}\\right]  $ | \n",
       "| **essential** | Upper | $\\left[\\begin{matrix}0.0\\end{matrix}\\right]  $ | \n"
      ],
      "text/plain": [
       "<IPython.core.display.Markdown object>"
      ]
     },
     "metadata": {},
     "output_type": "display_data"
    },
    {
     "data": {
      "text/markdown": [
       "This solver is formulated as a 2 dimensional problem with a 2 dimensional mesh"
      ],
      "text/plain": [
       "<IPython.core.display.Markdown object>"
      ]
     },
     "metadata": {},
     "output_type": "display_data"
    },
    {
     "data": {
      "text/latex": [
       "$\\quad\\mathrm{u} = $ $\\displaystyle \\left[\\begin{matrix}{ \\hspace{ 0.04pt } {T} }(\\mathbf{x})\\end{matrix}\\right]$"
      ],
      "text/plain": [
       "<IPython.core.display.Latex object>"
      ]
     },
     "metadata": {},
     "output_type": "display_data"
    },
    {
     "data": {
      "text/latex": [
       "$\\quad\\mathbf{v} = $ $\\displaystyle \\left[\\begin{matrix}{ \\hspace{ 0.04pt } {{v_0}} }_{ 0 }(\\mathbf{x}) & { \\hspace{ 0.04pt } {{v_0}} }_{ 1 }(\\mathbf{x})\\end{matrix}\\right]$"
      ],
      "text/plain": [
       "<IPython.core.display.Latex object>"
      ]
     },
     "metadata": {},
     "output_type": "display_data"
    },
    {
     "data": {
      "text/latex": [
       "$\\quad\\Delta t = $ $\\displaystyle \\Delta t$"
      ],
      "text/plain": [
       "<IPython.core.display.Latex object>"
      ]
     },
     "metadata": {},
     "output_type": "display_data"
    }
   ],
   "source": [
    "adv_diff.view(class_documentation=True)"
   ]
  },
  {
   "cell_type": "code",
   "execution_count": 12,
   "id": "4a334648-c328-42bf-b71f-383246cebdc9",
   "metadata": {},
   "outputs": [],
   "source": [
    "init_t = 0.1 * sympy.sin(3 * th) * sympy.cos(np.pi * (r - r_i) / (r_o - r_i)) + (\n",
    "    r_o - r\n",
    ") / (r_o - r_i)\n",
    "\n",
    "with meshball.access(t_soln):\n",
    "    t_soln.data[:, 0] = uw.function.evaluate(\n",
    "        init_t + 0.0001 * t_soln.sym[0], adv_diff.DuDt.psi_star[0].coords\n",
    "    )"
   ]
  },
  {
   "cell_type": "code",
   "execution_count": 13,
   "id": "d973fc53-7753-45f4-addb-abc3ef85d35d",
   "metadata": {},
   "outputs": [
    {
     "data": {
      "text/plain": [
       "0.0015310756944410533"
      ]
     },
     "execution_count": 13,
     "metadata": {},
     "output_type": "execute_result"
    }
   ],
   "source": [
    "adv_diff.estimate_dt()"
   ]
  },
  {
   "cell_type": "code",
   "execution_count": 14,
   "id": "2993d3aa-6355-408b-ab60-cf80aebbf0cb",
   "metadata": {},
   "outputs": [
    {
     "name": "stdout",
     "output_type": "stream",
     "text": [
      "  0 SNES Function norm 9.477337251545e+00\n",
      "    Residual norms for Solver_14_ solve.\n",
      "    0 KSP Residual norm 5.145688853471e+01\n",
      "    1 KSP Residual norm 6.664452877949e+00\n",
      "    2 KSP Residual norm 1.519834146720e+00\n",
      "    3 KSP Residual norm 8.840183259526e-01\n",
      "    4 KSP Residual norm 5.301397793504e-01\n",
      "    5 KSP Residual norm 2.424966321832e-01\n",
      "    6 KSP Residual norm 1.150826566498e-01\n",
      "    7 KSP Residual norm 6.172825406475e-02\n",
      "    8 KSP Residual norm 3.137375512549e-02\n",
      "    9 KSP Residual norm 1.401218686048e-02\n",
      "   10 KSP Residual norm 6.780473869117e-03\n",
      "   11 KSP Residual norm 3.790531875925e-03\n",
      "  1 SNES Function norm 3.383398820327e-03\n"
     ]
    }
   ],
   "source": [
    "adv_diff.solve(timestep=0.01, zero_init_guess=True)"
   ]
  },
  {
   "cell_type": "code",
   "execution_count": 23,
   "id": "8db49d4c-9dcd-4920-901a-65cf8d0056db",
   "metadata": {},
   "outputs": [
    {
     "name": "stdout",
     "output_type": "stream",
     "text": [
      "  0 SNES Function norm 5.519719545520e-01\n",
      "    Residual norms for Solver_14_ solve.\n",
      "    0 KSP Residual norm 1.080481897680e+00\n",
      "    1 KSP Residual norm 2.794759495722e-01\n",
      "    2 KSP Residual norm 8.738937475137e-02\n",
      "    3 KSP Residual norm 2.538497096191e-02\n",
      "    4 KSP Residual norm 9.791736400409e-03\n",
      "    5 KSP Residual norm 3.712676600336e-03\n",
      "    6 KSP Residual norm 1.063757340521e-03\n",
      "    7 KSP Residual norm 4.172823722413e-04\n",
      "    8 KSP Residual norm 1.562544824097e-04\n",
      "    9 KSP Residual norm 5.223214632822e-05\n",
      "  1 SNES Function norm 4.882999045393e-05\n",
      "  0 SNES Function norm 4.773557354896e-01\n",
      "    Residual norms for Solver_14_ solve.\n",
      "    0 KSP Residual norm 9.317588273285e-01\n",
      "    1 KSP Residual norm 2.459336490176e-01\n",
      "    2 KSP Residual norm 7.783642668213e-02\n",
      "    3 KSP Residual norm 2.191611878110e-02\n",
      "    4 KSP Residual norm 6.968378956074e-03\n",
      "    5 KSP Residual norm 3.165364530306e-03\n",
      "    6 KSP Residual norm 1.009565335997e-03\n",
      "    7 KSP Residual norm 4.012564067190e-04\n",
      "    8 KSP Residual norm 1.480223863671e-04\n",
      "    9 KSP Residual norm 5.045767013406e-05\n",
      "  1 SNES Function norm 4.665072060480e-05\n",
      "  0 SNES Function norm 4.134346531441e-01\n",
      "    Residual norms for Solver_14_ solve.\n",
      "    0 KSP Residual norm 8.307659270725e-01\n",
      "    1 KSP Residual norm 2.259694308441e-01\n",
      "    2 KSP Residual norm 6.843626200604e-02\n",
      "    3 KSP Residual norm 2.044900509918e-02\n",
      "    4 KSP Residual norm 7.902904914890e-03\n",
      "    5 KSP Residual norm 3.123583935771e-03\n",
      "    6 KSP Residual norm 9.710014509369e-04\n",
      "    7 KSP Residual norm 4.067866782756e-04\n",
      "    8 KSP Residual norm 1.440315988629e-04\n",
      "    9 KSP Residual norm 4.828499765245e-05\n",
      "  1 SNES Function norm 4.388299556922e-05\n",
      "  0 SNES Function norm 3.702917051432e-01\n",
      "    Residual norms for Solver_14_ solve.\n",
      "    0 KSP Residual norm 7.391018432834e-01\n",
      "    1 KSP Residual norm 2.118225742668e-01\n",
      "    2 KSP Residual norm 6.153300528419e-02\n",
      "    3 KSP Residual norm 1.888671986332e-02\n",
      "    4 KSP Residual norm 7.688485116852e-03\n",
      "    5 KSP Residual norm 2.892614443447e-03\n",
      "    6 KSP Residual norm 9.899961279690e-04\n",
      "    7 KSP Residual norm 4.303831257914e-04\n",
      "    8 KSP Residual norm 1.400355896622e-04\n",
      "    9 KSP Residual norm 4.622207543067e-05\n",
      "  1 SNES Function norm 4.202452224287e-05\n",
      "  0 SNES Function norm 3.315890905574e-01\n",
      "    Residual norms for Solver_14_ solve.\n",
      "    0 KSP Residual norm 6.598577757155e-01\n",
      "    1 KSP Residual norm 1.933887338875e-01\n",
      "    2 KSP Residual norm 5.456342813682e-02\n",
      "    3 KSP Residual norm 1.650324248410e-02\n",
      "    4 KSP Residual norm 6.568305659431e-03\n",
      "    5 KSP Residual norm 2.510214143805e-03\n",
      "    6 KSP Residual norm 8.758541569735e-04\n",
      "    7 KSP Residual norm 3.932827467617e-04\n",
      "    8 KSP Residual norm 1.269075769185e-04\n",
      "    9 KSP Residual norm 4.140260482029e-05\n",
      "  1 SNES Function norm 3.796231562527e-05\n",
      "Timestep: 35, time 0.11813280083141166\n",
      "  0 SNES Function norm 2.960859596617e-01\n",
      "    Residual norms for Solver_14_ solve.\n",
      "    0 KSP Residual norm 5.869188962370e-01\n",
      "    1 KSP Residual norm 1.726402385232e-01\n",
      "    2 KSP Residual norm 4.810609894045e-02\n",
      "    3 KSP Residual norm 1.599606132489e-02\n",
      "    4 KSP Residual norm 6.662165427614e-03\n",
      "    5 KSP Residual norm 2.357922152146e-03\n",
      "    6 KSP Residual norm 8.726421811308e-04\n",
      "    7 KSP Residual norm 3.684349989627e-04\n",
      "    8 KSP Residual norm 1.156301902495e-04\n",
      "    9 KSP Residual norm 3.679909417202e-05\n",
      "  1 SNES Function norm 3.370864114565e-05\n",
      "  0 SNES Function norm 2.635627796534e-01\n",
      "    Residual norms for Solver_14_ solve.\n",
      "    0 KSP Residual norm 5.258120790880e-01\n",
      "    1 KSP Residual norm 1.546764180521e-01\n",
      "    2 KSP Residual norm 4.243034265403e-02\n",
      "    3 KSP Residual norm 1.387021411069e-02\n",
      "    4 KSP Residual norm 5.708313168922e-03\n",
      "    5 KSP Residual norm 2.062686684951e-03\n",
      "    6 KSP Residual norm 7.701770867568e-04\n",
      "    7 KSP Residual norm 3.260237474077e-04\n",
      "    8 KSP Residual norm 1.016927787321e-04\n",
      "    9 KSP Residual norm 3.305441847160e-05\n",
      "  1 SNES Function norm 3.021711111259e-05\n",
      "  0 SNES Function norm 2.352577982225e-01\n",
      "    Residual norms for Solver_14_ solve.\n",
      "    0 KSP Residual norm 4.662224909913e-01\n",
      "    1 KSP Residual norm 1.308304571920e-01\n",
      "    2 KSP Residual norm 3.675067184174e-02\n",
      "    3 KSP Residual norm 1.198851986901e-02\n",
      "    4 KSP Residual norm 4.847809939836e-03\n",
      "    5 KSP Residual norm 1.779671490862e-03\n",
      "    6 KSP Residual norm 6.606400480385e-04\n",
      "    7 KSP Residual norm 2.862974583735e-04\n",
      "    8 KSP Residual norm 9.092912549642e-05\n",
      "    9 KSP Residual norm 2.899026967379e-05\n",
      "  1 SNES Function norm 2.618219715153e-05\n",
      "  0 SNES Function norm 2.081588556650e-01\n",
      "    Residual norms for Solver_14_ solve.\n",
      "    0 KSP Residual norm 4.156850990805e-01\n",
      "    1 KSP Residual norm 1.156419232977e-01\n",
      "    2 KSP Residual norm 3.377209422854e-02\n",
      "    3 KSP Residual norm 1.082700216683e-02\n",
      "    4 KSP Residual norm 4.371252675824e-03\n",
      "    5 KSP Residual norm 1.608015818152e-03\n",
      "    6 KSP Residual norm 5.939159194124e-04\n",
      "    7 KSP Residual norm 2.567259407852e-04\n",
      "    8 KSP Residual norm 8.090958515797e-05\n",
      "    9 KSP Residual norm 2.659498917271e-05\n",
      "  1 SNES Function norm 2.387613974330e-05\n",
      "  0 SNES Function norm 1.937539199874e-01\n",
      "    Residual norms for Solver_14_ solve.\n",
      "    0 KSP Residual norm 3.660019450414e-01\n",
      "    1 KSP Residual norm 1.012449593721e-01\n",
      "    2 KSP Residual norm 3.016900019735e-02\n",
      "    3 KSP Residual norm 9.957951093233e-03\n",
      "    4 KSP Residual norm 4.027053391943e-03\n",
      "    5 KSP Residual norm 1.469370028478e-03\n",
      "    6 KSP Residual norm 5.396240668210e-04\n",
      "    7 KSP Residual norm 2.271461084950e-04\n",
      "    8 KSP Residual norm 7.402569637476e-05\n",
      "    9 KSP Residual norm 2.413015212591e-05\n",
      "  1 SNES Function norm 2.192774200228e-05\n",
      "Timestep: 40, time 0.12751568320252216\n",
      "  0 SNES Function norm 1.713140082480e-01\n",
      "    Residual norms for Solver_14_ solve.\n",
      "    0 KSP Residual norm 3.275014386494e-01\n",
      "    1 KSP Residual norm 8.737078444362e-02\n",
      "    2 KSP Residual norm 2.687213724804e-02\n",
      "    3 KSP Residual norm 8.787664223367e-03\n",
      "    4 KSP Residual norm 3.617192856344e-03\n",
      "    5 KSP Residual norm 1.260833952669e-03\n",
      "    6 KSP Residual norm 4.757542865847e-04\n",
      "    7 KSP Residual norm 1.966100827069e-04\n",
      "    8 KSP Residual norm 6.042671590804e-05\n",
      "    9 KSP Residual norm 2.060145655779e-05\n",
      "  1 SNES Function norm 1.819100561225e-05\n",
      "  0 SNES Function norm 1.542271929937e-01\n",
      "    Residual norms for Solver_14_ solve.\n",
      "    0 KSP Residual norm 2.899407647694e-01\n",
      "    1 KSP Residual norm 7.762840966403e-02\n",
      "    2 KSP Residual norm 2.439377336038e-02\n",
      "    3 KSP Residual norm 7.951245333685e-03\n",
      "    4 KSP Residual norm 3.189174885852e-03\n",
      "    5 KSP Residual norm 1.154055078067e-03\n",
      "    6 KSP Residual norm 4.241741342927e-04\n",
      "    7 KSP Residual norm 1.754189293112e-04\n",
      "    8 KSP Residual norm 5.778549679325e-05\n",
      "    9 KSP Residual norm 1.899498942539e-05\n",
      "  1 SNES Function norm 1.737169503945e-05\n",
      "  0 SNES Function norm 1.419356276144e-01\n",
      "    Residual norms for Solver_14_ solve.\n",
      "    0 KSP Residual norm 2.554491464883e-01\n",
      "    1 KSP Residual norm 6.657500094726e-02\n",
      "    2 KSP Residual norm 2.163952973113e-02\n",
      "    3 KSP Residual norm 6.743714153776e-03\n",
      "    4 KSP Residual norm 2.666299041981e-03\n",
      "    5 KSP Residual norm 9.953902746315e-04\n",
      "    6 KSP Residual norm 3.544054919803e-04\n",
      "    7 KSP Residual norm 1.514579514466e-04\n",
      "    8 KSP Residual norm 4.900847694450e-05\n",
      "    9 KSP Residual norm 1.629677497697e-05\n",
      "  1 SNES Function norm 1.500239684453e-05\n",
      "  0 SNES Function norm 1.339450298705e-01\n",
      "    Residual norms for Solver_14_ solve.\n",
      "    0 KSP Residual norm 2.297263165696e-01\n",
      "    1 KSP Residual norm 6.048620647282e-02\n",
      "    2 KSP Residual norm 1.829847460780e-02\n",
      "    3 KSP Residual norm 5.775775135479e-03\n",
      "    4 KSP Residual norm 2.326081913902e-03\n",
      "    5 KSP Residual norm 8.641079797396e-04\n",
      "    6 KSP Residual norm 2.994387291383e-04\n",
      "    7 KSP Residual norm 1.301834057094e-04\n",
      "    8 KSP Residual norm 4.126632667759e-05\n",
      "    9 KSP Residual norm 1.454615633928e-05\n",
      "  1 SNES Function norm 1.300527300911e-05\n",
      "  0 SNES Function norm 1.285053937370e-01\n",
      "    Residual norms for Solver_14_ solve.\n",
      "    0 KSP Residual norm 2.010217455509e-01\n",
      "    1 KSP Residual norm 5.449025846566e-02\n",
      "    2 KSP Residual norm 1.679258699499e-02\n",
      "    3 KSP Residual norm 5.166940355687e-03\n",
      "    4 KSP Residual norm 2.134667802719e-03\n",
      "    5 KSP Residual norm 8.189528924733e-04\n",
      "    6 KSP Residual norm 2.897842345078e-04\n",
      "    7 KSP Residual norm 1.233878285600e-04\n",
      "    8 KSP Residual norm 3.991892988938e-05\n",
      "    9 KSP Residual norm 1.354400026959e-05\n",
      "  1 SNES Function norm 1.235867453176e-05\n",
      "Timestep: 45, time 0.13708032282577876\n"
     ]
    }
   ],
   "source": [
    "# Null space ?\n",
    "\n",
    "for step in range(0, max_steps):\n",
    "\n",
    "    stokes.solve(zero_init_guess=False)\n",
    "    delta_t = 5 * adv_diff.estimate_dt()\n",
    "    adv_diff.solve(timestep=delta_t, zero_init_guess=False, verbose=False)\n",
    "\n",
    "    timestep += 1\n",
    "    elapsed_time += delta_t\n",
    "\n",
    "    if timestep % 5 == 0:\n",
    "        print(f\"Timestep: {timestep}, time {elapsed_time}\")"
   ]
  },
  {
   "cell_type": "code",
   "execution_count": 21,
   "id": "09e26f46-452e-49ec-8180-103163cc4fc2",
   "metadata": {},
   "outputs": [],
   "source": [
    "# visualise it\n",
    "\n",
    "\n",
    "if uw.mpi.size == 1:\n",
    "    import pyvista as pv\n",
    "    import underworld3.visualisation as vis\n",
    "\n",
    "    pvmesh = vis.mesh_to_pv_mesh(meshball)\n",
    "    pvmesh.point_data[\"P\"] = vis.scalar_fn_to_pv_points(pvmesh, p_soln.sym)\n",
    "    pvmesh.point_data[\"V\"] = vis.vector_fn_to_pv_points(pvmesh, v_soln.sym)\n",
    "    pvmesh.point_data[\"T\"] = vis.scalar_fn_to_pv_points(pvmesh, t_soln.sym)\n",
    "\n",
    "    pvmesh_t = vis.meshVariable_to_pv_mesh_object(t_soln)\n",
    "    pvmesh_t.point_data[\"T\"] = vis.scalar_fn_to_pv_points(pvmesh_t, t_soln.sym)\n",
    "\n",
    "    skip = 1\n",
    "    points = np.zeros((meshball._centroids[::skip].shape[0], 3))\n",
    "    points[:, 0] = meshball._centroids[::skip, 0]\n",
    "    points[:, 1] = meshball._centroids[::skip, 1]\n",
    "    point_cloud = pv.PolyData(points)\n",
    "\n",
    "    pvstream = pvmesh.streamlines_from_source(\n",
    "        point_cloud,\n",
    "        vectors=\"V\",\n",
    "        integration_direction=\"both\",\n",
    "        integrator_type=45,\n",
    "        surface_streamlines=True,\n",
    "        initial_step_length=0.01,\n",
    "        max_time=1.0,\n",
    "        max_steps=500,\n",
    "    )\n",
    "\n",
    "    pl = pv.Plotter(window_size=(750, 750))\n",
    "\n",
    "    pl.add_mesh(\n",
    "        pvmesh_t,\n",
    "        cmap=\"RdBu_r\",\n",
    "        edge_color=\"Grey\",\n",
    "        edge_opacity=0.33,\n",
    "        scalars=\"T\",\n",
    "        show_edges=True,\n",
    "        use_transparency=False,\n",
    "        opacity=1.0,\n",
    "        show_scalar_bar=False,\n",
    "    )\n",
    "\n",
    "    pl.add_mesh(\n",
    "        pvstream,\n",
    "        opacity=0.33,\n",
    "        show_scalar_bar=False,\n",
    "        cmap=\"Greens\",\n",
    "        render_lines_as_tubes=False,\n",
    "    )\n",
    "\n",
    "    pl.export_html(\"html5/annulus_convection_plot.html\")\n",
    "    # pl.show(cpos=\"xy\", jupyter_backend=\"trame\")"
   ]
  },
  {
   "cell_type": "code",
   "execution_count": 22,
   "id": "3775ea27-4d60-4675-a1cc-a9ba016b5d73",
   "metadata": {},
   "outputs": [
    {
     "data": {
      "text/html": [
       "\n",
       "        <iframe\n",
       "            width=\"500\"\n",
       "            height=\"400\"\n",
       "            src=\"html5/annulus_convection_plot.html\"\n",
       "            frameborder=\"0\"\n",
       "            allowfullscreen\n",
       "            \n",
       "        ></iframe>\n",
       "        "
      ],
      "text/plain": [
       "<IPython.lib.display.IFrame at 0x351107ce0>"
      ]
     },
     "execution_count": 22,
     "metadata": {},
     "output_type": "execute_result"
    }
   ],
   "source": [
    "#| fig-cap: \"Interactive Image: Convection model output\"\n",
    "from IPython.display import IFrame\n",
    "\n",
    "IFrame(src=\"html5/annulus_convection_plot.html\", width=500, height=400)"
   ]
  },
  {
   "cell_type": "markdown",
   "id": "c3d1d6ff-68ac-46c0-8a47-e29e95fed462",
   "metadata": {},
   "source": [
    "## Exercise - Null space\n",
    "\n",
    "Based on our previous notebook, can you see how to calculate and (if necessary) remove rigid-body the rotation \n",
    "null-space from the solution ? \n",
    "\n",
    "The use of a coarse-level singular-value decomposition for the velocity solver should help, in this case, but sometimes\n",
    "you can see that there is a rigid body rotation (look at the streamlines). It's wise to check and quantify the presence of \n",
    "the null space.\n",
    "\n",
    "```python\n",
    "    stokes.petsc_options[\"fieldsplit_velocity_mg_coarse_pc_type\"] = \"svd\"\n",
    "```\n",
    "\n",
    "## Exercise - Heat flux\n",
    "\n",
    "Could you calculate the radial heat flux field ? Its surface average value plotted against\n",
    "time tells you if you have reached a steady state.\n",
    "\n",
    "Hint:\n",
    "\n",
    "$$\n",
    "    Q_\\textrm{surf} = \\nabla T \\cdot \\hat{r} + T (\\mathbf{v} \\cdot \\hat{r} )\n",
    "$$ \n",
    "\n",
    "```python\n",
    "    Q_surf = -meshball.vector.gradient(t_soln.sym).dot(unit_rvec) +\\\n",
    "                    t_soln.sym[0] * v_soln.sym.dot(unit_rvec)\n",
    "```\n",
    "\n",
    "\n"
   ]
  },
  {
   "cell_type": "markdown",
   "id": "8c1debaf-6ee8-421d-95d7-9db3c096c2bf",
   "metadata": {},
   "source": [
    "### References\n",
    "\n",
    "Schubert, G., Turcotte, D. L., & Olson, P. (2001). Mantle Convection in the Earth and Planets (1st ed.). Cambridge University Press. https://doi.org/10.1017/CBO9780511612879\n"
   ]
  },
  {
   "cell_type": "code",
   "execution_count": null,
   "id": "a49e509c-fd26-4c01-9051-ba232c34b45f",
   "metadata": {},
   "outputs": [],
   "source": []
  }
 ],
 "metadata": {
  "kernelspec": {
   "display_name": "Python (Pixi)",
   "language": "python",
   "name": "pixi-kernel-python3"
  },
  "language_info": {
   "codemirror_mode": {
    "name": "ipython",
    "version": 3
   },
   "file_extension": ".py",
   "mimetype": "text/x-python",
   "name": "python",
   "nbconvert_exporter": "python",
   "pygments_lexer": "ipython3",
   "version": "3.12.11"
  }
 },
 "nbformat": 4,
 "nbformat_minor": 5
}
