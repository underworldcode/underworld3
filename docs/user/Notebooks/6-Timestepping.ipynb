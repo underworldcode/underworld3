{
 "cells": [
  {
   "cell_type": "markdown",
   "id": "26d2a9ca-c094-40f2-b978-333c14142874",
   "metadata": {},
   "source": [
    "# Notebook 6: Rayleigh-Bénard Convection (time-stepping example)\n",
    "\n",
    "<div style=\"float: right; width: 40%\">\n",
    "    \n",
    "![](media/AnnulusConvectionModel.png)\n",
    "\n",
    "</div>\n",
    "\n",
    "\n",
    "We'll look at a convection problem which couples Stokes Flow with time-dependent advection/diffusion to give simple Rayleigh-Bénard convection model. \n",
    "\n",
    "$$\n",
    "-\\nabla \\cdot\n",
    "    \\left[\n",
    "            \\frac{\\eta}{2}\\left( \\nabla \\mathbf{u} + \\nabla \\mathbf{u}^T \\right) -  p \\mathbf{I} \\right] =\n",
    "     -\\rho_0 \\alpha T \\mathbf{g} \n",
    "$$\n",
    "$$\n",
    "\\nabla \\cdot \\mathbf{u} = 0\n",
    "$$\n",
    "\n",
    "$\\eta$ is viscosity, $p$ is pressure, $\\rho_0$ is a reference density, $\\alpha$ is thermal expansivity, and $T$ is the temperature. Here we explicitly express density variations in terms of temperature variations.\n",
    "\n",
    "Thermal evolution is given by\n",
    "$$\n",
    "\\frac{\\partial T}{\\partial t} - \\mathbf{u}\\cdot\\nabla T = \\kappa \\nabla^2 T \n",
    "$$\n",
    "where the velocity, $\\mathbf{u}$ is the result of the Stokes flow calculation. $\\kappa$ is the thermal diffusivity (compare this with Notebook 4).  \n",
    "\n",
    "The starting point is our previous notebook where we solved for Stokes\n",
    "flow in a cylindrical annulus geometry. We then add an advection-diffusion \n",
    "solver to evolve temperature. The Stokes buoyancy force is proportional to the\n",
    "temperature anomaly, and the velocity solution is fed back into the \n",
    "temperature advection term. The timestepping loop is written by\n",
    "hand because usually you will want to do some analysis or output some checkpoints.\n",
    "\n",
    "To read more about the applications of simple mantle convection models like this one, see (for example) Schubert et al, 2001.\n",
    "\n"
   ]
  },
  {
   "cell_type": "code",
   "execution_count": 1,
   "id": "0974f1a1-60dd-4d52-9855-79e8030450e9",
   "metadata": {},
   "outputs": [],
   "source": [
    "#|  echo: false  # Hide in html version\n",
    "\n",
    "# This is required to fix pyvista\n",
    "# (visualisation) crashes in interactive notebooks (including on binder)\n",
    "\n",
    "import nest_asyncio\n",
    "\n",
    "nest_asyncio.apply()"
   ]
  },
  {
   "cell_type": "code",
   "execution_count": 2,
   "id": "dddf1a25-1d89-4c39-90dc-9ca5a45db5dd",
   "metadata": {},
   "outputs": [],
   "source": [
    "#| output: false # Suppress warnings in html version\n",
    "\n",
    "import numpy as np\n",
    "import sympy\n",
    "import underworld3 as uw"
   ]
  },
  {
   "cell_type": "code",
   "execution_count": 3,
   "id": "d17b5f9b-d00e-43c2-ba10-b9a8920aa3be",
   "metadata": {},
   "outputs": [],
   "source": [
    "res = 10\n",
    "r_o = 1.0\n",
    "r_i = 0.55\n",
    "\n",
    "rayleigh_number = 3.0e4\n",
    "\n",
    "meshball = uw.meshing.Annulus(\n",
    "    radiusOuter=r_o,\n",
    "    radiusInner=r_i,\n",
    "    cellSize=1 / res,\n",
    "    qdegree=3,\n",
    ")\n",
    "\n",
    "# Coordinate directions etc\n",
    "x, y = meshball.CoordinateSystem.X\n",
    "r, th = meshball.CoordinateSystem.xR\n",
    "unit_rvec = meshball.CoordinateSystem.unit_e_0\n",
    "\n",
    "# Orientation of surface normals\n",
    "Gamma_N = unit_rvec"
   ]
  },
  {
   "cell_type": "code",
   "execution_count": 4,
   "id": "377301f7-9596-4216-917f-fc5dca474c0d",
   "metadata": {},
   "outputs": [],
   "source": [
    "# Mesh variables for the unknowns\n",
    "\n",
    "v_soln = uw.discretisation.MeshVariable(\"V0\", meshball, 2, degree=2, varsymbol=r\"{v_0}\")\n",
    "p_soln = uw.discretisation.MeshVariable(\"p\", meshball, 1, degree=1, continuous=True)\n",
    "t_soln = uw.discretisation.MeshVariable(\"T\", meshball, 1, degree=3, continuous=True)"
   ]
  },
  {
   "cell_type": "markdown",
   "id": "c93891fa-b8ce-432d-83ae-1980914995f6",
   "metadata": {},
   "source": [
    "### Create linked solvers\n",
    "\n",
    "We create the Stokes solver as we did in the previous notebook. \n",
    "The buoyancy force is proportional to the temperature anomaly\n",
    "(`t_soln`). Solvers can either be provided with unknowns as pre-defined\n",
    "meshVariables, or they will define their own. When solvers are coupled,\n",
    "explicitly defining unknowns makes everything clearer.\n",
    "\n",
    "The advection-diffusion solver evolved `t_soln` using the Stokes\n",
    "velocity `v_soln` in the fluid-transport term. \n",
    "\n",
    "### Curved, free-slip boundaries\n",
    "\n",
    "In the annulus, a free slip boundary corresponds to zero radial \n",
    "velocity. However, in this mesh, $v_r$ is not one of the unknowns\n",
    "($\\mathbf{v} = (v_x, v_y)$). We apply a non linear boundary condition that\n",
    "penalises $v_r$ on the boundary as discussed previously in Example 5. "
   ]
  },
  {
   "cell_type": "code",
   "execution_count": 5,
   "id": "3f3c3875-4ba1-4e99-a793-3446af229b6d",
   "metadata": {},
   "outputs": [],
   "source": [
    "stokes = uw.systems.Stokes(\n",
    "    meshball,\n",
    "    velocityField=v_soln,\n",
    "    pressureField=p_soln,\n",
    ")\n",
    "\n",
    "stokes.bodyforce = rayleigh_number * t_soln.sym * unit_rvec\n",
    "\n",
    "stokes.constitutive_model = uw.constitutive_models.ViscousFlowModel\n",
    "stokes.constitutive_model.Parameters.shear_viscosity_0 = 1\n",
    "stokes.tolerance = 1.0e-3\n",
    "\n",
    "stokes.petsc_options[\"fieldsplit_velocity_mg_coarse_pc_type\"] = \"svd\"\n",
    "\n",
    "stokes.add_natural_bc(1000000 * Gamma_N.dot(v_soln.sym) * Gamma_N, \"Upper\")\n",
    "\n",
    "if r_i != 0.0:\n",
    "    stokes.add_natural_bc(1000000 * Gamma_N.dot(v_soln.sym) * Gamma_N, \"Lower\")"
   ]
  },
  {
   "cell_type": "code",
   "execution_count": 6,
   "id": "61f1c083-ce57-420c-87ee-32a0c546e40f",
   "metadata": {},
   "outputs": [],
   "source": [
    "# Create solver for the energy equation (Advection-Diffusion of temperature)\n",
    "\n",
    "adv_diff = uw.systems.AdvDiffusion(\n",
    "    meshball,\n",
    "    u_Field=t_soln,\n",
    "    V_fn=v_soln,\n",
    "    order=2,\n",
    "    verbose=False,\n",
    ")\n",
    "\n",
    "adv_diff.constitutive_model = uw.constitutive_models.DiffusionModel\n",
    "adv_diff.constitutive_model.Parameters.diffusivity = 1\n",
    "\n",
    "## Boundary conditions for this solver\n",
    "\n",
    "adv_diff.add_dirichlet_bc(+1.0, \"Lower\")\n",
    "adv_diff.add_dirichlet_bc(-0.0, \"Upper\")\n",
    "\n",
    "adv_diff.petsc_options.setValue(\"snes_rtol\", 0.001)\n",
    "adv_diff.petsc_options.setValue(\"ksp_rtol\", 0.0001)\n",
    "adv_diff.petsc_options.setValue(\"snes_monitor\", None)\n",
    "# adv_diff.petsc_options.setValue(\"ksp_monitor\", None)"
   ]
  },
  {
   "cell_type": "code",
   "execution_count": 7,
   "id": "6b97dabb-27b1-4682-982e-6536eeef6652",
   "metadata": {
    "scrolled": true
   },
   "outputs": [
    {
     "data": {
      "text/markdown": [
       "\n",
       "# Advection-Diffusion Equation Solver (Scalar Variable)\n",
       "\n",
       "This class provides a solver for the scalar Advection-Diffusion equation using the characteristics based Semi-Lagrange Crank-Nicholson method\n",
       "which is described in Spiegelman & Katz, (2006).\n",
       "\n",
       "$$\n",
       "\\color{Green}{\\underbrace{ \\Bigl[ \\frac{\\partial u}{\\partial t} + \\left( \\mathbf{v} \\cdot \\nabla \\right) u \\Bigr]}_{\\dot{\\mathbf{u}}}} -\n",
       "\\nabla \\cdot\n",
       "        \\color{Blue}{\\underbrace{\\Bigl[ \\boldsymbol\\kappa \\nabla u \\Bigr]}_{\\mathbf{F}}} =\n",
       "        \\color{Maroon}{\\underbrace{\\Bigl[ f \\Bigl] }_{\\mathbf{h}}}\n",
       "$$\n",
       "\n",
       "The term $\\mathbf{F}$ relates diffusive fluxes to gradients in the unknown $u$. The advective flux that results from having gradients along\n",
       "the direction of transport (given by the velocity vector field $\\mathbf{v}$ ) are included in the $\\dot{\\mathbf{u}}$ term.\n",
       "\n",
       "The term $\\dot{\\mathbf{u}}$ involves upstream sampling to find the value $u^*$ which represents the value of $u$ at\n",
       "the points which later arrive at the nodal points of the mesh. This is achieved using a \"hidden\"\n",
       "swarm variable which is advected backwards from the nodal points automatically during the `solve` phase.\n",
       "\n",
       "## Properties\n",
       "\n",
       "  - The unknown is $u$.\n",
       "\n",
       "  - The velocity field is $\\mathbf{v}$ and is provided as a `sympy` function to allow operations such as time-averaging to be\n",
       "    calculated in situ (e.g. `V_Field = v_solution.sym`) **NOTE: no it's not.\n",
       "\n",
       "  - The diffusivity tensor, $\\kappa$ is provided by setting the `constitutive_model` property to\n",
       "    one of the scalar `uw.constitutive_models` classes and populating the parameters.\n",
       "    It is usually a constant or a function of position / time and may also be non-linear\n",
       "    or anisotropic.\n",
       "\n",
       "  - Volumetric sources of $u$ are specified using the $f$ property and can be any valid combination of `sympy` functions of position and\n",
       "    `meshVariable` or `swarmVariable` types.\n",
       "\n",
       "## References\n",
       "\n",
       "Spiegelman, M., & Katz, R. F. (2006). A semi-Lagrangian Crank-Nicolson algorithm for the numerical solution of advection-diffusion problems. Geochemistry, Geophysics, Geosystems, 7(4). https://doi.org/10.1029/2005GC001073\n",
       "\n"
      ],
      "text/plain": [
       "<IPython.core.display.Markdown object>"
      ]
     },
     "metadata": {},
     "output_type": "display_data"
    }
   ],
   "source": [
    "uw.systems.AdvDiffusion.view()"
   ]
  },
  {
   "cell_type": "code",
   "execution_count": 8,
   "id": "ea889c84-5fae-48e7-b761-afdec4f2c4e2",
   "metadata": {},
   "outputs": [
    {
     "data": {
      "text/markdown": [
       "\n",
       "# Nodal-Swarm  Semi-Lagrangian History Manager:\n",
       "\n",
       "This manages the semi-Lagrangian update of a Mesh Variable, $\\psi$, on the mesh across timesteps.\n",
       "$$\\quad \\psi_p^{t-n\\Delta t} \\leftarrow \\psi_p^{t-(n-1)\\Delta t}\\quad$$\n",
       "$$\\quad \\psi_p^{t-(n-1)\\Delta t} \\leftarrow \\psi_p^{t-(n-2)\\Delta t} \\cdots\\quad$$\n",
       "$$\\quad \\psi_p^{t-\\Delta t} \\leftarrow \\psi_p^{t}$$\n"
      ],
      "text/plain": [
       "<IPython.core.display.Markdown object>"
      ]
     },
     "metadata": {},
     "output_type": "display_data"
    }
   ],
   "source": [
    "uw.systems.SemiLagragian_DDt.view()"
   ]
  },
  {
   "cell_type": "markdown",
   "id": "b76fd635-606b-446e-9f79-b1dde4939a05",
   "metadata": {},
   "source": [
    "#### Underworld expressions\n",
    "\n",
    "Note that the parameters in the consititutive models are defined as `uw.expression`s because \n",
    "  1. We generally would like to display them symbolically in equations rather than see their floating point value\n",
    "  2. They can represent complex expressions that \"blow up\" the symbolic forms when we inspect the equations\n",
    "  3. We would like to be able to substitute new values in the equations and use the *lazy evaluation* of expressions to avoid having to redefine expressions in multiple locations where these symbols appear\n",
    "  4. For future reference, in optimisation problems, we differentiate expressions with respect to their parameters and want the results also to be evaluated in a lazy fashion."
   ]
  },
  {
   "cell_type": "code",
   "execution_count": 9,
   "id": "1ddd1c6e-0847-4add-af60-032f039c2315",
   "metadata": {},
   "outputs": [
    {
     "data": {
      "text/plain": [
       "underworld3.function.expressions.UWexpression"
      ]
     },
     "metadata": {},
     "output_type": "display_data"
    },
    {
     "data": {
      "text/plain": [
       "underworld3.function.expressions.UWexpression"
      ]
     },
     "metadata": {},
     "output_type": "display_data"
    },
    {
     "data": {
      "text/latex": [
       "$\\displaystyle 1$"
      ],
      "text/plain": [
       "1"
      ]
     },
     "execution_count": 9,
     "metadata": {},
     "output_type": "execute_result"
    }
   ],
   "source": [
    "display(type(stokes.constitutive_model.Parameters.shear_viscosity_0))\n",
    "display(type(adv_diff.constitutive_model.Parameters.diffusivity))\n",
    "\n",
    "stokes.constitutive_model.Parameters.shear_viscosity_0.sym"
   ]
  },
  {
   "cell_type": "markdown",
   "id": "606ab233-9562-478a-ba15-5b2f801789fd",
   "metadata": {},
   "source": [
    "### Initial condition\n",
    "\n",
    "We need to set an initial condition for the temperature field as the \n",
    "coupled system is an initial value problem. Choose whatever works but\n",
    "remember that the boundary conditions will over-rule values you set on \n",
    "the lower and upper boundaries."
   ]
  },
  {
   "cell_type": "code",
   "execution_count": 10,
   "id": "366ce888-c27a-4a30-bca0-ad406ccaa34c",
   "metadata": {},
   "outputs": [],
   "source": [
    "# Initial temperature\n",
    "\n",
    "init_t = 0.1 * sympy.sin(3 * th) * sympy.cos(np.pi * (r - r_i) / (r_o - r_i)) + (\n",
    "    r_o - r\n",
    ") / (r_o - r_i)\n",
    "\n",
    "t_soln.array[...] = uw.function.evaluate(init_t, t_soln.coords)\n"
   ]
  },
  {
   "cell_type": "markdown",
   "id": "99b3d65e-8702-418f-9da7-8d4c0d1508c2",
   "metadata": {},
   "source": [
    "#### Initial velocity solve\n",
    "\n",
    "The first solve allows us to determine the magnitude of the velocity field \n",
    "and is useful to keep separated to check convergence rates etc. \n",
    "\n",
    "For non-linear problems, we usually need an initial guess using a \n",
    "reasonably close linear problem. \n",
    "\n",
    "`zero_init_guess` is used to reset any information in the vector of \n",
    "unknowns (i.e. do not use any initial information if `zero_init_guess==True`)."
   ]
  },
  {
   "cell_type": "code",
   "execution_count": 11,
   "id": "51f82885-0b41-4454-9953-ac7ea23e38e3",
   "metadata": {},
   "outputs": [],
   "source": [
    "stokes.solve(zero_init_guess=True)"
   ]
  },
  {
   "cell_type": "code",
   "execution_count": 12,
   "id": "1c660972-f858-43bc-a6c4-5e09cc8f9fdf",
   "metadata": {},
   "outputs": [],
   "source": [
    "# Keep the initialisation separate\n",
    "# so we can run the loop again in a notebook\n",
    "\n",
    "max_steps = 25\n",
    "timestep = 0\n",
    "elapsed_time = 0.0"
   ]
  },
  {
   "cell_type": "code",
   "execution_count": 13,
   "id": "fba03f7d-0f61-4047-96ef-834442e42793",
   "metadata": {},
   "outputs": [
    {
     "data": {
      "text/markdown": [
       "\n",
       "# Advection-Diffusion Equation Solver (Scalar Variable)\n",
       "\n",
       "This class provides a solver for the scalar Advection-Diffusion equation using the characteristics based Semi-Lagrange Crank-Nicholson method\n",
       "which is described in Spiegelman & Katz, (2006).\n",
       "\n",
       "$$\n",
       "\\color{Green}{\\underbrace{ \\Bigl[ \\frac{\\partial u}{\\partial t} + \\left( \\mathbf{v} \\cdot \\nabla \\right) u \\Bigr]}_{\\dot{\\mathbf{u}}}} -\n",
       "\\nabla \\cdot\n",
       "        \\color{Blue}{\\underbrace{\\Bigl[ \\boldsymbol\\kappa \\nabla u \\Bigr]}_{\\mathbf{F}}} =\n",
       "        \\color{Maroon}{\\underbrace{\\Bigl[ f \\Bigl] }_{\\mathbf{h}}}\n",
       "$$\n",
       "\n",
       "The term $\\mathbf{F}$ relates diffusive fluxes to gradients in the unknown $u$. The advective flux that results from having gradients along\n",
       "the direction of transport (given by the velocity vector field $\\mathbf{v}$ ) are included in the $\\dot{\\mathbf{u}}$ term.\n",
       "\n",
       "The term $\\dot{\\mathbf{u}}$ involves upstream sampling to find the value $u^*$ which represents the value of $u$ at\n",
       "the points which later arrive at the nodal points of the mesh. This is achieved using a \"hidden\"\n",
       "swarm variable which is advected backwards from the nodal points automatically during the `solve` phase.\n",
       "\n",
       "## Properties\n",
       "\n",
       "  - The unknown is $u$.\n",
       "\n",
       "  - The velocity field is $\\mathbf{v}$ and is provided as a `sympy` function to allow operations such as time-averaging to be\n",
       "    calculated in situ (e.g. `V_Field = v_solution.sym`) **NOTE: no it's not.\n",
       "\n",
       "  - The diffusivity tensor, $\\kappa$ is provided by setting the `constitutive_model` property to\n",
       "    one of the scalar `uw.constitutive_models` classes and populating the parameters.\n",
       "    It is usually a constant or a function of position / time and may also be non-linear\n",
       "    or anisotropic.\n",
       "\n",
       "  - Volumetric sources of $u$ are specified using the $f$ property and can be any valid combination of `sympy` functions of position and\n",
       "    `meshVariable` or `swarmVariable` types.\n",
       "\n",
       "## References\n",
       "\n",
       "Spiegelman, M., & Katz, R. F. (2006). A semi-Lagrangian Crank-Nicolson algorithm for the numerical solution of advection-diffusion problems. Geochemistry, Geophysics, Geosystems, 7(4). https://doi.org/10.1029/2005GC001073\n",
       "\n"
      ],
      "text/plain": [
       "<IPython.core.display.Markdown object>"
      ]
     },
     "metadata": {},
     "output_type": "display_data"
    },
    {
     "data": {
      "text/markdown": [
       "---"
      ],
      "text/plain": [
       "<IPython.core.display.Markdown object>"
      ]
     },
     "metadata": {},
     "output_type": "display_data"
    },
    {
     "data": {
      "text/markdown": [
       "**Class**: <class 'underworld3.systems.solvers.SNES_AdvectionDiffusion'>"
      ],
      "text/plain": [
       "<IPython.core.display.Markdown object>"
      ]
     },
     "metadata": {},
     "output_type": "display_data"
    },
    {
     "data": {
      "text/markdown": [
       "# Underworld / PETSc General Scalar Equation Solver"
      ],
      "text/plain": [
       "<IPython.core.display.Markdown object>"
      ]
     },
     "metadata": {},
     "output_type": "display_data"
    },
    {
     "data": {
      "text/markdown": [
       "Primary problem: "
      ],
      "text/plain": [
       "<IPython.core.display.Markdown object>"
      ]
     },
     "metadata": {},
     "output_type": "display_data"
    },
    {
     "data": {
      "text/latex": [
       "$\\tiny \\quad \\nabla \\cdot \\color{Blue}\\left[\\begin{matrix}\\frac{5 \\upkappa { \\hspace{ 0.04pt } {T} }_{,0}(\\mathbf{x})}{12} + \\frac{2 { \\hspace{ 0.04pt } {{ {F[ { \\hspace{ 0.04pt } {T} } ] }^{ * } }} }_{ 0 }(\\mathbf{x})}{3} - \\frac{{ \\hspace{ 0.04pt } {{ {F[ { \\hspace{ 0.04pt } {T} } ] }^{ ** } }} }_{ 0 }(\\mathbf{x})}{12} & \\frac{5 \\upkappa { \\hspace{ 0.04pt } {T} }_{,1}(\\mathbf{x})}{12} + \\frac{2 { \\hspace{ 0.04pt } {{ {F[ { \\hspace{ 0.04pt } {T} } ] }^{ * } }} }_{ 1 }(\\mathbf{x})}{3} - \\frac{{ \\hspace{ 0.04pt } {{ {F[ { \\hspace{ 0.04pt } {T} } ] }^{ ** } }} }_{ 1 }(\\mathbf{x})}{12}\\end{matrix}\\right]$ + "
      ],
      "text/plain": [
       "<IPython.core.display.Latex object>"
      ]
     },
     "metadata": {},
     "output_type": "display_data"
    },
    {
     "data": {
      "text/latex": [
       "$\\tiny \\phantom{ \\quad \\nabla \\cdot} \\color{DarkRed}\\left[\\begin{matrix}\\frac{{ \\hspace{ 0.04pt } {T} }(\\mathbf{x}) - { \\hspace{ 0.04pt } {{ { \\hspace{ 0.04pt } {T} }^{ * } }} }(\\mathbf{x})}{\\Delta t}\\end{matrix}\\right]\\color{Black} = 0 $"
      ],
      "text/plain": [
       "<IPython.core.display.Latex object>"
      ]
     },
     "metadata": {},
     "output_type": "display_data"
    },
    {
     "data": {
      "text/markdown": [
       "*Where:*"
      ],
      "text/plain": [
       "<IPython.core.display.Markdown object>"
      ]
     },
     "metadata": {},
     "output_type": "display_data"
    },
    {
     "data": {
      "text/latex": [
       "$\\quad$$\\displaystyle \\Delta t$$=$$\\displaystyle 0$"
      ],
      "text/plain": [
       "<IPython.core.display.Latex object>"
      ]
     },
     "metadata": {},
     "output_type": "display_data"
    },
    {
     "data": {
      "text/latex": [
       "$\\quad$$\\displaystyle \\upkappa$$=$$\\displaystyle 1$"
      ],
      "text/plain": [
       "<IPython.core.display.Latex object>"
      ]
     },
     "metadata": {},
     "output_type": "display_data"
    },
    {
     "data": {
      "text/markdown": [
       "# Boundary Conditions"
      ],
      "text/plain": [
       "<IPython.core.display.Markdown object>"
      ]
     },
     "metadata": {},
     "output_type": "display_data"
    },
    {
     "data": {
      "text/markdown": [
       "| Type   | Boundary | Expression | \n",
       "|:------------------------ | -------- | ---------- | \n",
       "| **essential** | Lower | $\\left[\\begin{matrix}1.0\\end{matrix}\\right]  $ | \n",
       "| **essential** | Upper | $\\left[\\begin{matrix}0.0\\end{matrix}\\right]  $ | \n"
      ],
      "text/plain": [
       "<IPython.core.display.Markdown object>"
      ]
     },
     "metadata": {},
     "output_type": "display_data"
    },
    {
     "data": {
      "text/markdown": [
       "This solver is formulated as a 2 dimensional problem with a 2 dimensional mesh"
      ],
      "text/plain": [
       "<IPython.core.display.Markdown object>"
      ]
     },
     "metadata": {},
     "output_type": "display_data"
    },
    {
     "data": {
      "text/latex": [
       "$\\quad\\mathrm{u} = $ $\\displaystyle \\left[\\begin{matrix}{ \\hspace{ 0.04pt } {T} }(\\mathbf{x})\\end{matrix}\\right]$"
      ],
      "text/plain": [
       "<IPython.core.display.Latex object>"
      ]
     },
     "metadata": {},
     "output_type": "display_data"
    },
    {
     "data": {
      "text/latex": [
       "$\\quad\\mathbf{v} = $ $\\displaystyle \\left[\\begin{matrix}{ \\hspace{ 0.04pt } {{v_0}} }_{ 0 }(\\mathbf{x}) & { \\hspace{ 0.04pt } {{v_0}} }_{ 1 }(\\mathbf{x})\\end{matrix}\\right]$"
      ],
      "text/plain": [
       "<IPython.core.display.Latex object>"
      ]
     },
     "metadata": {},
     "output_type": "display_data"
    },
    {
     "data": {
      "text/latex": [
       "$\\quad\\Delta t = $ $\\displaystyle \\Delta t$"
      ],
      "text/plain": [
       "<IPython.core.display.Latex object>"
      ]
     },
     "metadata": {},
     "output_type": "display_data"
    }
   ],
   "source": [
    "adv_diff.view(class_documentation=True)"
   ]
  },
  {
   "cell_type": "code",
   "execution_count": 14,
   "id": "4a334648-c328-42bf-b71f-383246cebdc9",
   "metadata": {},
   "outputs": [],
   "source": [
    "init_t = 0.1 * sympy.sin(3 * th) * sympy.cos(np.pi * (r - r_i) / (r_o - r_i)) + (\n",
    "    r_o - r\n",
    ") / (r_o - r_i)\n",
    "\n",
    "\n",
    "t_soln.array[:, 0, 0] = uw.function.evaluate(\n",
    "        init_t + 0.0001 * t_soln.sym[0], adv_diff.DuDt.psi_star[0].coords\n",
    "    )"
   ]
  },
  {
   "cell_type": "code",
   "execution_count": 15,
   "id": "d973fc53-7753-45f4-addb-abc3ef85d35d",
   "metadata": {},
   "outputs": [
    {
     "data": {
      "text/plain": [
       "array(0.03904817)"
      ]
     },
     "execution_count": 15,
     "metadata": {},
     "output_type": "execute_result"
    }
   ],
   "source": [
    "adv_diff.estimate_dt().squeeze()"
   ]
  },
  {
   "cell_type": "code",
   "execution_count": 16,
   "id": "2993d3aa-6355-408b-ab60-cf80aebbf0cb",
   "metadata": {},
   "outputs": [
    {
     "name": "stdout",
     "output_type": "stream",
     "text": [
      "  0 SNES Function norm 9.481679797391e+00\n",
      "  1 SNES Function norm 3.380816964104e-03\n"
     ]
    }
   ],
   "source": [
    "adv_diff.solve(timestep=0.01, zero_init_guess=True)"
   ]
  },
  {
   "cell_type": "code",
   "execution_count": null,
   "id": "6a0e2c4f-0ee7-4f11-bf30-edad17c555ed",
   "metadata": {},
   "outputs": [],
   "source": []
  },
  {
   "cell_type": "code",
   "execution_count": 17,
   "id": "8db49d4c-9dcd-4920-901a-65cf8d0056db",
   "metadata": {},
   "outputs": [
    {
     "name": "stdout",
     "output_type": "stream",
     "text": [
      "  0 SNES Function norm 2.939088152591e-01\n",
      "  1 SNES Function norm 1.679236724358e-04\n",
      "  0 SNES Function norm 3.550875431162e-01\n",
      "  1 SNES Function norm 1.104663986437e-04\n",
      "  0 SNES Function norm 6.345358063935e-01\n",
      "  1 SNES Function norm 1.357994747246e-04\n",
      "  0 SNES Function norm 1.048083030876e+00\n",
      "  1 SNES Function norm 1.025944513547e-04\n",
      "  0 SNES Function norm 1.395798202535e+00\n",
      "  1 SNES Function norm 1.577809487831e-04\n",
      "Timestep: 5, time 0.09781729119062521\n",
      "  0 SNES Function norm 1.542345899631e+00\n",
      "  1 SNES Function norm 1.838434528397e-04\n",
      "  0 SNES Function norm 1.501077028079e+00\n",
      "  1 SNES Function norm 1.297576352600e-04\n",
      "  0 SNES Function norm 1.366258260199e+00\n",
      "  1 SNES Function norm 1.230038526746e-04\n",
      "  0 SNES Function norm 1.252400040890e+00\n",
      "  1 SNES Function norm 1.006079489253e-04\n",
      "  0 SNES Function norm 1.161669276021e+00\n",
      "  1 SNES Function norm 8.953331742395e-05\n",
      "Timestep: 10, time 0.10742354817568359\n",
      "  0 SNES Function norm 1.054343204936e+00\n",
      "  1 SNES Function norm 1.044970194583e-04\n",
      "  0 SNES Function norm 9.760617465308e-01\n",
      "  1 SNES Function norm 1.175127475957e-04\n",
      "  0 SNES Function norm 9.256372062088e-01\n",
      "  1 SNES Function norm 1.195151729109e-04\n",
      "  0 SNES Function norm 9.085817620820e-01\n",
      "  1 SNES Function norm 1.145367710290e-04\n",
      "  0 SNES Function norm 8.818459051235e-01\n",
      "  1 SNES Function norm 1.061683434036e-04\n",
      "Timestep: 15, time 0.1172864425710258\n",
      "  0 SNES Function norm 8.488059272223e-01\n",
      "  1 SNES Function norm 9.226840098402e-05\n",
      "  0 SNES Function norm 8.204226788307e-01\n",
      "  1 SNES Function norm 7.856418167763e-05\n",
      "  0 SNES Function norm 7.705258017051e-01\n",
      "  1 SNES Function norm 8.345824404185e-05\n",
      "  0 SNES Function norm 7.029548118529e-01\n",
      "  1 SNES Function norm 7.466586992560e-05\n",
      "  0 SNES Function norm 6.355523213439e-01\n",
      "  1 SNES Function norm 6.402441110032e-05\n",
      "Timestep: 20, time 0.1272821335962599\n",
      "  0 SNES Function norm 6.120667994536e-01\n",
      "  1 SNES Function norm 8.427096283753e-05\n",
      "  0 SNES Function norm 5.744977934828e-01\n",
      "  1 SNES Function norm 7.901391644874e-05\n",
      "  0 SNES Function norm 5.418059989192e-01\n",
      "  1 SNES Function norm 7.211473860812e-05\n",
      "  0 SNES Function norm 5.038140853890e-01\n",
      "  1 SNES Function norm 6.828899235407e-05\n",
      "  0 SNES Function norm 4.515027964201e-01\n",
      "  1 SNES Function norm 6.218147153894e-05\n",
      "Timestep: 25, time 0.13764475143411478\n"
     ]
    }
   ],
   "source": [
    "# Null space ?\n",
    "\n",
    "for step in range(0, max_steps):\n",
    "\n",
    "    stokes.solve(zero_init_guess=False)\n",
    "    delta_t = 1.25 * adv_diff.estimate_dt()\n",
    "    adv_diff.solve(timestep=delta_t, zero_init_guess=False, verbose=False)\n",
    "\n",
    "    timestep += 1\n",
    "    elapsed_time += delta_t\n",
    "\n",
    "    if timestep % 5 == 0:\n",
    "        print(f\"Timestep: {timestep}, time {elapsed_time}\")"
   ]
  },
  {
   "cell_type": "code",
   "execution_count": 18,
   "id": "09e26f46-452e-49ec-8180-103163cc4fc2",
   "metadata": {},
   "outputs": [],
   "source": [
    "# visualise it\n",
    "\n",
    "\n",
    "if uw.mpi.size == 1:\n",
    "    import pyvista as pv\n",
    "    import underworld3.visualisation as vis\n",
    "\n",
    "    pvmesh = vis.mesh_to_pv_mesh(meshball)\n",
    "    pvmesh.point_data[\"P\"] = vis.scalar_fn_to_pv_points(pvmesh, p_soln.sym)\n",
    "    pvmesh.point_data[\"V\"] = vis.vector_fn_to_pv_points(pvmesh, v_soln.sym)\n",
    "    pvmesh.point_data[\"T\"] = vis.scalar_fn_to_pv_points(pvmesh, t_soln.sym)\n",
    "\n",
    "    pvmesh_t = vis.meshVariable_to_pv_mesh_object(t_soln)\n",
    "    pvmesh_t.point_data[\"T\"] = vis.scalar_fn_to_pv_points(pvmesh_t, t_soln.sym)\n",
    "\n",
    "    skip = 1\n",
    "    points = np.zeros((meshball._centroids[::skip].shape[0], 3))\n",
    "    points[:, 0] = meshball._centroids[::skip, 0]\n",
    "    points[:, 1] = meshball._centroids[::skip, 1]\n",
    "    point_cloud = pv.PolyData(points)\n",
    "\n",
    "    pvstream = pvmesh.streamlines_from_source(\n",
    "        point_cloud,\n",
    "        vectors=\"V\",\n",
    "        integration_direction=\"both\",\n",
    "        integrator_type=45,\n",
    "        surface_streamlines=True,\n",
    "        initial_step_length=0.01,\n",
    "        max_time=1.0,\n",
    "        max_steps=500,\n",
    "    )\n",
    "\n",
    "    pl = pv.Plotter(window_size=(750, 750))\n",
    "\n",
    "    pl.add_mesh(\n",
    "        pvmesh_t,\n",
    "        cmap=\"RdBu_r\",\n",
    "        edge_color=\"Grey\",\n",
    "        edge_opacity=0.33,\n",
    "        scalars=\"T\",\n",
    "        show_edges=True,\n",
    "        use_transparency=False,\n",
    "        opacity=1.0,\n",
    "        show_scalar_bar=False,\n",
    "    )\n",
    "\n",
    "    pl.add_mesh(\n",
    "        pvstream,\n",
    "        opacity=0.33,\n",
    "        show_scalar_bar=False,\n",
    "        cmap=\"Greens\",\n",
    "        render_lines_as_tubes=False,\n",
    "    )\n",
    "\n",
    "    pl.export_html(\"html5/annulus_convection_plot.html\")\n",
    "    # pl.show(cpos=\"xy\", jupyter_backend=\"trame\")"
   ]
  },
  {
   "cell_type": "code",
   "execution_count": 19,
   "id": "3775ea27-4d60-4675-a1cc-a9ba016b5d73",
   "metadata": {},
   "outputs": [
    {
     "data": {
      "text/html": [
       "\n",
       "        <iframe\n",
       "            width=\"500\"\n",
       "            height=\"400\"\n",
       "            src=\"html5/annulus_convection_plot.html\"\n",
       "            frameborder=\"0\"\n",
       "            allowfullscreen\n",
       "            \n",
       "        ></iframe>\n",
       "        "
      ],
      "text/plain": [
       "<IPython.lib.display.IFrame at 0x323879970>"
      ]
     },
     "execution_count": 19,
     "metadata": {},
     "output_type": "execute_result"
    }
   ],
   "source": [
    "#| fig-cap: \"Interactive Image: Convection model output\"\n",
    "from IPython.display import IFrame\n",
    "\n",
    "IFrame(src=\"html5/annulus_convection_plot.html\", width=500, height=400)"
   ]
  },
  {
   "cell_type": "markdown",
   "id": "c3d1d6ff-68ac-46c0-8a47-e29e95fed462",
   "metadata": {},
   "source": [
    "## Exercise - Null space\n",
    "\n",
    "Based on our previous notebook, can you see how to calculate and (if necessary) remove rigid-body the rotation \n",
    "null-space from the solution ? \n",
    "\n",
    "The use of a coarse-level singular-value decomposition for the velocity solver should help, in this case, but sometimes\n",
    "you can see that there is a rigid body rotation (look at the streamlines). It's wise to check and quantify the presence of \n",
    "the null space.\n",
    "\n",
    "```python\n",
    "    stokes.petsc_options[\"fieldsplit_velocity_mg_coarse_pc_type\"] = \"svd\"\n",
    "```\n",
    "\n",
    "## Exercise - Heat flux\n",
    "\n",
    "Could you calculate the radial heat flux field ? Its surface average value plotted against\n",
    "time tells you if you have reached a steady state.\n",
    "\n",
    "Hint:\n",
    "\n",
    "$$\n",
    "    Q_\\textrm{surf} = \\nabla T \\cdot \\hat{r} + T (\\mathbf{v} \\cdot \\hat{r} )\n",
    "$$ \n",
    "\n",
    "```python\n",
    "    Q_surf = -meshball.vector.gradient(t_soln.sym).dot(unit_rvec) +\\\n",
    "                    t_soln.sym[0] * v_soln.sym.dot(unit_rvec)\n",
    "```\n",
    "\n",
    "\n"
   ]
  },
  {
   "cell_type": "markdown",
   "id": "8c1debaf-6ee8-421d-95d7-9db3c096c2bf",
   "metadata": {},
   "source": [
    "### References\n",
    "\n",
    "Schubert, G., Turcotte, D. L., & Olson, P. (2001). Mantle Convection in the Earth and Planets (1st ed.). Cambridge University Press. https://doi.org/10.1017/CBO9780511612879\n"
   ]
  },
  {
   "cell_type": "code",
   "execution_count": null,
   "id": "a49e509c-fd26-4c01-9051-ba232c34b45f",
   "metadata": {},
   "outputs": [],
   "source": []
  }
 ],
 "metadata": {
  "kernelspec": {
   "display_name": "Python (Pixi)",
   "language": "python",
   "name": "pixi-kernel-python3"
  },
  "language_info": {
   "codemirror_mode": {
    "name": "ipython",
    "version": 3
   },
   "file_extension": ".py",
   "mimetype": "text/x-python",
   "name": "python",
   "nbconvert_exporter": "python",
   "pygments_lexer": "ipython3",
   "version": "3.12.11"
  }
 },
 "nbformat": 4,
 "nbformat_minor": 5
}
