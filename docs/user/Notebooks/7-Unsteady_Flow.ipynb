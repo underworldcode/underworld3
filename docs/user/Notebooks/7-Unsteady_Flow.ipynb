{
 "cells": [
  {
   "cell_type": "markdown",
   "id": "f7a4cbb2-6265-48bd-a646-0e1df6c569de",
   "metadata": {},
   "source": [
    "# Notebook 7: Unsteady Flow\n",
    "\n",
    "<div style=\"float: right; width: 40%; padding-left:10px;\">\n",
    "\n",
    "![](media/CompositeImage.png)\n",
    "\n",
    "_Flow in a pipe with inflow at the left boundary\n",
    "    after 50, 100, 150 timesteps (top to bottom) showing the\n",
    "    progression of the impulsive initial condition. For details,\n",
    "    see the notebook code._\n",
    "\n",
    "</div>\n",
    "\n",
    "We'll look at tracking an unsteady flow using a swarm of particle flow-tracers. In this case, the flow is unsteady because we solve the Navier-Stokes equation (that is, the flow has inertia) and we impose an impulsive, initial boundary velocity. \n",
    "\n",
    "To begin with, the set up follows the same path as all previous notebooks:\n",
    "  - Create a mesh\n",
    "  - Add some variables\n",
    "  - Create the solver we need (`NavierStokes` this time)\n",
    "  - Add boundary conditions and constitutive properties.\n",
    "\n",
    "We also add a projection solver to compute the vorticity of the flow as we did in Notebook 4 when we needed to compute a heat-flux (thermal gradient) term.\n",
    "\n",
    "To track the time evolution of the flow, we introduce a \"passive\" particle\n",
    "swarm. Passive, here, refers to the fact that the flow is not changed by the \n",
    "presence of the marker particles. \n",
    "\n",
    "In the time-loop we have to update the particle locations and we keep this\n",
    "as an explicity operation, in general, because it provide the opportunity for\n",
    "you to make changes or perform analyses. In this case, we are adding new particles near the inflow to track the flow.\n",
    "\n",
    "To learn more about flow goverened by the Navier-Stokes equation, it may be he helpful to read an elementary fluid dynamics textbook and reproduce some of the simple \"toy\" examples. For example, Acheson, 1990. \n"
   ]
  },
  {
   "cell_type": "code",
   "execution_count": 1,
   "id": "0974f1a1-60dd-4d52-9855-79e8030450e9",
   "metadata": {},
   "outputs": [],
   "source": [
    "#| echo: false  # Hide in html version\n",
    "\n",
    "# This is required to fix pyvista\n",
    "# (visualisation) crashes in interactive notebooks (including on binder)\n",
    "\n",
    "import nest_asyncio\n",
    "\n",
    "nest_asyncio.apply()"
   ]
  },
  {
   "cell_type": "code",
   "execution_count": 2,
   "id": "2a776236-a096-4061-9b39-e2e1df3771c4",
   "metadata": {},
   "outputs": [],
   "source": [
    "#| output: false # Suppress warnings in html version\n",
    "\n",
    "import numpy as np\n",
    "import sympy\n",
    "import underworld3 as uw"
   ]
  },
  {
   "cell_type": "code",
   "execution_count": 3,
   "id": "d17b5f9b-d00e-43c2-ba10-b9a8920aa3be",
   "metadata": {},
   "outputs": [],
   "source": [
    "res = 8\n",
    "width = 4\n",
    "\n",
    "reynolds_number = 1000\n",
    "\n",
    "mesh = uw.meshing.UnstructuredSimplexBox(\n",
    "    cellSize=1 / res,\n",
    "    minCoords=(0.0, 0.0),\n",
    "    maxCoords=(width, 1.0),\n",
    "    qdegree=3,\n",
    ")\n",
    "\n",
    "# Coordinate directions etc\n",
    "x, y = mesh.CoordinateSystem.X"
   ]
  },
  {
   "cell_type": "code",
   "execution_count": 4,
   "id": "377301f7-9596-4216-917f-fc5dca474c0d",
   "metadata": {},
   "outputs": [],
   "source": [
    "# Mesh variables for the unknowns\n",
    "\n",
    "v_soln = uw.discretisation.MeshVariable(\"V0\", mesh, 2, degree=2, varsymbol=r\"{v_0}\")\n",
    "p_soln = uw.discretisation.MeshVariable(\"p\", mesh, 1, degree=1, continuous=True)\n",
    "vorticity = uw.discretisation.MeshVariable(\n",
    "    \"omega\", mesh, 1, degree=1, continuous=True, varsymbol=r\"\\omega\"\n",
    ")"
   ]
  },
  {
   "cell_type": "code",
   "execution_count": 5,
   "id": "3f3c3875-4ba1-4e99-a793-3446af229b6d",
   "metadata": {},
   "outputs": [],
   "source": [
    "navier_stokes = uw.systems.NavierStokes(\n",
    "    mesh,\n",
    "    velocityField=v_soln,\n",
    "    pressureField=p_soln,\n",
    "    rho=reynolds_number,\n",
    "    order=1,\n",
    ")\n",
    "\n",
    "navier_stokes.constitutive_model = uw.constitutive_models.ViscousFlowModel\n",
    "navier_stokes.constitutive_model.Parameters.shear_viscosity_0 = 1\n",
    "navier_stokes.tolerance = 1.0e-3\n",
    "\n",
    "navier_stokes.petsc_options[\"fieldsplit_velocity_mg_coarse_pc_type\"] = \"svd\"\n",
    "\n",
    "navier_stokes.bodyforce = sympy.Matrix((0, 0))\n",
    "\n",
    "# Inflow boundary - incoming jet\n",
    "navier_stokes.add_essential_bc(((4 * y * (1 - y)) ** 8, 0), \"Left\")\n",
    "navier_stokes.add_essential_bc((0, 0), \"Bottom\")\n",
    "navier_stokes.add_essential_bc((0, 0), \"Top\")"
   ]
  },
  {
   "cell_type": "markdown",
   "id": "2fa71dd0-e95e-4276-b2c2-910cfd47225a",
   "metadata": {},
   "source": [
    "# The Navier-Stokes Solver\n",
    "\n",
    "The Navier-Stokes solver is a combination of a Stokes solver with time-dependent terms for both the Flux history and velocity history. These are orchestrated behind the scenes but some user-accessible options can be set, and full introspection is available using the `view` methods.\n",
    "\n",
    "The velocity history terms are implemented using `uw.systems.ddt` objects (Eulerian, Semi-Lagrangian (default), or Lagrangian). Use `navier_stokes.DFDt.view(class_documentation=True)` and `navier_stokes.DuDt.view(class_documentation=True)` for more information.\n",
    "\n",
    "The `ddt` objects implement the Adams-Moulton schemes for flux-terms (order=1 implemented the well-known Crank-Nicholson scheme). For the velocity history term, backward differentiation formulae are used. Introspection for the NS solver shows how the various terms combine to form the full set of equations. "
   ]
  },
  {
   "cell_type": "code",
   "execution_count": 6,
   "id": "0801ea39-d6b1-4dd5-9d85-84f630408e12",
   "metadata": {},
   "outputs": [
    {
     "data": {
      "text/markdown": [
       "\n",
       "# Navier-Stokes Equation Solver\n",
       "\n",
       "This class provides a solver for the Navier-Stokes (vector Advection-Diffusion) equation which is similar to that\n",
       "used in the Semi-Lagrange Crank-Nicholson method (Spiegelman & Katz, 2006) but using a\n",
       "distributed sampling of upstream values taken from an arbitrary swarm variable.\n",
       "\n",
       "$$\n",
       "\\color{Green}{\\underbrace{ \\Bigl[ \\frac{\\partial \\mathbf{u} }{\\partial t} +\n",
       "                                  \\left( \\mathbf{u} \\cdot \\nabla \\right) \\mathbf{u} \\ \\Bigr]}_{\\dot{\\mathbf{u}}}} -\n",
       "    \\nabla \\cdot\n",
       "        \\color{Blue}{\\underbrace{\\Bigl[ \\frac{\\boldsymbol{\\eta}}{2} \\left(\n",
       "                \\nabla \\mathbf{u} + \\nabla \\mathbf{u}^T \\right) - p \\mathbf{I} \\Bigr]}_{\\mathbf{F}}} =\n",
       "        \\color{Maroon}{\\underbrace{\\Bigl[ \\mathbf{f} \\Bigl] }_{\\mathbf{h}}}\n",
       "$$\n",
       "\n",
       "The term $\\mathbf{F}$ relates diffusive fluxes to gradients in the unknown $u$. The advective flux that results from having gradients along\n",
       "the direction of transport (given by the velocity vector field $\\mathbf{v}$ ) are included in the $\\dot{\\mathbf{u}}$ term.\n",
       "\n",
       "The term $\\dot{\\mathbf{u}}$ involves upstream sampling to find the value $u^{ * }$ which represents the value of $u$ at\n",
       "the beginning of the timestep. This is achieved using a `swarmVariable` that carries history information along the flow path.\n",
       "A dense sampling is required to achieve similar accuracy to the original SLCN approach but it allows the use of a single swarm\n",
       "for history tracking of variables with different interpolation order and for material tracking. The user is required to supply\n",
       "**and update** the swarmVariable representing $u^{ * }$\n",
       "\n",
       "## Properties\n",
       "\n",
       "  - The unknown is $u$.\n",
       "\n",
       "  - The history variable is $u^*$ and is provided in the form of a `sympy` function. It is the user's responsibility to keep this\n",
       "    variable updated.\n",
       "\n",
       "  - The diffusivity tensor, $\\kappa$ is provided by setting the `constitutive_model` property to\n",
       "    one of the scalar `uw.constitutive_models` classes and populating the parameters.\n",
       "    It is usually a constant or a function of position / time and may also be non-linear\n",
       "    or anisotropic.\n",
       "\n",
       "  - Volumetric sources of $u$ are specified using the $f$ property and can be any valid combination of `sympy` functions of position and\n",
       "    `meshVariable` or `swarmVariable` types.\n",
       "\n",
       "## Notes\n",
       "\n",
       "  - The solver requires relatively high order shape functions to accurately interpolate the history terms.\n",
       "    Spiegelman & Katz recommend cubic or higher degree for $u$ but this is not checked.\n",
       "\n",
       "## References\n",
       "\n",
       "Spiegelman, M., & Katz, R. F. (2006). A semi-Lagrangian Crank-Nicolson algorithm for the numerical solution\n",
       "of advection-diffusion problems. Geochemistry, Geophysics, Geosystems, 7(4). https://doi.org/10.1029/2005GC001073\n"
      ],
      "text/plain": [
       "<IPython.core.display.Markdown object>"
      ]
     },
     "metadata": {},
     "output_type": "display_data"
    }
   ],
   "source": [
    "uw.systems.NavierStokes.view()"
   ]
  },
  {
   "cell_type": "code",
   "execution_count": 7,
   "id": "9355f147-84f2-4cfe-aa8b-f67b015fcd9f",
   "metadata": {
    "scrolled": true
   },
   "outputs": [
    {
     "data": {
      "text/markdown": [
       "\n",
       "# Nodal-Swarm  Semi-Lagrangian History Manager:\n",
       "\n",
       "This manages the semi-Lagrangian update of a Mesh Variable, $\\psi$, on the mesh across timesteps.\n",
       "$$\\quad \\psi_p^{t-n\\Delta t} \\leftarrow \\psi_p^{t-(n-1)\\Delta t}\\quad$$\n",
       "$$\\quad \\psi_p^{t-(n-1)\\Delta t} \\leftarrow \\psi_p^{t-(n-2)\\Delta t} \\cdots\\quad$$\n",
       "$$\\quad \\psi_p^{t-\\Delta t} \\leftarrow \\psi_p^{t}$$\n"
      ],
      "text/plain": [
       "<IPython.core.display.Markdown object>"
      ]
     },
     "metadata": {},
     "output_type": "display_data"
    },
    {
     "data": {
      "text/markdown": [
       "---"
      ],
      "text/plain": [
       "<IPython.core.display.Markdown object>"
      ]
     },
     "metadata": {},
     "output_type": "display_data"
    },
    {
     "data": {
      "text/markdown": [
       "**Class**: <class 'underworld3.systems.ddt.SemiLagrangian'>"
      ],
      "text/plain": [
       "<IPython.core.display.Markdown object>"
      ]
     },
     "metadata": {},
     "output_type": "display_data"
    },
    {
     "data": {
      "text/markdown": [
       "# Details"
      ],
      "text/plain": [
       "<IPython.core.display.Markdown object>"
      ]
     },
     "metadata": {},
     "output_type": "display_data"
    },
    {
     "data": {
      "text/latex": [
       "$\\quad$History steps = 1"
      ],
      "text/plain": [
       "<IPython.core.display.Latex object>"
      ]
     },
     "metadata": {},
     "output_type": "display_data"
    }
   ],
   "source": [
    "navier_stokes.DuDt.view(class_documentation=True)"
   ]
  },
  {
   "cell_type": "code",
   "execution_count": 8,
   "id": "7ecf2fbf-f714-4c5f-9d99-bbe86b462da8",
   "metadata": {},
   "outputs": [],
   "source": [
    "vorticity_from_v = uw.systems.Projection(mesh, vorticity)\n",
    "vorticity_from_v.uw_function = mesh.vector.curl(v_soln.sym)\n",
    "vorticity_from_v.smoothing = 1.0e-3\n",
    "# nodal_vorticity_from_v.petsc_options.delValue(\"ksp_monitor\")"
   ]
  },
  {
   "cell_type": "code",
   "execution_count": 9,
   "id": "4948cff8-89da-4822-aee7-f2207aa513b0",
   "metadata": {},
   "outputs": [
    {
     "data": {
      "text/plain": [
       "100"
      ]
     },
     "execution_count": 9,
     "metadata": {},
     "output_type": "execute_result"
    }
   ],
   "source": [
    "passive_swarm = uw.swarm.Swarm(mesh=mesh)\n",
    "passive_swarm.populate(\n",
    "    fill_param=0,\n",
    ")\n",
    "\n",
    "# add new points at the inflow\n",
    "new_points = 100\n",
    "new_coords = np.array([0.0, 0.25] + 0.5 * np.random.random((new_points, 2)))\n",
    "passive_swarm.add_particles_with_coordinates(new_coords)"
   ]
  },
  {
   "cell_type": "code",
   "execution_count": 10,
   "id": "51f82885-0b41-4454-9953-ac7ea23e38e3",
   "metadata": {},
   "outputs": [],
   "source": [
    "navier_stokes.solve(timestep=0.01)\n",
    "vorticity_from_v.solve()"
   ]
  },
  {
   "cell_type": "code",
   "execution_count": 11,
   "id": "1c660972-f858-43bc-a6c4-5e09cc8f9fdf",
   "metadata": {},
   "outputs": [],
   "source": [
    "# Keep the initialisation separate\n",
    "# so we can run the loop below again without resetting\n",
    "# the timer.\n",
    "\n",
    "max_steps = 50\n",
    "timestep = 0\n",
    "elapsed_time = 0.0\n",
    "delta_t = 0.05"
   ]
  },
  {
   "cell_type": "code",
   "execution_count": 17,
   "id": "8db49d4c-9dcd-4920-901a-65cf8d0056db",
   "metadata": {
    "scrolled": true
   },
   "outputs": [
    {
     "name": "stdout",
     "output_type": "stream",
     "text": [
      "Timestep: 51, time 2.5500\n",
      "Timestep: 52, time 2.6000\n",
      "Timestep: 53, time 2.6500\n",
      "Timestep: 54, time 2.7000\n",
      "Timestep: 55, time 2.7500\n",
      "Timestep: 56, time 2.8000\n",
      "Timestep: 57, time 2.8500\n",
      "Timestep: 58, time 2.9000\n",
      "Timestep: 59, time 2.9500\n",
      "Timestep: 60, time 3.0000\n",
      "Timestep: 61, time 3.0500\n",
      "Timestep: 62, time 3.1000\n",
      "Timestep: 63, time 3.1500\n",
      "Timestep: 64, time 3.2000\n",
      "Timestep: 65, time 3.2500\n",
      "Timestep: 66, time 3.3000\n",
      "Timestep: 67, time 3.3500\n",
      "Timestep: 68, time 3.4000\n",
      "Timestep: 69, time 3.4500\n",
      "Timestep: 70, time 3.5000\n",
      "Timestep: 71, time 3.5500\n",
      "Timestep: 72, time 3.6000\n",
      "Timestep: 73, time 3.6500\n",
      "Timestep: 74, time 3.7000\n",
      "Timestep: 75, time 3.7500\n",
      "Timestep: 76, time 3.8000\n",
      "Timestep: 77, time 3.8500\n",
      "Timestep: 78, time 3.9000\n",
      "Timestep: 79, time 3.9500\n",
      "Timestep: 80, time 4.0000\n",
      "Timestep: 81, time 4.0500\n",
      "Timestep: 82, time 4.1000\n",
      "Timestep: 83, time 4.1500\n",
      "Timestep: 84, time 4.2000\n",
      "Timestep: 85, time 4.2500\n",
      "Timestep: 86, time 4.3000\n",
      "Timestep: 87, time 4.3500\n",
      "Timestep: 88, time 4.4000\n",
      "Timestep: 89, time 4.4500\n",
      "Timestep: 90, time 4.5000\n",
      "Timestep: 91, time 4.5500\n",
      "Timestep: 92, time 4.6000\n",
      "Timestep: 93, time 4.6500\n",
      "Timestep: 94, time 4.7000\n",
      "Timestep: 95, time 4.7500\n",
      "Timestep: 96, time 4.8000\n",
      "Timestep: 97, time 4.8500\n",
      "Timestep: 98, time 4.9000\n",
      "Timestep: 99, time 4.9500\n",
      "Timestep: 100, time 5.0000\n"
     ]
    }
   ],
   "source": [
    "for step in range(0, max_steps):\n",
    "\n",
    "    # Keep previous guess for solve\n",
    "    navier_stokes.solve(zero_init_guess=False, timestep=delta_t)\n",
    "    passive_swarm.advection(v_soln.sym, delta_t, order=2, corrector=False)\n",
    "\n",
    "    # Add new tracer particles near the inlet\n",
    "    new_points = 100\n",
    "    new_coords = np.array([0.0, 0.25] + 0.5 * np.random.random((new_points, 2)))\n",
    "    passive_swarm.add_particles_with_coordinates(new_coords)\n",
    "\n",
    "    # Save the data at every 10th step\n",
    "\n",
    "    if timestep % 10 == 0:\n",
    "        vorticity_from_v.solve()\n",
    "\n",
    "        mesh.write_timestep(\n",
    "            \"Example_7\",\n",
    "            meshUpdates=True,\n",
    "            meshVars=[p_soln, v_soln, vorticity],\n",
    "            outputPath=\"Example_output\",\n",
    "            index=timestep,\n",
    "        )\n",
    "\n",
    "        passive_swarm.write_timestep(\n",
    "            \"Example_7\",\n",
    "            \"passive_swarm\",\n",
    "            swarmVars=None,\n",
    "            outputPath=\"Example_output\",\n",
    "            index=timestep,\n",
    "            force_sequential=True,\n",
    "        )\n",
    "\n",
    "    timestep += 1\n",
    "    elapsed_time += delta_t\n",
    "\n",
    "    print(f\"Timestep: {timestep}, time {elapsed_time:.4f}\")"
   ]
  },
  {
   "cell_type": "code",
   "execution_count": null,
   "id": "811239df-5cb6-4e2e-a7af-7004fa9d3306",
   "metadata": {},
   "outputs": [],
   "source": []
  },
  {
   "cell_type": "code",
   "execution_count": 20,
   "id": "09e26f46-452e-49ec-8180-103163cc4fc2",
   "metadata": {},
   "outputs": [],
   "source": [
    "# visualise it\n",
    "\n",
    "if uw.mpi.size == 1:\n",
    "    import pyvista as pv\n",
    "    import underworld3.visualisation as vis\n",
    "\n",
    "    pvmesh = vis.mesh_to_pv_mesh(mesh)\n",
    "    pvmesh.point_data[\"P\"] = vis.scalar_fn_to_pv_points(pvmesh, p_soln.sym)\n",
    "    pvmesh.point_data[\"Omega\"] = vis.scalar_fn_to_pv_points(pvmesh, vorticity.sym)\n",
    "    pvmesh.point_data[\"V\"] = vis.vector_fn_to_pv_points(pvmesh, v_soln.sym)\n",
    "\n",
    "    pvmesh_v = vis.meshVariable_to_pv_mesh_object(v_soln, alpha=None)\n",
    "    pvmesh_v.point_data[\"V\"] = vis.vector_fn_to_pv_points(pvmesh_v, v_soln.sym)\n",
    "\n",
    "    skip = 1\n",
    "    points = np.zeros((mesh._centroids[::skip].shape[0], 3))\n",
    "    points[:, 0] = mesh._centroids[::skip, 0]\n",
    "    points[:, 1] = mesh._centroids[::skip, 1]\n",
    "    point_cloud = pv.PolyData(points)\n",
    "\n",
    "    pvstream = pvmesh.streamlines_from_source(\n",
    "        point_cloud,\n",
    "        vectors=\"V\",\n",
    "        integration_direction=\"both\",\n",
    "        integrator_type=45,\n",
    "        surface_streamlines=True,\n",
    "        initial_step_length=0.01,\n",
    "        max_time=1.0,\n",
    "        max_steps=500,\n",
    "    )\n",
    "\n",
    "    passive_swarm_points = uw.visualisation.swarm_to_pv_cloud(passive_swarm)\n",
    "\n",
    "    pl = pv.Plotter(window_size=(750, 750))\n",
    "\n",
    "    pl.add_mesh(\n",
    "        pvmesh,\n",
    "        cmap=\"RdBu_r\",\n",
    "        edge_color=\"Grey\",\n",
    "        edge_opacity=0.33,\n",
    "        scalars=\"Omega\",\n",
    "        show_edges=True,\n",
    "        use_transparency=False,\n",
    "        opacity=0.75,\n",
    "        show_scalar_bar=False,\n",
    "    )\n",
    "\n",
    "    # Optional: plot streamlines\n",
    "    pl.add_mesh(pvstream, opacity=0.3, show_scalar_bar=False, cmap=\"Greys_r\", render_lines_as_tubes=False)\n",
    "\n",
    "    pl.add_points(\n",
    "        passive_swarm_points,\n",
    "        color=\"Black\",\n",
    "        render_points_as_spheres=False,\n",
    "        point_size=4,\n",
    "        opacity=0.33,\n",
    "    )\n",
    "\n",
    "    # pl.add_arrows(pvmesh_v.points, pvmesh_v.point_data[\"V\"], mag=0.1)\n",
    "\n",
    "    # pl.camera_position = 'xy'\n",
    "    pl.camera.position = (2.0, 0.5, 4)\n",
    "\n",
    "    pl.export_html(f\"html5/ns_flow_plot_{timestep}.html\")\n",
    "\n",
    "    pl.screenshot(\n",
    "        f\"ns_flow_at_{timestep}.png\", window_size=(4000, 1000), return_img=False\n",
    "    )"
   ]
  },
  {
   "cell_type": "code",
   "execution_count": 23,
   "id": "3775ea27-4d60-4675-a1cc-a9ba016b5d73",
   "metadata": {
    "scrolled": true
   },
   "outputs": [
    {
     "data": {
      "text/html": [
       "\n",
       "        <iframe\n",
       "            width=\"1000\"\n",
       "            height=\"400\"\n",
       "            src=\"html5/ns_flow_plot_50.html\"\n",
       "            frameborder=\"0\"\n",
       "            allowfullscreen\n",
       "            \n",
       "        ></iframe>\n",
       "        "
      ],
      "text/plain": [
       "<IPython.lib.display.IFrame at 0x3802b2bd0>"
      ]
     },
     "execution_count": 23,
     "metadata": {},
     "output_type": "execute_result"
    }
   ],
   "source": [
    "#| fig-cap: \"Interactive Image: Time-dependent model output\"\n",
    "from IPython.display import IFrame\n",
    "\n",
    "IFrame(src=f\"html5/ns_flow_plot_50.html\", width=1000, height=400)"
   ]
  },
  {
   "cell_type": "markdown",
   "id": "c3d1d6ff-68ac-46c0-8a47-e29e95fed462",
   "metadata": {},
   "source": [
    "## Exercise - 7.1\n",
    "\n",
    "Now that you have seen the structure of the flow in this example, can you\n",
    "adjust the addition of particles to capture the structure more clearly ?\n",
    "\n",
    "This is a very low-resolution example. You can try increasing the resolution\n",
    "but you will see that this would benefit from running in parallel. In parallel \n",
    "we should remove all the visualisation and visualise the h5 output files \n",
    "when we are done. The rest of the code is parallel-safe.\n"
   ]
  },
  {
   "cell_type": "markdown",
   "id": "ad759450-2ace-4af2-99f2-624a387cda0c",
   "metadata": {},
   "source": [
    "### References\n",
    "\n",
    "Acheson, D. J. (1990). Elementary Fluid Dynamics. Oxford University PressOxford. https://doi.org/10.1093/oso/9780198596608.001.0001\n"
   ]
  },
  {
   "cell_type": "code",
   "execution_count": null,
   "id": "555d199d-7c97-435e-9131-9f05c1ce18ba",
   "metadata": {},
   "outputs": [],
   "source": []
  }
 ],
 "metadata": {
  "kernelspec": {
   "display_name": "Python (Pixi)",
   "language": "python",
   "name": "pixi-kernel-python3"
  },
  "language_info": {
   "codemirror_mode": {
    "name": "ipython",
    "version": 3
   },
   "file_extension": ".py",
   "mimetype": "text/x-python",
   "name": "python",
   "nbconvert_exporter": "python",
   "pygments_lexer": "ipython3",
   "version": "3.12.11"
  }
 },
 "nbformat": 4,
 "nbformat_minor": 5
}
